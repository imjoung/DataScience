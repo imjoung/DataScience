{
  "nbformat": 4,
  "nbformat_minor": 0,
  "metadata": {
    "colab": {
      "name": "05-LinearRegression 단순 회귀 분석 자동차 연비(MPG)예측.ipynb",
      "provenance": [],
      "collapsed_sections": [
        "LrQsu4QNSO3t",
        "aZ4rItsoTO1-",
        "WzmkTX4WUvSx",
        "MXG1n4M7VPz4",
        "Gwrf4VIOV7w7"
      ],
      "authorship_tag": "ABX9TyMn4ZpWQwAowVXnQUf54XGV",
      "include_colab_link": true
    },
    "kernelspec": {
      "name": "python3",
      "display_name": "Python 3"
    },
    "language_info": {
      "name": "python"
    }
  },
  "cells": [
    {
      "cell_type": "markdown",
      "metadata": {
        "id": "view-in-github",
        "colab_type": "text"
      },
      "source": [
        "<a href=\"https://colab.research.google.com/github/imjoung/DataScience/blob/main/ml/05_LinearRegression_%EB%8B%A8%EC%88%9C_%ED%9A%8C%EA%B7%80_%EB%B6%84%EC%84%9D_%EC%9E%90%EB%8F%99%EC%B0%A8_%EC%97%B0%EB%B9%84(MPG)%EC%98%88%EC%B8%A1.ipynb\" target=\"_parent\"><img src=\"https://colab.research.google.com/assets/colab-badge.svg\" alt=\"Open In Colab\"/></a>"
      ]
    },
    {
      "cell_type": "markdown",
      "metadata": {
        "id": "7HAWA5QBSHdz"
      },
      "source": [
        "문제 정의 : LinearRegression 단순 회귀 분석 사용하여 1970년대 후반과 1980년대 초반의 자동차 연비(MPG)를 예측"
      ]
    },
    {
      "cell_type": "code",
      "metadata": {
        "colab": {
          "base_uri": "https://localhost:8080/"
        },
        "id": "qf3hqZYlR0UY",
        "outputId": "4ace22c7-4409-4f19-c563-b366c454fbc1"
      },
      "source": [
        "# 기본 라이브러리 불러오기\n",
        "import pandas as pd\n",
        "import numpy as np\n",
        "import seaborn as sns\n",
        "\n",
        "#한글 깨짐 방지\n",
        "import matplotlib as mpl\n",
        "import matplotlib.pyplot as plt\n",
        " \n",
        "%config InlineBackend.figure_format = 'retina'\n",
        " \n",
        "!apt -qq -y install fonts-nanum\n",
        " \n",
        "import matplotlib.font_manager as fm\n",
        "\n",
        "fontpath = '/usr/share/fonts/truetype/nanum/NanumBarunGothic.ttf'\n",
        "font = fm.FontProperties(fname=fontpath, size=9)\n",
        "plt.rc('font', family='NanumBarunGothic') \n",
        "mpl.font_manager._rebuild()\n"
      ],
      "execution_count": 1,
      "outputs": [
        {
          "output_type": "stream",
          "text": [
            "fonts-nanum is already the newest version (20170925-1).\n",
            "0 upgraded, 0 newly installed, 0 to remove and 39 not upgraded.\n"
          ],
          "name": "stdout"
        }
      ]
    },
    {
      "cell_type": "markdown",
      "metadata": {
        "id": "LrQsu4QNSO3t"
      },
      "source": [
        "### step 1) 데이터 셋 준비하기"
      ]
    },
    {
      "cell_type": "code",
      "metadata": {
        "colab": {
          "base_uri": "https://localhost:8080/",
          "height": 288
        },
        "id": "zBURYVHlSx5u",
        "outputId": "5670227d-a99a-4946-f43a-b8b97ce885f0"
      },
      "source": [
        "# csv파일을 데이터프레임으로 변환\n",
        "df = pd.read_csv('auto-mpg.csv',header=None)\n",
        "# 열 이름 지정\n",
        "df.columns = ['mpg','cylinders','displacement','horsepower','weight',\n",
        "              'acceleration','model year','origin','name']\n",
        "# 데이터 살펴보기\n",
        "df.head()"
      ],
      "execution_count": 3,
      "outputs": [
        {
          "output_type": "execute_result",
          "data": {
            "text/html": [
              "<div>\n",
              "<style scoped>\n",
              "    .dataframe tbody tr th:only-of-type {\n",
              "        vertical-align: middle;\n",
              "    }\n",
              "\n",
              "    .dataframe tbody tr th {\n",
              "        vertical-align: top;\n",
              "    }\n",
              "\n",
              "    .dataframe thead th {\n",
              "        text-align: right;\n",
              "    }\n",
              "</style>\n",
              "<table border=\"1\" class=\"dataframe\">\n",
              "  <thead>\n",
              "    <tr style=\"text-align: right;\">\n",
              "      <th></th>\n",
              "      <th>mpg</th>\n",
              "      <th>cylinders</th>\n",
              "      <th>displacement</th>\n",
              "      <th>horsepower</th>\n",
              "      <th>weight</th>\n",
              "      <th>acceleration</th>\n",
              "      <th>model year</th>\n",
              "      <th>origin</th>\n",
              "      <th>name</th>\n",
              "    </tr>\n",
              "  </thead>\n",
              "  <tbody>\n",
              "    <tr>\n",
              "      <th>0</th>\n",
              "      <td>18.0</td>\n",
              "      <td>8</td>\n",
              "      <td>307.0</td>\n",
              "      <td>130.0</td>\n",
              "      <td>3504.0</td>\n",
              "      <td>12.0</td>\n",
              "      <td>70</td>\n",
              "      <td>1</td>\n",
              "      <td>chevrolet chevelle malibu</td>\n",
              "    </tr>\n",
              "    <tr>\n",
              "      <th>1</th>\n",
              "      <td>15.0</td>\n",
              "      <td>8</td>\n",
              "      <td>350.0</td>\n",
              "      <td>165.0</td>\n",
              "      <td>3693.0</td>\n",
              "      <td>11.5</td>\n",
              "      <td>70</td>\n",
              "      <td>1</td>\n",
              "      <td>buick skylark 320</td>\n",
              "    </tr>\n",
              "    <tr>\n",
              "      <th>2</th>\n",
              "      <td>18.0</td>\n",
              "      <td>8</td>\n",
              "      <td>318.0</td>\n",
              "      <td>150.0</td>\n",
              "      <td>3436.0</td>\n",
              "      <td>11.0</td>\n",
              "      <td>70</td>\n",
              "      <td>1</td>\n",
              "      <td>plymouth satellite</td>\n",
              "    </tr>\n",
              "    <tr>\n",
              "      <th>3</th>\n",
              "      <td>16.0</td>\n",
              "      <td>8</td>\n",
              "      <td>304.0</td>\n",
              "      <td>150.0</td>\n",
              "      <td>3433.0</td>\n",
              "      <td>12.0</td>\n",
              "      <td>70</td>\n",
              "      <td>1</td>\n",
              "      <td>amc rebel sst</td>\n",
              "    </tr>\n",
              "    <tr>\n",
              "      <th>4</th>\n",
              "      <td>17.0</td>\n",
              "      <td>8</td>\n",
              "      <td>302.0</td>\n",
              "      <td>140.0</td>\n",
              "      <td>3449.0</td>\n",
              "      <td>10.5</td>\n",
              "      <td>70</td>\n",
              "      <td>1</td>\n",
              "      <td>ford torino</td>\n",
              "    </tr>\n",
              "  </tbody>\n",
              "</table>\n",
              "</div>"
            ],
            "text/plain": [
              "    mpg  cylinders  displacement  ... model year  origin                       name\n",
              "0  18.0          8         307.0  ...         70       1  chevrolet chevelle malibu\n",
              "1  15.0          8         350.0  ...         70       1          buick skylark 320\n",
              "2  18.0          8         318.0  ...         70       1         plymouth satellite\n",
              "3  16.0          8         304.0  ...         70       1              amc rebel sst\n",
              "4  17.0          8         302.0  ...         70       1                ford torino\n",
              "\n",
              "[5 rows x 9 columns]"
            ]
          },
          "metadata": {
            "tags": []
          },
          "execution_count": 3
        }
      ]
    },
    {
      "cell_type": "markdown",
      "metadata": {
        "id": "aZ4rItsoTO1-"
      },
      "source": [
        "### step 2) 데이터 탐색 및 데이터 전처리"
      ]
    },
    {
      "cell_type": "code",
      "metadata": {
        "colab": {
          "base_uri": "https://localhost:8080/"
        },
        "id": "tVpQQUcvS-2t",
        "outputId": "501548ad-263b-439b-ff4b-72565cb8b2e0"
      },
      "source": [
        "# 데이터 자료형 확인\n",
        "df.info()"
      ],
      "execution_count": 4,
      "outputs": [
        {
          "output_type": "stream",
          "text": [
            "<class 'pandas.core.frame.DataFrame'>\n",
            "RangeIndex: 398 entries, 0 to 397\n",
            "Data columns (total 9 columns):\n",
            " #   Column        Non-Null Count  Dtype  \n",
            "---  ------        --------------  -----  \n",
            " 0   mpg           398 non-null    float64\n",
            " 1   cylinders     398 non-null    int64  \n",
            " 2   displacement  398 non-null    float64\n",
            " 3   horsepower    398 non-null    object \n",
            " 4   weight        398 non-null    float64\n",
            " 5   acceleration  398 non-null    float64\n",
            " 6   model year    398 non-null    int64  \n",
            " 7   origin        398 non-null    int64  \n",
            " 8   name          398 non-null    object \n",
            "dtypes: float64(4), int64(3), object(2)\n",
            "memory usage: 28.1+ KB\n"
          ],
          "name": "stdout"
        }
      ]
    },
    {
      "cell_type": "code",
      "metadata": {
        "colab": {
          "base_uri": "https://localhost:8080/"
        },
        "id": "eGjEmRqTTVdv",
        "outputId": "ef6660ce-08c7-4fb8-cbe3-0062fbe800d8"
      },
      "source": [
        "# horsepower 열의 자료형 변경 (문자열-> 숫자)\n",
        "df['horsepower'].unique()"
      ],
      "execution_count": 5,
      "outputs": [
        {
          "output_type": "execute_result",
          "data": {
            "text/plain": [
              "array(['130.0', '165.0', '150.0', '140.0', '198.0', '220.0', '215.0',\n",
              "       '225.0', '190.0', '170.0', '160.0', '95.00', '97.00', '85.00',\n",
              "       '88.00', '46.00', '87.00', '90.00', '113.0', '200.0', '210.0',\n",
              "       '193.0', '?', '100.0', '105.0', '175.0', '153.0', '180.0', '110.0',\n",
              "       '72.00', '86.00', '70.00', '76.00', '65.00', '69.00', '60.00',\n",
              "       '80.00', '54.00', '208.0', '155.0', '112.0', '92.00', '145.0',\n",
              "       '137.0', '158.0', '167.0', '94.00', '107.0', '230.0', '49.00',\n",
              "       '75.00', '91.00', '122.0', '67.00', '83.00', '78.00', '52.00',\n",
              "       '61.00', '93.00', '148.0', '129.0', '96.00', '71.00', '98.00',\n",
              "       '115.0', '53.00', '81.00', '79.00', '120.0', '152.0', '102.0',\n",
              "       '108.0', '68.00', '58.00', '149.0', '89.00', '63.00', '48.00',\n",
              "       '66.00', '139.0', '103.0', '125.0', '133.0', '138.0', '135.0',\n",
              "       '142.0', '77.00', '62.00', '132.0', '84.00', '64.00', '74.00',\n",
              "       '116.0', '82.00'], dtype=object)"
            ]
          },
          "metadata": {
            "tags": []
          },
          "execution_count": 5
        }
      ]
    },
    {
      "cell_type": "code",
      "metadata": {
        "colab": {
          "base_uri": "https://localhost:8080/"
        },
        "id": "OWQ1udv5Tt0f",
        "outputId": "a2c77fdb-5ee4-4f2e-9a38-271db393a949"
      },
      "source": [
        "# '?'를 np.nan으로 변경\n",
        "df['horsepower'].replace('?',np.nan,inplace=True)\n",
        "df.info()"
      ],
      "execution_count": 8,
      "outputs": [
        {
          "output_type": "stream",
          "text": [
            "<class 'pandas.core.frame.DataFrame'>\n",
            "RangeIndex: 398 entries, 0 to 397\n",
            "Data columns (total 9 columns):\n",
            " #   Column        Non-Null Count  Dtype  \n",
            "---  ------        --------------  -----  \n",
            " 0   mpg           398 non-null    float64\n",
            " 1   cylinders     398 non-null    int64  \n",
            " 2   displacement  398 non-null    float64\n",
            " 3   horsepower    392 non-null    object \n",
            " 4   weight        398 non-null    float64\n",
            " 5   acceleration  398 non-null    float64\n",
            " 6   model year    398 non-null    int64  \n",
            " 7   origin        398 non-null    int64  \n",
            " 8   name          398 non-null    object \n",
            "dtypes: float64(4), int64(3), object(2)\n",
            "memory usage: 28.1+ KB\n"
          ],
          "name": "stdout"
        }
      ]
    },
    {
      "cell_type": "code",
      "metadata": {
        "colab": {
          "base_uri": "https://localhost:8080/"
        },
        "id": "bGGQFREqUATB",
        "outputId": "bb18a4d4-b7c5-41e6-e94d-224bdb4ddb80"
      },
      "source": [
        "# 누락 데이터를 삭제\n",
        "df.dropna(subset=['horsepower'],axis=0,inplace=True)\n",
        "df.info()"
      ],
      "execution_count": 9,
      "outputs": [
        {
          "output_type": "stream",
          "text": [
            "<class 'pandas.core.frame.DataFrame'>\n",
            "Int64Index: 392 entries, 0 to 397\n",
            "Data columns (total 9 columns):\n",
            " #   Column        Non-Null Count  Dtype  \n",
            "---  ------        --------------  -----  \n",
            " 0   mpg           392 non-null    float64\n",
            " 1   cylinders     392 non-null    int64  \n",
            " 2   displacement  392 non-null    float64\n",
            " 3   horsepower    392 non-null    object \n",
            " 4   weight        392 non-null    float64\n",
            " 5   acceleration  392 non-null    float64\n",
            " 6   model year    392 non-null    int64  \n",
            " 7   origin        392 non-null    int64  \n",
            " 8   name          392 non-null    object \n",
            "dtypes: float64(4), int64(3), object(2)\n",
            "memory usage: 30.6+ KB\n"
          ],
          "name": "stdout"
        }
      ]
    },
    {
      "cell_type": "code",
      "metadata": {
        "colab": {
          "base_uri": "https://localhost:8080/"
        },
        "id": "deC6juFtUadq",
        "outputId": "19640f95-ab18-4033-c8b1-55752876d3c2"
      },
      "source": [
        "# 문자열 -> 숫자(실수타입)로 변환\n",
        "df['horsepower'] = df['horsepower'].astype('float')\n",
        "df.info()"
      ],
      "execution_count": 12,
      "outputs": [
        {
          "output_type": "stream",
          "text": [
            "<class 'pandas.core.frame.DataFrame'>\n",
            "Int64Index: 392 entries, 0 to 397\n",
            "Data columns (total 9 columns):\n",
            " #   Column        Non-Null Count  Dtype  \n",
            "---  ------        --------------  -----  \n",
            " 0   mpg           392 non-null    float64\n",
            " 1   cylinders     392 non-null    int64  \n",
            " 2   displacement  392 non-null    float64\n",
            " 3   horsepower    392 non-null    float64\n",
            " 4   weight        392 non-null    float64\n",
            " 5   acceleration  392 non-null    float64\n",
            " 6   model year    392 non-null    int64  \n",
            " 7   origin        392 non-null    int64  \n",
            " 8   name          392 non-null    object \n",
            "dtypes: float64(5), int64(3), object(1)\n",
            "memory usage: 30.6+ KB\n"
          ],
          "name": "stdout"
        }
      ]
    },
    {
      "cell_type": "markdown",
      "metadata": {
        "id": "WzmkTX4WUvSx"
      },
      "source": [
        "### step 3) 속성(feature 또는 variable) 선택"
      ]
    },
    {
      "cell_type": "code",
      "metadata": {
        "colab": {
          "base_uri": "https://localhost:8080/",
          "height": 204
        },
        "id": "tm40S4xgUnhU",
        "outputId": "459a49f8-aba2-4cad-cb58-2f9114b42cdf"
      },
      "source": [
        "#분석에 활용할 속성을 선택 (연비, 실린더, 마력, 중량)\n",
        "ndf = df[['mpg','cylinders','horsepower','weight']]\n",
        "ndf.head()"
      ],
      "execution_count": 13,
      "outputs": [
        {
          "output_type": "execute_result",
          "data": {
            "text/html": [
              "<div>\n",
              "<style scoped>\n",
              "    .dataframe tbody tr th:only-of-type {\n",
              "        vertical-align: middle;\n",
              "    }\n",
              "\n",
              "    .dataframe tbody tr th {\n",
              "        vertical-align: top;\n",
              "    }\n",
              "\n",
              "    .dataframe thead th {\n",
              "        text-align: right;\n",
              "    }\n",
              "</style>\n",
              "<table border=\"1\" class=\"dataframe\">\n",
              "  <thead>\n",
              "    <tr style=\"text-align: right;\">\n",
              "      <th></th>\n",
              "      <th>mpg</th>\n",
              "      <th>cylinders</th>\n",
              "      <th>horsepower</th>\n",
              "      <th>weight</th>\n",
              "    </tr>\n",
              "  </thead>\n",
              "  <tbody>\n",
              "    <tr>\n",
              "      <th>0</th>\n",
              "      <td>18.0</td>\n",
              "      <td>8</td>\n",
              "      <td>130.0</td>\n",
              "      <td>3504.0</td>\n",
              "    </tr>\n",
              "    <tr>\n",
              "      <th>1</th>\n",
              "      <td>15.0</td>\n",
              "      <td>8</td>\n",
              "      <td>165.0</td>\n",
              "      <td>3693.0</td>\n",
              "    </tr>\n",
              "    <tr>\n",
              "      <th>2</th>\n",
              "      <td>18.0</td>\n",
              "      <td>8</td>\n",
              "      <td>150.0</td>\n",
              "      <td>3436.0</td>\n",
              "    </tr>\n",
              "    <tr>\n",
              "      <th>3</th>\n",
              "      <td>16.0</td>\n",
              "      <td>8</td>\n",
              "      <td>150.0</td>\n",
              "      <td>3433.0</td>\n",
              "    </tr>\n",
              "    <tr>\n",
              "      <th>4</th>\n",
              "      <td>17.0</td>\n",
              "      <td>8</td>\n",
              "      <td>140.0</td>\n",
              "      <td>3449.0</td>\n",
              "    </tr>\n",
              "  </tbody>\n",
              "</table>\n",
              "</div>"
            ],
            "text/plain": [
              "    mpg  cylinders  horsepower  weight\n",
              "0  18.0          8       130.0  3504.0\n",
              "1  15.0          8       165.0  3693.0\n",
              "2  18.0          8       150.0  3436.0\n",
              "3  16.0          8       150.0  3433.0\n",
              "4  17.0          8       140.0  3449.0"
            ]
          },
          "metadata": {
            "tags": []
          },
          "execution_count": 13
        }
      ]
    },
    {
      "cell_type": "markdown",
      "metadata": {
        "id": "MXG1n4M7VPz4"
      },
      "source": [
        "### step 4) 데이터셋 구분 - 훈련용/검증용"
      ]
    },
    {
      "cell_type": "code",
      "metadata": {
        "id": "xGtR3DAmVJY-"
      },
      "source": [
        "# 속성(변수) 선택 -> 단순회귀\n",
        "X = ndf[['weight']]\n",
        "y = ndf['mpg']"
      ],
      "execution_count": 15,
      "outputs": []
    },
    {
      "cell_type": "code",
      "metadata": {
        "id": "T-fOjubEVmSV"
      },
      "source": [
        "from sklearn.model_selection import train_test_split\n",
        "X_train,X_test,y_train,y_test = train_test_split(X, #독립변수\n",
        "                                                 y, #종속변수\n",
        "                                                 test_size=0.3, #검증 30%\n",
        "                                                 random_state=10) #랜덤추출값"
      ],
      "execution_count": 16,
      "outputs": []
    },
    {
      "cell_type": "markdown",
      "metadata": {
        "id": "Gwrf4VIOV7w7"
      },
      "source": [
        "### step 5) 단순 회귀분석 모형 - sklearn 사용"
      ]
    },
    {
      "cell_type": "code",
      "metadata": {
        "id": "3-kO0pKQV630"
      },
      "source": [
        "# sklearn 라이브러리에서 선형회귀분석 모듈 가져오기\n",
        "from sklearn.linear_model import LinearRegression\n",
        "\n",
        "# 단순 회귀분석 모형 객체 생성 후 학습 시키기\n",
        "lr = LinearRegression().fit(X_train,y_train)"
      ],
      "execution_count": 18,
      "outputs": []
    },
    {
      "cell_type": "markdown",
      "metadata": {
        "id": "KuJDAOJVWMYs"
      },
      "source": [
        "### step 6) 성능 평가하기"
      ]
    },
    {
      "cell_type": "code",
      "metadata": {
        "colab": {
          "base_uri": "https://localhost:8080/"
        },
        "id": "ZLa0BrfxWKNw",
        "outputId": "3a13d775-9ba9-40ba-e9ab-743f08079d28"
      },
      "source": [
        "# 학습을 마친 모형에 test data를 적용하여 결정계수 (R-제곱) 계산\n",
        "# -> 결정계수 값이 클수록 모형의 예측 능력이 좋다고 판단\n",
        "r_square = lr.score(X_test,y_test)\n",
        "r_square"
      ],
      "execution_count": 20,
      "outputs": [
        {
          "output_type": "execute_result",
          "data": {
            "text/plain": [
              "0.6822458558299322"
            ]
          },
          "metadata": {
            "tags": []
          },
          "execution_count": 20
        }
      ]
    },
    {
      "cell_type": "code",
      "metadata": {
        "id": "QiL1hoYgWw-s"
      },
      "source": [
        ""
      ],
      "execution_count": null,
      "outputs": []
    }
  ]
}