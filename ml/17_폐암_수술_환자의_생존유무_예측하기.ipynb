{
  "nbformat": 4,
  "nbformat_minor": 0,
  "metadata": {
    "colab": {
      "name": "17-폐암 수술 환자의 생존유무 예측하기.ipynb",
      "provenance": [],
      "collapsed_sections": [],
      "authorship_tag": "ABX9TyMWc6fIobbEhNXq36m/jrFX",
      "include_colab_link": true
    },
    "kernelspec": {
      "name": "python3",
      "display_name": "Python 3"
    },
    "language_info": {
      "name": "python"
    }
  },
  "cells": [
    {
      "cell_type": "markdown",
      "metadata": {
        "id": "view-in-github",
        "colab_type": "text"
      },
      "source": [
        "<a href=\"https://colab.research.google.com/github/imjoung/DataScience/blob/main/ml/17_%ED%8F%90%EC%95%94_%EC%88%98%EC%88%A0_%ED%99%98%EC%9E%90%EC%9D%98_%EC%83%9D%EC%A1%B4%EC%9C%A0%EB%AC%B4_%EC%98%88%EC%B8%A1%ED%95%98%EA%B8%B0.ipynb\" target=\"_parent\"><img src=\"https://colab.research.google.com/assets/colab-badge.svg\" alt=\"Open In Colab\"/></a>"
      ]
    },
    {
      "cell_type": "markdown",
      "metadata": {
        "id": "ABJE60zajbhP"
      },
      "source": [
        "폐암 수술 환자의 생존유무 예측하기 (1: 생존, 0: 사망)"
      ]
    },
    {
      "cell_type": "markdown",
      "metadata": {
        "id": "jcVB5g-wjqie"
      },
      "source": [
        "데이터 준비하기"
      ]
    },
    {
      "cell_type": "code",
      "metadata": {
        "id": "f4mFOCQ3jQ3W"
      },
      "source": [
        "import numpy as np\n",
        "import tensorflow as tf\n",
        "from keras.models import Sequential\n",
        "from keras.layers import Dense\n",
        "\n",
        "#랜덤 시드 고정시키기\n",
        "np.random.seed(5)"
      ],
      "execution_count": null,
      "outputs": []
    },
    {
      "cell_type": "code",
      "metadata": {
        "colab": {
          "base_uri": "https://localhost:8080/"
        },
        "id": "-e3Tzoxrjvi-",
        "outputId": "f2dc768b-09ee-40b7-93cc-f59bae63291f"
      },
      "source": [
        "dataset = np.loadtxt('/content/ThoraricSurgery.csv', delimiter=',')\n",
        "dataset.shape"
      ],
      "execution_count": null,
      "outputs": [
        {
          "output_type": "execute_result",
          "data": {
            "text/plain": [
              "(470, 18)"
            ]
          },
          "metadata": {
            "tags": []
          },
          "execution_count": 3
        }
      ]
    },
    {
      "cell_type": "markdown",
      "metadata": {
        "id": "KPzMw14xkNeS"
      },
      "source": [
        "데이터셋 생성하기 \n",
        "<br> - 입력(속성값 17개; 문제집)\n",
        "<br> - 출력(판정결과 1개; 정답지) 변수로 분리"
      ]
    },
    {
      "cell_type": "code",
      "metadata": {
        "id": "79ugX-fWj3Ue"
      },
      "source": [
        "# 학습 데이터 420개 가져오기\n",
        "X_train = dataset[:420,0:17]\n",
        "y_train = dataset[:420,17]\n",
        "\n",
        "# 테스트 데이터 50개 가져오기\n",
        "X_test = dataset[420:,0:17]\n",
        "y_test = dataset[420:,17]"
      ],
      "execution_count": null,
      "outputs": []
    },
    {
      "cell_type": "markdown",
      "metadata": {
        "id": "tCmOKpbmkw9p"
      },
      "source": [
        "모델 구성하기"
      ]
    },
    {
      "cell_type": "code",
      "metadata": {
        "id": "jEPpvoovklz-"
      },
      "source": [
        "model = Sequential()\n",
        "model.add(Dense(30,input_dim=17,activation='relu'))\n",
        "model.add(Dense(20, activation='relu'))\n",
        "model.add(Dense(10, activation='relu'))\n",
        "model.add(Dense(1, activation='sigmoid'))"
      ],
      "execution_count": null,
      "outputs": []
    },
    {
      "cell_type": "markdown",
      "metadata": {
        "id": "S105eBBllo5t"
      },
      "source": [
        "모델 설정하기"
      ]
    },
    {
      "cell_type": "code",
      "metadata": {
        "id": "JYOrzVTClHof"
      },
      "source": [
        "model.compile(loss='binary_crossentropy',\n",
        "              optimizer='adam',\n",
        "              metrics=['accuracy'])"
      ],
      "execution_count": null,
      "outputs": []
    },
    {
      "cell_type": "markdown",
      "metadata": {
        "id": "ePScSZfqlvW-"
      },
      "source": [
        "모델 학습하기"
      ]
    },
    {
      "cell_type": "code",
      "metadata": {
        "colab": {
          "base_uri": "https://localhost:8080/"
        },
        "id": "5MVc4MA7lwG_",
        "outputId": "6e1d83e2-0235-4807-ac68-9cc454a1ef6f"
      },
      "source": [
        "history = model.fit(X_train,y_train,\n",
        "                    epochs=100,\n",
        "                    batch_size=64)"
      ],
      "execution_count": null,
      "outputs": [
        {
          "output_type": "stream",
          "text": [
            "Epoch 1/100\n",
            "7/7 [==============================] - 12s 3ms/step - loss: 4.4932 - accuracy: 0.2191\n",
            "Epoch 2/100\n",
            "7/7 [==============================] - 0s 3ms/step - loss: 1.0921 - accuracy: 0.7943\n",
            "Epoch 3/100\n",
            "7/7 [==============================] - 0s 2ms/step - loss: 1.0674 - accuracy: 0.8287\n",
            "Epoch 4/100\n",
            "7/7 [==============================] - 0s 3ms/step - loss: 0.8725 - accuracy: 0.8391\n",
            "Epoch 5/100\n",
            "7/7 [==============================] - 0s 2ms/step - loss: 0.5721 - accuracy: 0.8204\n",
            "Epoch 6/100\n",
            "7/7 [==============================] - 0s 2ms/step - loss: 0.5343 - accuracy: 0.8203\n",
            "Epoch 7/100\n",
            "7/7 [==============================] - 0s 2ms/step - loss: 0.4219 - accuracy: 0.8642\n",
            "Epoch 8/100\n",
            "7/7 [==============================] - 0s 2ms/step - loss: 0.4341 - accuracy: 0.8397\n",
            "Epoch 9/100\n",
            "7/7 [==============================] - 0s 3ms/step - loss: 0.4655 - accuracy: 0.8251\n",
            "Epoch 10/100\n",
            "7/7 [==============================] - 0s 2ms/step - loss: 0.4448 - accuracy: 0.8475\n",
            "Epoch 11/100\n",
            "7/7 [==============================] - 0s 2ms/step - loss: 0.4440 - accuracy: 0.8381\n",
            "Epoch 12/100\n",
            "7/7 [==============================] - 0s 2ms/step - loss: 0.4276 - accuracy: 0.8496\n",
            "Epoch 13/100\n",
            "7/7 [==============================] - 0s 2ms/step - loss: 0.3791 - accuracy: 0.8749\n",
            "Epoch 14/100\n",
            "7/7 [==============================] - 0s 2ms/step - loss: 0.4327 - accuracy: 0.8500\n",
            "Epoch 15/100\n",
            "7/7 [==============================] - 0s 2ms/step - loss: 0.4674 - accuracy: 0.8352\n",
            "Epoch 16/100\n",
            "7/7 [==============================] - 0s 2ms/step - loss: 0.4586 - accuracy: 0.8303\n",
            "Epoch 17/100\n",
            "7/7 [==============================] - 0s 3ms/step - loss: 0.4519 - accuracy: 0.8379\n",
            "Epoch 18/100\n",
            "7/7 [==============================] - 0s 2ms/step - loss: 0.4274 - accuracy: 0.8492\n",
            "Epoch 19/100\n",
            "7/7 [==============================] - 0s 2ms/step - loss: 0.3867 - accuracy: 0.8696\n",
            "Epoch 20/100\n",
            "7/7 [==============================] - 0s 3ms/step - loss: 0.4008 - accuracy: 0.8608\n",
            "Epoch 21/100\n",
            "7/7 [==============================] - 0s 2ms/step - loss: 0.4189 - accuracy: 0.8506\n",
            "Epoch 22/100\n",
            "7/7 [==============================] - 0s 3ms/step - loss: 0.3557 - accuracy: 0.8895\n",
            "Epoch 23/100\n",
            "7/7 [==============================] - 0s 2ms/step - loss: 0.4144 - accuracy: 0.8577\n",
            "Epoch 24/100\n",
            "7/7 [==============================] - 0s 2ms/step - loss: 0.3950 - accuracy: 0.8636\n",
            "Epoch 25/100\n",
            "7/7 [==============================] - 0s 2ms/step - loss: 0.3870 - accuracy: 0.8705\n",
            "Epoch 26/100\n",
            "7/7 [==============================] - 0s 2ms/step - loss: 0.3805 - accuracy: 0.8752\n",
            "Epoch 27/100\n",
            "7/7 [==============================] - 0s 3ms/step - loss: 0.4159 - accuracy: 0.8526\n",
            "Epoch 28/100\n",
            "7/7 [==============================] - 0s 3ms/step - loss: 0.4243 - accuracy: 0.8481\n",
            "Epoch 29/100\n",
            "7/7 [==============================] - 0s 3ms/step - loss: 0.4032 - accuracy: 0.8603\n",
            "Epoch 30/100\n",
            "7/7 [==============================] - 0s 3ms/step - loss: 0.4137 - accuracy: 0.8540\n",
            "Epoch 31/100\n",
            "7/7 [==============================] - 0s 3ms/step - loss: 0.4471 - accuracy: 0.8369\n",
            "Epoch 32/100\n",
            "7/7 [==============================] - 0s 3ms/step - loss: 0.3974 - accuracy: 0.8615\n",
            "Epoch 33/100\n",
            "7/7 [==============================] - 0s 2ms/step - loss: 0.3981 - accuracy: 0.8651\n",
            "Epoch 34/100\n",
            "7/7 [==============================] - 0s 3ms/step - loss: 0.3753 - accuracy: 0.8735\n",
            "Epoch 35/100\n",
            "7/7 [==============================] - 0s 2ms/step - loss: 0.4091 - accuracy: 0.8621\n",
            "Epoch 36/100\n",
            "7/7 [==============================] - 0s 2ms/step - loss: 0.3897 - accuracy: 0.8700\n",
            "Epoch 37/100\n",
            "7/7 [==============================] - 0s 4ms/step - loss: 0.4122 - accuracy: 0.8542\n",
            "Epoch 38/100\n",
            "7/7 [==============================] - 0s 2ms/step - loss: 0.3900 - accuracy: 0.8625\n",
            "Epoch 39/100\n",
            "7/7 [==============================] - 0s 2ms/step - loss: 0.4075 - accuracy: 0.8543\n",
            "Epoch 40/100\n",
            "7/7 [==============================] - 0s 2ms/step - loss: 0.4161 - accuracy: 0.8511\n",
            "Epoch 41/100\n",
            "7/7 [==============================] - 0s 2ms/step - loss: 0.4231 - accuracy: 0.8493\n",
            "Epoch 42/100\n",
            "7/7 [==============================] - 0s 2ms/step - loss: 0.4328 - accuracy: 0.8552\n",
            "Epoch 43/100\n",
            "7/7 [==============================] - 0s 2ms/step - loss: 0.4119 - accuracy: 0.8493\n",
            "Epoch 44/100\n",
            "7/7 [==============================] - 0s 3ms/step - loss: 0.4128 - accuracy: 0.8522\n",
            "Epoch 45/100\n",
            "7/7 [==============================] - 0s 2ms/step - loss: 0.4155 - accuracy: 0.8465\n",
            "Epoch 46/100\n",
            "7/7 [==============================] - 0s 3ms/step - loss: 0.4086 - accuracy: 0.8545\n",
            "Epoch 47/100\n",
            "7/7 [==============================] - 0s 3ms/step - loss: 0.4102 - accuracy: 0.8535\n",
            "Epoch 48/100\n",
            "7/7 [==============================] - 0s 3ms/step - loss: 0.3955 - accuracy: 0.8635\n",
            "Epoch 49/100\n",
            "7/7 [==============================] - 0s 3ms/step - loss: 0.4332 - accuracy: 0.8440\n",
            "Epoch 50/100\n",
            "7/7 [==============================] - 0s 3ms/step - loss: 0.4103 - accuracy: 0.8523\n",
            "Epoch 51/100\n",
            "7/7 [==============================] - 0s 3ms/step - loss: 0.4169 - accuracy: 0.8520\n",
            "Epoch 52/100\n",
            "7/7 [==============================] - 0s 3ms/step - loss: 0.4577 - accuracy: 0.8340\n",
            "Epoch 53/100\n",
            "7/7 [==============================] - 0s 5ms/step - loss: 0.4041 - accuracy: 0.8555\n",
            "Epoch 54/100\n",
            "7/7 [==============================] - 0s 2ms/step - loss: 0.4187 - accuracy: 0.8488\n",
            "Epoch 55/100\n",
            "7/7 [==============================] - 0s 3ms/step - loss: 0.4245 - accuracy: 0.8501\n",
            "Epoch 56/100\n",
            "7/7 [==============================] - 0s 2ms/step - loss: 0.3820 - accuracy: 0.8737\n",
            "Epoch 57/100\n",
            "7/7 [==============================] - 0s 2ms/step - loss: 0.4057 - accuracy: 0.8629\n",
            "Epoch 58/100\n",
            "7/7 [==============================] - 0s 3ms/step - loss: 0.3647 - accuracy: 0.8718\n",
            "Epoch 59/100\n",
            "7/7 [==============================] - 0s 2ms/step - loss: 0.4029 - accuracy: 0.8586\n",
            "Epoch 60/100\n",
            "7/7 [==============================] - 0s 3ms/step - loss: 0.3925 - accuracy: 0.8645\n",
            "Epoch 61/100\n",
            "7/7 [==============================] - 0s 2ms/step - loss: 0.4188 - accuracy: 0.8448\n",
            "Epoch 62/100\n",
            "7/7 [==============================] - 0s 3ms/step - loss: 0.4271 - accuracy: 0.8466\n",
            "Epoch 63/100\n",
            "7/7 [==============================] - 0s 3ms/step - loss: 0.3875 - accuracy: 0.8657\n",
            "Epoch 64/100\n",
            "7/7 [==============================] - 0s 3ms/step - loss: 0.4177 - accuracy: 0.8533\n",
            "Epoch 65/100\n",
            "7/7 [==============================] - 0s 2ms/step - loss: 0.4110 - accuracy: 0.8751\n",
            "Epoch 66/100\n",
            "7/7 [==============================] - 0s 4ms/step - loss: 0.4208 - accuracy: 0.8519\n",
            "Epoch 67/100\n",
            "7/7 [==============================] - 0s 2ms/step - loss: 0.4000 - accuracy: 0.8593\n",
            "Epoch 68/100\n",
            "7/7 [==============================] - 0s 2ms/step - loss: 0.4069 - accuracy: 0.8615\n",
            "Epoch 69/100\n",
            "7/7 [==============================] - 0s 2ms/step - loss: 0.3878 - accuracy: 0.8611\n",
            "Epoch 70/100\n",
            "7/7 [==============================] - 0s 3ms/step - loss: 0.3767 - accuracy: 0.8761\n",
            "Epoch 71/100\n",
            "7/7 [==============================] - 0s 2ms/step - loss: 0.4182 - accuracy: 0.8451\n",
            "Epoch 72/100\n",
            "7/7 [==============================] - 0s 3ms/step - loss: 0.4140 - accuracy: 0.8478\n",
            "Epoch 73/100\n",
            "7/7 [==============================] - 0s 3ms/step - loss: 0.3839 - accuracy: 0.8650\n",
            "Epoch 74/100\n",
            "7/7 [==============================] - 0s 3ms/step - loss: 0.3824 - accuracy: 0.8685\n",
            "Epoch 75/100\n",
            "7/7 [==============================] - 0s 3ms/step - loss: 0.4153 - accuracy: 0.8448\n",
            "Epoch 76/100\n",
            "7/7 [==============================] - 0s 4ms/step - loss: 0.3911 - accuracy: 0.8673\n",
            "Epoch 77/100\n",
            "7/7 [==============================] - 0s 2ms/step - loss: 0.3888 - accuracy: 0.8694\n",
            "Epoch 78/100\n",
            "7/7 [==============================] - 0s 3ms/step - loss: 0.3628 - accuracy: 0.8745\n",
            "Epoch 79/100\n",
            "7/7 [==============================] - 0s 3ms/step - loss: 0.4083 - accuracy: 0.8518\n",
            "Epoch 80/100\n",
            "7/7 [==============================] - 0s 3ms/step - loss: 0.4217 - accuracy: 0.8428\n",
            "Epoch 81/100\n",
            "7/7 [==============================] - 0s 2ms/step - loss: 0.3949 - accuracy: 0.8520\n",
            "Epoch 82/100\n",
            "7/7 [==============================] - 0s 3ms/step - loss: 0.4168 - accuracy: 0.8445\n",
            "Epoch 83/100\n",
            "7/7 [==============================] - 0s 2ms/step - loss: 0.4155 - accuracy: 0.8461\n",
            "Epoch 84/100\n",
            "7/7 [==============================] - 0s 4ms/step - loss: 0.4002 - accuracy: 0.8606\n",
            "Epoch 85/100\n",
            "7/7 [==============================] - 0s 2ms/step - loss: 0.3758 - accuracy: 0.8619\n",
            "Epoch 86/100\n",
            "7/7 [==============================] - 0s 3ms/step - loss: 0.4067 - accuracy: 0.8585\n",
            "Epoch 87/100\n",
            "7/7 [==============================] - 0s 2ms/step - loss: 0.3862 - accuracy: 0.8703\n",
            "Epoch 88/100\n",
            "7/7 [==============================] - 0s 3ms/step - loss: 0.4073 - accuracy: 0.8570\n",
            "Epoch 89/100\n",
            "7/7 [==============================] - 0s 3ms/step - loss: 0.4421 - accuracy: 0.8423\n",
            "Epoch 90/100\n",
            "7/7 [==============================] - 0s 2ms/step - loss: 0.3818 - accuracy: 0.8667\n",
            "Epoch 91/100\n",
            "7/7 [==============================] - 0s 2ms/step - loss: 0.4053 - accuracy: 0.8528\n",
            "Epoch 92/100\n",
            "7/7 [==============================] - 0s 2ms/step - loss: 0.4001 - accuracy: 0.8634\n",
            "Epoch 93/100\n",
            "7/7 [==============================] - 0s 2ms/step - loss: 0.4045 - accuracy: 0.8691\n",
            "Epoch 94/100\n",
            "7/7 [==============================] - 0s 3ms/step - loss: 0.3905 - accuracy: 0.8582\n",
            "Epoch 95/100\n",
            "7/7 [==============================] - 0s 2ms/step - loss: 0.3889 - accuracy: 0.8600\n",
            "Epoch 96/100\n",
            "7/7 [==============================] - 0s 2ms/step - loss: 0.4340 - accuracy: 0.8379\n",
            "Epoch 97/100\n",
            "7/7 [==============================] - 0s 3ms/step - loss: 0.3812 - accuracy: 0.8623\n",
            "Epoch 98/100\n",
            "7/7 [==============================] - 0s 2ms/step - loss: 0.3970 - accuracy: 0.8628\n",
            "Epoch 99/100\n",
            "7/7 [==============================] - 0s 3ms/step - loss: 0.3704 - accuracy: 0.8762\n",
            "Epoch 100/100\n",
            "7/7 [==============================] - 0s 3ms/step - loss: 0.4144 - accuracy: 0.8434\n"
          ],
          "name": "stdout"
        }
      ]
    },
    {
      "cell_type": "markdown",
      "metadata": {
        "id": "0OY1qteLmBNt"
      },
      "source": [
        "학습 결과 그려보기"
      ]
    },
    {
      "cell_type": "code",
      "metadata": {
        "colab": {
          "base_uri": "https://localhost:8080/",
          "height": 350
        },
        "id": "ErxSn8V7lyfu",
        "outputId": "de48caf2-9fed-4eef-89e3-b4f68f7128b5"
      },
      "source": [
        "import matplotlib.pyplot as plt\n",
        "\n",
        "his_dict = history.history\n",
        "loss = his_dict['loss']\n",
        "\n",
        "epochs = range(1, len(loss) + 1)\n",
        "fig = plt.figure(figsize = (10, 5))\n",
        "\n",
        "# 훈련 및 검증 손실 그리기\n",
        "ax1 = fig.add_subplot(1, 2, 1)\n",
        "ax1.plot(epochs, loss, color = 'orange', label = 'train_loss')\n",
        "ax1.set_title('train loss')\n",
        "ax1.set_xlabel('epochs')\n",
        "ax1.set_ylabel('loss')\n",
        "ax1.legend()\n",
        "\n",
        "acc = his_dict['accuracy']\n",
        "\n",
        "# 훈련 및 검증 정확도 그리기\n",
        "ax2 = fig.add_subplot(1, 2, 2)\n",
        "ax2.plot(epochs, acc, color = 'blue', label = 'train_accuracy')\n",
        "ax2.set_title('train accuracy')\n",
        "ax2.set_xlabel('epochs')\n",
        "ax2.set_ylabel('accuracy')\n",
        "ax2.legend()\n",
        "\n",
        "plt.show()"
      ],
      "execution_count": null,
      "outputs": [
        {
          "output_type": "display_data",
          "data": {
            "image/png": "[encoded data removed]",
            "text/plain": [
              "<Figure size 720x360 with 2 Axes>"
            ]
          },
          "metadata": {
            "tags": [],
            "needs_background": "light"
          }
        }
      ]
    },
    {
      "cell_type": "markdown",
      "metadata": {
        "id": "M82gZTqkmOLM"
      },
      "source": [
        "모델 평가하기"
      ]
    },
    {
      "cell_type": "code",
      "metadata": {
        "colab": {
          "base_uri": "https://localhost:8080/"
        },
        "id": "lgQRs3tRmCj9",
        "outputId": "156abcf5-6b13-4155-a54b-ef89775604cf"
      },
      "source": [
        "scores = model.evaluate(X_test,y_test)\n",
        "print(\"%s: %.2f%%\" %(model.metrics_names[1], scores[1]*100))"
      ],
      "execution_count": null,
      "outputs": [
        {
          "output_type": "stream",
          "text": [
            "2/2 [==============================] - 0s 5ms/step - loss: 0.6861 - accuracy: 0.7800\n",
            "accuracy: 78.00%\n"
          ],
          "name": "stdout"
        }
      ]
    },
    {
      "cell_type": "markdown",
      "metadata": {
        "id": "1Ti-kzmKmTuH"
      },
      "source": [
        "모델 성능평가"
      ]
    },
    {
      "cell_type": "code",
      "metadata": {
        "id": "R-kJfgqmmQts"
      },
      "source": [
        "def plot_auc_roc(model):\n",
        "    probs = model.predict_classes(X_test)\n",
        "    fpr, tpr, threshold = metrics.roc_curve(y_test, probs)\n",
        "    roc_auc = metrics.auc(fpr, tpr)\n",
        "\n",
        "    # method I: plt\n",
        "    import matplotlib.pyplot as plt\n",
        "    plt.title('Receiver Operating Characteristic')\n",
        "    plt.plot(fpr, tpr, 'b', label = 'AUC = %0.2f' % roc_auc)\n",
        "    plt.legend(loc = 'lower right')\n",
        "    plt.plot([0, 1], [0, 1],'r--')\n",
        "    plt.xlim([0, 1])\n",
        "    plt.ylim([0, 1])\n",
        "    plt.ylabel('True Positive Rate')\n",
        "    plt.xlabel('False Positive Rate')\n",
        "    plt.show()"
      ],
      "execution_count": null,
      "outputs": []
    },
    {
      "cell_type": "code",
      "metadata": {
        "colab": {
          "base_uri": "https://localhost:8080/"
        },
        "id": "gAMKfLTimYSk",
        "outputId": "9f271e96-ecdf-40a5-c4ca-3dba83a4d91c"
      },
      "source": [
        "# 모델 예측하기\n",
        "np.set_printoptions(suppress=True)\n",
        "result = model.predict_classes(X_test)"
      ],
      "execution_count": null,
      "outputs": [
        {
          "output_type": "stream",
          "text": [
            "/usr/local/lib/python3.7/dist-packages/keras/engine/sequential.py:450: UserWarning: `model.predict_classes()` is deprecated and will be removed after 2021-01-01. Please use instead:* `np.argmax(model.predict(x), axis=-1)`,   if your model does multi-class classification   (e.g. if it uses a `softmax` last-layer activation).* `(model.predict(x) > 0.5).astype(\"int32\")`,   if your model does binary classification   (e.g. if it uses a `sigmoid` last-layer activation).\n",
            "  warnings.warn('`model.predict_classes()` is deprecated and '\n"
          ],
          "name": "stderr"
        }
      ]
    },
    {
      "cell_type": "code",
      "metadata": {
        "colab": {
          "base_uri": "https://localhost:8080/"
        },
        "id": "7OvAnguImZ2-",
        "outputId": "d8d5ba33-c3d5-49d6-9566-dc3ddc893158"
      },
      "source": [
        "from sklearn import metrics\n",
        "report = metrics.classification_report(y_test,result)\n",
        "print(report)"
      ],
      "execution_count": null,
      "outputs": [
        {
          "output_type": "stream",
          "text": [
            "              precision    recall  f1-score   support\n",
            "\n",
            "         0.0       0.80      0.97      0.88        40\n",
            "         1.0       0.00      0.00      0.00        10\n",
            "\n",
            "    accuracy                           0.78        50\n",
            "   macro avg       0.40      0.49      0.44        50\n",
            "weighted avg       0.64      0.78      0.70        50\n",
            "\n"
          ],
          "name": "stdout"
        }
      ]
    },
    {
      "cell_type": "code",
      "metadata": {
        "id": "FD74TDR9mpGS"
      },
      "source": [
        ""
      ],
      "execution_count": null,
      "outputs": []
    }
  ]
}