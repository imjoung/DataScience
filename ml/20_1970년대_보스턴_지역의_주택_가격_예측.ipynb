{
  "nbformat": 4,
  "nbformat_minor": 0,
  "metadata": {
    "colab": {
      "name": "20-1970년대 보스턴 지역의 주택 가격 예측.ipynb",
      "provenance": [],
      "collapsed_sections": [],
      "authorship_tag": "ABX9TyNfQV5XuKkvlVe7zEjdGyPT",
      "include_colab_link": true
    },
    "kernelspec": {
      "name": "python3",
      "display_name": "Python 3"
    },
    "language_info": {
      "name": "python"
    }
  },
  "cells": [
    {
      "cell_type": "markdown",
      "metadata": {
        "id": "view-in-github",
        "colab_type": "text"
      },
      "source": [
        "<a href=\"https://colab.research.google.com/github/imjoung/DataScience/blob/main/ml/20_1970%EB%85%84%EB%8C%80_%EB%B3%B4%EC%8A%A4%ED%84%B4_%EC%A7%80%EC%97%AD%EC%9D%98_%EC%A3%BC%ED%83%9D_%EA%B0%80%EA%B2%A9_%EC%98%88%EC%B8%A1.ipynb\" target=\"_parent\"><img src=\"https://colab.research.google.com/assets/colab-badge.svg\" alt=\"Open In Colab\"/></a>"
      ]
    },
    {
      "cell_type": "markdown",
      "metadata": {
        "id": "oStKVxQ9i0XA"
      },
      "source": [
        "1970년대 보스턴 지역의 주택 가격 예측 -> 회귀"
      ]
    },
    {
      "cell_type": "markdown",
      "metadata": {
        "id": "rGbly60Pi3-g"
      },
      "source": [
        "데이터 준비하기"
      ]
    },
    {
      "cell_type": "code",
      "metadata": {
        "id": "c5CxfE0ehnGP"
      },
      "source": [
        "from tensorflow.keras.datasets.boston_housing import load_data\n",
        "\n",
        "# 데이터를 다운\n",
        "(x_train,y_train),(x_test,y_test) = load_data(path='boston_housing.npz',\n",
        "                                              test_split=0.2,\n",
        "                                              seed=777)"
      ],
      "execution_count": 1,
      "outputs": []
    },
    {
      "cell_type": "markdown",
      "metadata": {
        "id": "Uk2mmvOLjPDJ"
      },
      "source": [
        "데이터 형태 확인하기"
      ]
    },
    {
      "cell_type": "code",
      "metadata": {
        "colab": {
          "base_uri": "https://localhost:8080/"
        },
        "id": "vBnyve2OjOLm",
        "outputId": "3b6ece7e-208f-4e28-edb5-649098304956"
      },
      "source": [
        "print(x_train.shape, y_train.shape)\n",
        "print(x_test.shape, y_test.shape)"
      ],
      "execution_count": 2,
      "outputs": [
        {
          "output_type": "stream",
          "text": [
            "(404, 13) (404,)\n",
            "(102, 13) (102,)\n"
          ],
          "name": "stdout"
        }
      ]
    },
    {
      "cell_type": "markdown",
      "metadata": {
        "id": "GrduqMnXkTJW"
      },
      "source": [
        "데이터 전처리 및 검증 데이터셋 만들기"
      ]
    },
    {
      "cell_type": "code",
      "metadata": {
        "colab": {
          "base_uri": "https://localhost:8080/"
        },
        "id": "CQHh-RLMjUTJ",
        "outputId": "f626c35c-a5db-4307-ec15-ff6610b49e4a"
      },
      "source": [
        "import numpy as np\n",
        "np.set_printoptions(suppress=True)\n",
        "\n",
        "print(x_train[0])"
      ],
      "execution_count": 3,
      "outputs": [
        {
          "output_type": "stream",
          "text": [
            "[  0.25199   0.       10.59      0.        0.489     5.783    72.7\n",
            "   4.3549    4.      277.       18.6     389.43     18.06   ]\n"
          ],
          "name": "stdout"
        }
      ]
    },
    {
      "cell_type": "code",
      "metadata": {
        "colab": {
          "base_uri": "https://localhost:8080/"
        },
        "id": "Bpq9YKJFkZAi",
        "outputId": "d511c833-89d3-4898-9de5-4c6bbd805c98"
      },
      "source": [
        "# 데이터 전처리 -> 표준화(Standardization)\n",
        "\n",
        "mean = np.mean(x_train,axis=0)\n",
        "std = np.std(x_train, axis=0)\n",
        "\n",
        "# (데이터(훈련, 테스트 데이터 모두) -평균) / 표준편차\n",
        "x_train = (x_train - mean) / std\n",
        "x_test = (x_test - mean) / std\n",
        "print(x_train[0])"
      ],
      "execution_count": 4,
      "outputs": [
        {
          "output_type": "stream",
          "text": [
            "[-0.40102395 -0.48033655 -0.12089418 -0.28828791 -0.58254176 -0.68137272\n",
            "  0.11117586  0.26484408 -0.65187119 -0.80249043  0.0756568   0.37366783\n",
            "  0.69211835]\n"
          ],
          "name": "stdout"
        }
      ]
    },
    {
      "cell_type": "code",
      "metadata": {
        "id": "Gr7b5lGqlIB5"
      },
      "source": [
        "# 검증 데이터셋을 만듭니다.\n",
        "from sklearn.model_selection import train_test_split\n",
        "\n",
        "x_train,x_val,y_train,y_val = train_test_split(x_train,y_train,\n",
        "                                              test_size=0.33,\n",
        "                                              random_state = 777)"
      ],
      "execution_count": 5,
      "outputs": []
    },
    {
      "cell_type": "code",
      "metadata": {
        "colab": {
          "base_uri": "https://localhost:8080/"
        },
        "id": "UNa4fAePlTlx",
        "outputId": "79e216c3-6ceb-4040-8369-8f7934791da2"
      },
      "source": [
        "print(x_train.shape, x_val.shape)"
      ],
      "execution_count": 6,
      "outputs": [
        {
          "output_type": "stream",
          "text": [
            "(270, 13) (134, 13)\n"
          ],
          "name": "stdout"
        }
      ]
    },
    {
      "cell_type": "markdown",
      "metadata": {
        "id": "08RpjvVcmM4m"
      },
      "source": [
        "모델 구성하기"
      ]
    },
    {
      "cell_type": "code",
      "metadata": {
        "id": "QwgeeVlalWOx"
      },
      "source": [
        "from tensorflow.keras.models import Sequential\n",
        "from tensorflow.keras.layers import Dense\n",
        "\n",
        "model = Sequential()\n",
        "model.add(Dense(64, activation = 'relu', input_shape=(13,)))\n",
        "model.add(Dense(32, activation = 'relu'))\n",
        "model.add(Dense(1)) #하나의 값을 출력 -> 주택가격\n"
      ],
      "execution_count": 7,
      "outputs": []
    },
    {
      "cell_type": "markdown",
      "metadata": {
        "id": "vv5HjHTKnRaa"
      },
      "source": [
        "모델 설정하기"
      ]
    },
    {
      "cell_type": "code",
      "metadata": {
        "id": "NddYMo9ZnNmr"
      },
      "source": [
        "model.compile(optimizer='adam', loss='mse', metrics=['mae','mse'])"
      ],
      "execution_count": 8,
      "outputs": []
    },
    {
      "cell_type": "markdown",
      "metadata": {
        "id": "e5C5YMBSnZL4"
      },
      "source": [
        "모델 학습하기"
      ]
    },
    {
      "cell_type": "code",
      "metadata": {
        "colab": {
          "base_uri": "https://localhost:8080/"
        },
        "id": "9DD_rSV3nYno",
        "outputId": "f4f4c9be-9bca-4800-e0ff-5ba137ba086f"
      },
      "source": [
        "history = model.fit(x_train,y_train,\n",
        "                    epochs = 300,\n",
        "                    validation_data = (x_val, y_val))"
      ],
      "execution_count": 9,
      "outputs": [
        {
          "output_type": "stream",
          "text": [
            "Epoch 1/300\n",
            "9/9 [==============================] - 1s 25ms/step - loss: 532.7386 - mae: 21.4734 - mse: 532.7386 - val_loss: 580.5195 - val_mae: 21.9122 - val_mse: 580.5195\n",
            "Epoch 2/300\n",
            "9/9 [==============================] - 0s 4ms/step - loss: 505.7476 - mae: 20.8427 - mse: 505.7476 - val_loss: 550.5311 - val_mae: 21.2293 - val_mse: 550.5311\n",
            "Epoch 3/300\n",
            "9/9 [==============================] - 0s 4ms/step - loss: 475.1661 - mae: 20.1100 - mse: 475.1661 - val_loss: 514.1254 - val_mae: 20.3931 - val_mse: 514.1254\n",
            "Epoch 4/300\n",
            "9/9 [==============================] - 0s 6ms/step - loss: 437.5984 - mae: 19.1964 - mse: 437.5984 - val_loss: 468.9924 - val_mae: 19.3147 - val_mse: 468.9924\n",
            "Epoch 5/300\n",
            "9/9 [==============================] - 0s 6ms/step - loss: 391.1441 - mae: 18.0018 - mse: 391.1441 - val_loss: 414.4985 - val_mae: 17.9282 - val_mse: 414.4985\n",
            "Epoch 6/300\n",
            "9/9 [==============================] - 0s 6ms/step - loss: 336.0502 - mae: 16.5051 - mse: 336.0502 - val_loss: 351.7909 - val_mae: 16.1840 - val_mse: 351.7909\n",
            "Epoch 7/300\n",
            "9/9 [==============================] - 0s 4ms/step - loss: 274.9648 - mae: 14.6429 - mse: 274.9648 - val_loss: 282.3621 - val_mae: 14.0562 - val_mse: 282.3621\n",
            "Epoch 8/300\n",
            "9/9 [==============================] - 0s 6ms/step - loss: 210.1114 - mae: 12.5047 - mse: 210.1114 - val_loss: 215.4224 - val_mae: 11.8077 - val_mse: 215.4224\n",
            "Epoch 9/300\n",
            "9/9 [==============================] - 0s 4ms/step - loss: 152.2262 - mae: 10.2475 - mse: 152.2262 - val_loss: 157.2292 - val_mae: 9.7217 - val_mse: 157.2292\n",
            "Epoch 10/300\n",
            "9/9 [==============================] - 0s 4ms/step - loss: 104.4113 - mae: 8.1550 - mse: 104.4113 - val_loss: 116.3217 - val_mae: 8.1860 - val_mse: 116.3217\n",
            "Epoch 11/300\n",
            "9/9 [==============================] - 0s 5ms/step - loss: 74.4187 - mae: 6.7082 - mse: 74.4187 - val_loss: 90.9444 - val_mae: 7.1307 - val_mse: 90.9444\n",
            "Epoch 12/300\n",
            "9/9 [==============================] - 0s 5ms/step - loss: 57.9137 - mae: 5.8283 - mse: 57.9137 - val_loss: 76.9484 - val_mae: 6.4541 - val_mse: 76.9484\n",
            "Epoch 13/300\n",
            "9/9 [==============================] - 0s 4ms/step - loss: 48.7271 - mae: 5.2443 - mse: 48.7271 - val_loss: 67.1908 - val_mae: 5.9547 - val_mse: 67.1908\n",
            "Epoch 14/300\n",
            "9/9 [==============================] - 0s 5ms/step - loss: 42.6610 - mae: 4.8749 - mse: 42.6610 - val_loss: 58.8605 - val_mae: 5.5282 - val_mse: 58.8605\n",
            "Epoch 15/300\n",
            "9/9 [==============================] - 0s 4ms/step - loss: 37.0247 - mae: 4.5106 - mse: 37.0247 - val_loss: 52.3835 - val_mae: 5.1764 - val_mse: 52.3835\n",
            "Epoch 16/300\n",
            "9/9 [==============================] - 0s 6ms/step - loss: 33.0182 - mae: 4.2365 - mse: 33.0182 - val_loss: 48.0281 - val_mae: 4.9690 - val_mse: 48.0281\n",
            "Epoch 17/300\n",
            "9/9 [==============================] - 0s 4ms/step - loss: 29.9851 - mae: 4.0112 - mse: 29.9851 - val_loss: 44.3395 - val_mae: 4.7419 - val_mse: 44.3395\n",
            "Epoch 18/300\n",
            "9/9 [==============================] - 0s 4ms/step - loss: 27.7677 - mae: 3.8402 - mse: 27.7677 - val_loss: 41.5430 - val_mae: 4.5706 - val_mse: 41.5430\n",
            "Epoch 19/300\n",
            "9/9 [==============================] - 0s 4ms/step - loss: 26.1759 - mae: 3.7086 - mse: 26.1759 - val_loss: 39.3223 - val_mae: 4.4349 - val_mse: 39.3223\n",
            "Epoch 20/300\n",
            "9/9 [==============================] - 0s 4ms/step - loss: 24.8782 - mae: 3.6044 - mse: 24.8782 - val_loss: 37.5184 - val_mae: 4.3148 - val_mse: 37.5184\n",
            "Epoch 21/300\n",
            "9/9 [==============================] - 0s 7ms/step - loss: 23.9892 - mae: 3.5140 - mse: 23.9892 - val_loss: 35.8142 - val_mae: 4.1936 - val_mse: 35.8142\n",
            "Epoch 22/300\n",
            "9/9 [==============================] - 0s 4ms/step - loss: 23.0415 - mae: 3.4438 - mse: 23.0415 - val_loss: 34.3631 - val_mae: 4.1482 - val_mse: 34.3631\n",
            "Epoch 23/300\n",
            "9/9 [==============================] - 0s 4ms/step - loss: 22.3432 - mae: 3.4178 - mse: 22.3432 - val_loss: 33.2710 - val_mae: 4.1203 - val_mse: 33.2710\n",
            "Epoch 24/300\n",
            "9/9 [==============================] - 0s 4ms/step - loss: 21.6824 - mae: 3.3657 - mse: 21.6824 - val_loss: 32.2148 - val_mae: 4.0468 - val_mse: 32.2148\n",
            "Epoch 25/300\n",
            "9/9 [==============================] - 0s 5ms/step - loss: 21.0634 - mae: 3.2967 - mse: 21.0634 - val_loss: 31.3074 - val_mae: 3.9610 - val_mse: 31.3074\n",
            "Epoch 26/300\n",
            "9/9 [==============================] - 0s 6ms/step - loss: 20.4930 - mae: 3.2248 - mse: 20.4930 - val_loss: 30.8901 - val_mae: 3.8832 - val_mse: 30.8901\n",
            "Epoch 27/300\n",
            "9/9 [==============================] - 0s 7ms/step - loss: 20.1152 - mae: 3.1852 - mse: 20.1152 - val_loss: 30.0094 - val_mae: 3.8224 - val_mse: 30.0094\n",
            "Epoch 28/300\n",
            "9/9 [==============================] - 0s 4ms/step - loss: 19.6051 - mae: 3.1358 - mse: 19.6051 - val_loss: 29.4521 - val_mae: 3.7693 - val_mse: 29.4521\n",
            "Epoch 29/300\n",
            "9/9 [==============================] - 0s 4ms/step - loss: 19.3075 - mae: 3.1034 - mse: 19.3075 - val_loss: 28.8864 - val_mae: 3.7503 - val_mse: 28.8864\n",
            "Epoch 30/300\n",
            "9/9 [==============================] - 0s 4ms/step - loss: 18.8232 - mae: 3.0699 - mse: 18.8232 - val_loss: 28.2945 - val_mae: 3.6807 - val_mse: 28.2945\n",
            "Epoch 31/300\n",
            "9/9 [==============================] - 0s 4ms/step - loss: 18.4440 - mae: 3.0259 - mse: 18.4440 - val_loss: 27.7396 - val_mae: 3.6446 - val_mse: 27.7396\n",
            "Epoch 32/300\n",
            "9/9 [==============================] - 0s 4ms/step - loss: 18.0817 - mae: 2.9965 - mse: 18.0817 - val_loss: 27.3055 - val_mae: 3.5958 - val_mse: 27.3055\n",
            "Epoch 33/300\n",
            "9/9 [==============================] - 0s 4ms/step - loss: 17.7823 - mae: 2.9696 - mse: 17.7823 - val_loss: 26.7970 - val_mae: 3.5731 - val_mse: 26.7970\n",
            "Epoch 34/300\n",
            "9/9 [==============================] - 0s 6ms/step - loss: 17.4669 - mae: 2.9413 - mse: 17.4669 - val_loss: 26.0954 - val_mae: 3.5345 - val_mse: 26.0954\n",
            "Epoch 35/300\n",
            "9/9 [==============================] - 0s 4ms/step - loss: 17.0769 - mae: 2.9030 - mse: 17.0769 - val_loss: 25.5955 - val_mae: 3.4708 - val_mse: 25.5955\n",
            "Epoch 36/300\n",
            "9/9 [==============================] - 0s 4ms/step - loss: 16.8240 - mae: 2.8746 - mse: 16.8240 - val_loss: 25.2397 - val_mae: 3.4390 - val_mse: 25.2397\n",
            "Epoch 37/300\n",
            "9/9 [==============================] - 0s 4ms/step - loss: 16.4787 - mae: 2.8418 - mse: 16.4787 - val_loss: 24.8283 - val_mae: 3.4245 - val_mse: 24.8283\n",
            "Epoch 38/300\n",
            "9/9 [==============================] - 0s 4ms/step - loss: 16.2507 - mae: 2.8296 - mse: 16.2507 - val_loss: 24.2895 - val_mae: 3.4184 - val_mse: 24.2895\n",
            "Epoch 39/300\n",
            "9/9 [==============================] - 0s 6ms/step - loss: 15.9923 - mae: 2.8060 - mse: 15.9923 - val_loss: 24.3782 - val_mae: 3.4042 - val_mse: 24.3782\n",
            "Epoch 40/300\n",
            "9/9 [==============================] - 0s 4ms/step - loss: 15.7666 - mae: 2.7832 - mse: 15.7666 - val_loss: 23.9146 - val_mae: 3.3696 - val_mse: 23.9146\n",
            "Epoch 41/300\n",
            "9/9 [==============================] - 0s 6ms/step - loss: 15.5321 - mae: 2.7548 - mse: 15.5321 - val_loss: 23.6776 - val_mae: 3.3417 - val_mse: 23.6776\n",
            "Epoch 42/300\n",
            "9/9 [==============================] - 0s 5ms/step - loss: 15.3379 - mae: 2.7378 - mse: 15.3379 - val_loss: 23.4775 - val_mae: 3.3340 - val_mse: 23.4775\n",
            "Epoch 43/300\n",
            "9/9 [==============================] - 0s 4ms/step - loss: 15.1272 - mae: 2.7123 - mse: 15.1272 - val_loss: 23.1670 - val_mae: 3.2929 - val_mse: 23.1670\n",
            "Epoch 44/300\n",
            "9/9 [==============================] - 0s 5ms/step - loss: 14.9214 - mae: 2.6885 - mse: 14.9214 - val_loss: 22.5545 - val_mae: 3.2361 - val_mse: 22.5545\n",
            "Epoch 45/300\n",
            "9/9 [==============================] - 0s 4ms/step - loss: 14.7142 - mae: 2.6677 - mse: 14.7142 - val_loss: 22.1522 - val_mae: 3.2291 - val_mse: 22.1522\n",
            "Epoch 46/300\n",
            "9/9 [==============================] - 0s 4ms/step - loss: 14.5032 - mae: 2.6510 - mse: 14.5032 - val_loss: 22.0209 - val_mae: 3.2269 - val_mse: 22.0209\n",
            "Epoch 47/300\n",
            "9/9 [==============================] - 0s 4ms/step - loss: 14.3880 - mae: 2.6346 - mse: 14.3880 - val_loss: 22.0446 - val_mae: 3.1885 - val_mse: 22.0446\n",
            "Epoch 48/300\n",
            "9/9 [==============================] - 0s 6ms/step - loss: 14.1707 - mae: 2.6057 - mse: 14.1707 - val_loss: 21.7077 - val_mae: 3.1569 - val_mse: 21.7077\n",
            "Epoch 49/300\n",
            "9/9 [==============================] - 0s 4ms/step - loss: 14.0306 - mae: 2.5914 - mse: 14.0306 - val_loss: 21.4168 - val_mae: 3.1391 - val_mse: 21.4168\n",
            "Epoch 50/300\n",
            "9/9 [==============================] - 0s 4ms/step - loss: 13.8255 - mae: 2.5723 - mse: 13.8255 - val_loss: 21.2759 - val_mae: 3.1396 - val_mse: 21.2759\n",
            "Epoch 51/300\n",
            "9/9 [==============================] - 0s 4ms/step - loss: 13.7321 - mae: 2.5569 - mse: 13.7321 - val_loss: 21.2122 - val_mae: 3.1285 - val_mse: 21.2122\n",
            "Epoch 52/300\n",
            "9/9 [==============================] - 0s 4ms/step - loss: 13.5406 - mae: 2.5336 - mse: 13.5406 - val_loss: 20.7887 - val_mae: 3.1025 - val_mse: 20.7887\n",
            "Epoch 53/300\n",
            "9/9 [==============================] - 0s 4ms/step - loss: 13.4347 - mae: 2.5218 - mse: 13.4347 - val_loss: 20.1973 - val_mae: 3.0985 - val_mse: 20.1973\n",
            "Epoch 54/300\n",
            "9/9 [==============================] - 0s 4ms/step - loss: 13.2846 - mae: 2.5095 - mse: 13.2846 - val_loss: 19.8820 - val_mae: 3.0547 - val_mse: 19.8820\n",
            "Epoch 55/300\n",
            "9/9 [==============================] - 0s 4ms/step - loss: 13.1282 - mae: 2.4897 - mse: 13.1282 - val_loss: 19.9189 - val_mae: 3.0575 - val_mse: 19.9189\n",
            "Epoch 56/300\n",
            "9/9 [==============================] - 0s 5ms/step - loss: 13.1114 - mae: 2.4837 - mse: 13.1114 - val_loss: 20.2339 - val_mae: 3.0752 - val_mse: 20.2339\n",
            "Epoch 57/300\n",
            "9/9 [==============================] - 0s 8ms/step - loss: 13.0388 - mae: 2.4765 - mse: 13.0388 - val_loss: 19.5866 - val_mae: 3.0679 - val_mse: 19.5866\n",
            "Epoch 58/300\n",
            "9/9 [==============================] - 0s 4ms/step - loss: 12.7718 - mae: 2.4669 - mse: 12.7718 - val_loss: 19.3916 - val_mae: 3.0311 - val_mse: 19.3916\n",
            "Epoch 59/300\n",
            "9/9 [==============================] - 0s 5ms/step - loss: 12.6715 - mae: 2.4555 - mse: 12.6715 - val_loss: 19.3167 - val_mae: 3.0147 - val_mse: 19.3167\n",
            "Epoch 60/300\n",
            "9/9 [==============================] - 0s 6ms/step - loss: 12.6278 - mae: 2.4452 - mse: 12.6278 - val_loss: 19.3922 - val_mae: 3.0186 - val_mse: 19.3922\n",
            "Epoch 61/300\n",
            "9/9 [==============================] - 0s 4ms/step - loss: 12.4999 - mae: 2.4364 - mse: 12.4999 - val_loss: 19.2738 - val_mae: 3.0256 - val_mse: 19.2738\n",
            "Epoch 62/300\n",
            "9/9 [==============================] - 0s 4ms/step - loss: 12.3905 - mae: 2.4328 - mse: 12.3905 - val_loss: 19.4402 - val_mae: 3.0317 - val_mse: 19.4402\n",
            "Epoch 63/300\n",
            "9/9 [==============================] - 0s 6ms/step - loss: 12.3523 - mae: 2.4170 - mse: 12.3523 - val_loss: 18.9202 - val_mae: 2.9791 - val_mse: 18.9202\n",
            "Epoch 64/300\n",
            "9/9 [==============================] - 0s 5ms/step - loss: 12.2231 - mae: 2.4150 - mse: 12.2231 - val_loss: 18.5772 - val_mae: 2.9584 - val_mse: 18.5772\n",
            "Epoch 65/300\n",
            "9/9 [==============================] - 0s 4ms/step - loss: 12.0775 - mae: 2.4073 - mse: 12.0775 - val_loss: 18.4742 - val_mae: 2.9737 - val_mse: 18.4742\n",
            "Epoch 66/300\n",
            "9/9 [==============================] - 0s 4ms/step - loss: 11.9982 - mae: 2.3994 - mse: 11.9982 - val_loss: 18.2075 - val_mae: 2.9660 - val_mse: 18.2075\n",
            "Epoch 67/300\n",
            "9/9 [==============================] - 0s 4ms/step - loss: 11.9252 - mae: 2.3914 - mse: 11.9252 - val_loss: 18.2710 - val_mae: 2.9615 - val_mse: 18.2710\n",
            "Epoch 68/300\n",
            "9/9 [==============================] - 0s 5ms/step - loss: 11.8035 - mae: 2.3787 - mse: 11.8035 - val_loss: 18.0361 - val_mae: 2.9433 - val_mse: 18.0361\n",
            "Epoch 69/300\n",
            "9/9 [==============================] - 0s 5ms/step - loss: 11.7590 - mae: 2.3770 - mse: 11.7590 - val_loss: 17.9468 - val_mae: 2.9317 - val_mse: 17.9468\n",
            "Epoch 70/300\n",
            "9/9 [==============================] - 0s 5ms/step - loss: 11.6887 - mae: 2.3696 - mse: 11.6887 - val_loss: 17.8606 - val_mae: 2.9239 - val_mse: 17.8606\n",
            "Epoch 71/300\n",
            "9/9 [==============================] - 0s 6ms/step - loss: 11.6142 - mae: 2.3567 - mse: 11.6142 - val_loss: 17.8525 - val_mae: 2.9179 - val_mse: 17.8525\n",
            "Epoch 72/300\n",
            "9/9 [==============================] - 0s 4ms/step - loss: 11.4893 - mae: 2.3488 - mse: 11.4893 - val_loss: 17.3971 - val_mae: 2.9026 - val_mse: 17.3971\n",
            "Epoch 73/300\n",
            "9/9 [==============================] - 0s 4ms/step - loss: 11.4510 - mae: 2.3491 - mse: 11.4510 - val_loss: 17.4510 - val_mae: 2.8958 - val_mse: 17.4510\n",
            "Epoch 74/300\n",
            "9/9 [==============================] - 0s 4ms/step - loss: 11.3388 - mae: 2.3482 - mse: 11.3388 - val_loss: 17.4244 - val_mae: 2.9004 - val_mse: 17.4244\n",
            "Epoch 75/300\n",
            "9/9 [==============================] - 0s 4ms/step - loss: 11.3653 - mae: 2.3429 - mse: 11.3653 - val_loss: 17.6871 - val_mae: 2.9048 - val_mse: 17.6871\n",
            "Epoch 76/300\n",
            "9/9 [==============================] - 0s 6ms/step - loss: 11.2061 - mae: 2.3273 - mse: 11.2061 - val_loss: 17.2849 - val_mae: 2.8738 - val_mse: 17.2849\n",
            "Epoch 77/300\n",
            "9/9 [==============================] - 0s 6ms/step - loss: 11.2807 - mae: 2.3425 - mse: 11.2807 - val_loss: 17.1136 - val_mae: 2.8836 - val_mse: 17.1136\n",
            "Epoch 78/300\n",
            "9/9 [==============================] - 0s 4ms/step - loss: 11.1169 - mae: 2.3310 - mse: 11.1169 - val_loss: 16.7672 - val_mae: 2.8472 - val_mse: 16.7672\n",
            "Epoch 79/300\n",
            "9/9 [==============================] - 0s 7ms/step - loss: 11.0305 - mae: 2.3164 - mse: 11.0305 - val_loss: 17.0670 - val_mae: 2.8502 - val_mse: 17.0670\n",
            "Epoch 80/300\n",
            "9/9 [==============================] - 0s 4ms/step - loss: 10.9387 - mae: 2.2965 - mse: 10.9387 - val_loss: 17.1506 - val_mae: 2.8606 - val_mse: 17.1506\n",
            "Epoch 81/300\n",
            "9/9 [==============================] - 0s 6ms/step - loss: 10.8770 - mae: 2.2887 - mse: 10.8770 - val_loss: 17.1752 - val_mae: 2.8660 - val_mse: 17.1752\n",
            "Epoch 82/300\n",
            "9/9 [==============================] - 0s 5ms/step - loss: 10.8160 - mae: 2.2777 - mse: 10.8160 - val_loss: 17.2021 - val_mae: 2.8577 - val_mse: 17.2021\n",
            "Epoch 83/300\n",
            "9/9 [==============================] - 0s 5ms/step - loss: 10.7399 - mae: 2.2651 - mse: 10.7399 - val_loss: 17.0774 - val_mae: 2.8269 - val_mse: 17.0774\n",
            "Epoch 84/300\n",
            "9/9 [==============================] - 0s 4ms/step - loss: 10.7686 - mae: 2.2708 - mse: 10.7686 - val_loss: 16.6674 - val_mae: 2.8224 - val_mse: 16.6674\n",
            "Epoch 85/300\n",
            "9/9 [==============================] - 0s 5ms/step - loss: 10.7696 - mae: 2.2865 - mse: 10.7696 - val_loss: 16.5281 - val_mae: 2.8444 - val_mse: 16.5281\n",
            "Epoch 86/300\n",
            "9/9 [==============================] - 0s 4ms/step - loss: 10.6110 - mae: 2.2741 - mse: 10.6110 - val_loss: 16.6968 - val_mae: 2.8197 - val_mse: 16.6968\n",
            "Epoch 87/300\n",
            "9/9 [==============================] - 0s 6ms/step - loss: 10.5068 - mae: 2.2482 - mse: 10.5068 - val_loss: 16.6457 - val_mae: 2.8124 - val_mse: 16.6457\n",
            "Epoch 88/300\n",
            "9/9 [==============================] - 0s 4ms/step - loss: 10.4380 - mae: 2.2421 - mse: 10.4380 - val_loss: 16.6367 - val_mae: 2.8283 - val_mse: 16.6367\n",
            "Epoch 89/300\n",
            "9/9 [==============================] - 0s 5ms/step - loss: 10.3736 - mae: 2.2439 - mse: 10.3736 - val_loss: 16.4131 - val_mae: 2.8150 - val_mse: 16.4131\n",
            "Epoch 90/300\n",
            "9/9 [==============================] - 0s 4ms/step - loss: 10.3811 - mae: 2.2490 - mse: 10.3811 - val_loss: 16.1810 - val_mae: 2.8029 - val_mse: 16.1810\n",
            "Epoch 91/300\n",
            "9/9 [==============================] - 0s 6ms/step - loss: 10.2466 - mae: 2.2328 - mse: 10.2466 - val_loss: 16.3087 - val_mae: 2.7955 - val_mse: 16.3087\n",
            "Epoch 92/300\n",
            "9/9 [==============================] - 0s 4ms/step - loss: 10.2438 - mae: 2.2241 - mse: 10.2438 - val_loss: 16.2425 - val_mae: 2.7925 - val_mse: 16.2425\n",
            "Epoch 93/300\n",
            "9/9 [==============================] - 0s 6ms/step - loss: 10.2809 - mae: 2.2225 - mse: 10.2809 - val_loss: 16.3413 - val_mae: 2.7765 - val_mse: 16.3413\n",
            "Epoch 94/300\n",
            "9/9 [==============================] - 0s 5ms/step - loss: 10.2518 - mae: 2.2340 - mse: 10.2518 - val_loss: 15.9036 - val_mae: 2.8037 - val_mse: 15.9036\n",
            "Epoch 95/300\n",
            "9/9 [==============================] - 0s 6ms/step - loss: 10.1019 - mae: 2.2298 - mse: 10.1019 - val_loss: 15.7515 - val_mae: 2.7910 - val_mse: 15.7515\n",
            "Epoch 96/300\n",
            "9/9 [==============================] - 0s 5ms/step - loss: 9.9285 - mae: 2.2027 - mse: 9.9285 - val_loss: 15.8160 - val_mae: 2.7649 - val_mse: 15.8160\n",
            "Epoch 97/300\n",
            "9/9 [==============================] - 0s 5ms/step - loss: 9.9492 - mae: 2.1991 - mse: 9.9492 - val_loss: 15.6855 - val_mae: 2.7468 - val_mse: 15.6855\n",
            "Epoch 98/300\n",
            "9/9 [==============================] - 0s 7ms/step - loss: 9.9401 - mae: 2.1913 - mse: 9.9401 - val_loss: 15.9858 - val_mae: 2.7697 - val_mse: 15.9858\n",
            "Epoch 99/300\n",
            "9/9 [==============================] - 0s 4ms/step - loss: 9.8484 - mae: 2.1833 - mse: 9.8484 - val_loss: 15.8050 - val_mae: 2.7610 - val_mse: 15.8050\n",
            "Epoch 100/300\n",
            "9/9 [==============================] - 0s 7ms/step - loss: 9.7719 - mae: 2.1788 - mse: 9.7719 - val_loss: 15.6780 - val_mae: 2.7628 - val_mse: 15.6780\n",
            "Epoch 101/300\n",
            "9/9 [==============================] - 0s 4ms/step - loss: 9.7915 - mae: 2.2003 - mse: 9.7915 - val_loss: 15.3733 - val_mae: 2.7534 - val_mse: 15.3733\n",
            "Epoch 102/300\n",
            "9/9 [==============================] - 0s 5ms/step - loss: 9.7608 - mae: 2.1794 - mse: 9.7608 - val_loss: 15.5650 - val_mae: 2.7529 - val_mse: 15.5650\n",
            "Epoch 103/300\n",
            "9/9 [==============================] - 0s 5ms/step - loss: 9.6487 - mae: 2.1647 - mse: 9.6487 - val_loss: 15.2960 - val_mae: 2.7403 - val_mse: 15.2960\n",
            "Epoch 104/300\n",
            "9/9 [==============================] - 0s 4ms/step - loss: 9.7617 - mae: 2.2035 - mse: 9.7617 - val_loss: 15.1697 - val_mae: 2.7546 - val_mse: 15.1697\n",
            "Epoch 105/300\n",
            "9/9 [==============================] - 0s 4ms/step - loss: 9.5208 - mae: 2.1691 - mse: 9.5208 - val_loss: 15.4487 - val_mae: 2.7285 - val_mse: 15.4487\n",
            "Epoch 106/300\n",
            "9/9 [==============================] - 0s 4ms/step - loss: 9.6495 - mae: 2.1582 - mse: 9.6495 - val_loss: 15.8297 - val_mae: 2.7493 - val_mse: 15.8297\n",
            "Epoch 107/300\n",
            "9/9 [==============================] - 0s 4ms/step - loss: 9.5292 - mae: 2.1478 - mse: 9.5292 - val_loss: 15.2634 - val_mae: 2.7087 - val_mse: 15.2634\n",
            "Epoch 108/300\n",
            "9/9 [==============================] - 0s 8ms/step - loss: 9.4410 - mae: 2.1642 - mse: 9.4410 - val_loss: 14.9639 - val_mae: 2.7174 - val_mse: 14.9639\n",
            "Epoch 109/300\n",
            "9/9 [==============================] - 0s 4ms/step - loss: 9.4052 - mae: 2.1722 - mse: 9.4052 - val_loss: 14.7310 - val_mae: 2.7054 - val_mse: 14.7310\n",
            "Epoch 110/300\n",
            "9/9 [==============================] - 0s 4ms/step - loss: 9.4000 - mae: 2.1728 - mse: 9.4000 - val_loss: 14.9169 - val_mae: 2.7112 - val_mse: 14.9169\n",
            "Epoch 111/300\n",
            "9/9 [==============================] - 0s 4ms/step - loss: 9.3356 - mae: 2.1489 - mse: 9.3356 - val_loss: 15.1162 - val_mae: 2.7035 - val_mse: 15.1162\n",
            "Epoch 112/300\n",
            "9/9 [==============================] - 0s 7ms/step - loss: 9.2552 - mae: 2.1219 - mse: 9.2552 - val_loss: 15.1047 - val_mae: 2.6889 - val_mse: 15.1047\n",
            "Epoch 113/300\n",
            "9/9 [==============================] - 0s 4ms/step - loss: 9.1844 - mae: 2.1184 - mse: 9.1844 - val_loss: 14.9995 - val_mae: 2.6996 - val_mse: 14.9995\n",
            "Epoch 114/300\n",
            "9/9 [==============================] - 0s 5ms/step - loss: 9.1844 - mae: 2.1279 - mse: 9.1844 - val_loss: 14.9867 - val_mae: 2.7191 - val_mse: 14.9867\n",
            "Epoch 115/300\n",
            "9/9 [==============================] - 0s 5ms/step - loss: 9.1268 - mae: 2.1289 - mse: 9.1268 - val_loss: 14.9372 - val_mae: 2.7023 - val_mse: 14.9372\n",
            "Epoch 116/300\n",
            "9/9 [==============================] - 0s 5ms/step - loss: 9.0834 - mae: 2.1172 - mse: 9.0834 - val_loss: 14.7990 - val_mae: 2.6841 - val_mse: 14.7990\n",
            "Epoch 117/300\n",
            "9/9 [==============================] - 0s 7ms/step - loss: 9.0821 - mae: 2.1212 - mse: 9.0821 - val_loss: 14.6195 - val_mae: 2.6511 - val_mse: 14.6195\n",
            "Epoch 118/300\n",
            "9/9 [==============================] - 0s 4ms/step - loss: 9.0407 - mae: 2.1061 - mse: 9.0407 - val_loss: 14.8533 - val_mae: 2.6990 - val_mse: 14.8533\n",
            "Epoch 119/300\n",
            "9/9 [==============================] - 0s 6ms/step - loss: 9.0048 - mae: 2.0998 - mse: 9.0048 - val_loss: 14.9150 - val_mae: 2.6884 - val_mse: 14.9150\n",
            "Epoch 120/300\n",
            "9/9 [==============================] - 0s 5ms/step - loss: 8.8956 - mae: 2.1067 - mse: 8.8956 - val_loss: 14.3347 - val_mae: 2.6680 - val_mse: 14.3347\n",
            "Epoch 121/300\n",
            "9/9 [==============================] - 0s 4ms/step - loss: 9.0051 - mae: 2.1265 - mse: 9.0051 - val_loss: 14.3817 - val_mae: 2.6830 - val_mse: 14.3817\n",
            "Epoch 122/300\n",
            "9/9 [==============================] - 0s 5ms/step - loss: 8.8107 - mae: 2.0845 - mse: 8.8107 - val_loss: 14.6182 - val_mae: 2.6862 - val_mse: 14.6182\n",
            "Epoch 123/300\n",
            "9/9 [==============================] - 0s 4ms/step - loss: 8.8225 - mae: 2.0851 - mse: 8.8225 - val_loss: 14.4561 - val_mae: 2.6679 - val_mse: 14.4561\n",
            "Epoch 124/300\n",
            "9/9 [==============================] - 0s 4ms/step - loss: 8.8166 - mae: 2.0883 - mse: 8.8166 - val_loss: 14.4722 - val_mae: 2.6389 - val_mse: 14.4722\n",
            "Epoch 125/300\n",
            "9/9 [==============================] - 0s 4ms/step - loss: 8.7952 - mae: 2.0768 - mse: 8.7952 - val_loss: 14.8828 - val_mae: 2.6886 - val_mse: 14.8828\n",
            "Epoch 126/300\n",
            "9/9 [==============================] - 0s 5ms/step - loss: 8.6370 - mae: 2.0605 - mse: 8.6370 - val_loss: 14.3135 - val_mae: 2.6648 - val_mse: 14.3135\n",
            "Epoch 127/300\n",
            "9/9 [==============================] - 0s 5ms/step - loss: 8.6452 - mae: 2.0858 - mse: 8.6452 - val_loss: 14.0295 - val_mae: 2.6449 - val_mse: 14.0295\n",
            "Epoch 128/300\n",
            "9/9 [==============================] - 0s 4ms/step - loss: 8.6676 - mae: 2.0899 - mse: 8.6676 - val_loss: 13.9047 - val_mae: 2.6051 - val_mse: 13.9047\n",
            "Epoch 129/300\n",
            "9/9 [==============================] - 0s 4ms/step - loss: 8.6281 - mae: 2.0831 - mse: 8.6281 - val_loss: 14.1354 - val_mae: 2.6460 - val_mse: 14.1354\n",
            "Epoch 130/300\n",
            "9/9 [==============================] - 0s 4ms/step - loss: 8.4600 - mae: 2.0582 - mse: 8.4600 - val_loss: 14.5793 - val_mae: 2.6711 - val_mse: 14.5793\n",
            "Epoch 131/300\n",
            "9/9 [==============================] - 0s 4ms/step - loss: 8.5414 - mae: 2.0400 - mse: 8.5414 - val_loss: 14.5769 - val_mae: 2.6431 - val_mse: 14.5769\n",
            "Epoch 132/300\n",
            "9/9 [==============================] - 0s 8ms/step - loss: 8.5560 - mae: 2.0582 - mse: 8.5560 - val_loss: 14.0927 - val_mae: 2.6520 - val_mse: 14.0927\n",
            "Epoch 133/300\n",
            "9/9 [==============================] - 0s 5ms/step - loss: 8.4317 - mae: 2.0678 - mse: 8.4317 - val_loss: 14.3336 - val_mae: 2.6677 - val_mse: 14.3336\n",
            "Epoch 134/300\n",
            "9/9 [==============================] - 0s 4ms/step - loss: 8.4076 - mae: 2.0526 - mse: 8.4076 - val_loss: 14.0646 - val_mae: 2.5966 - val_mse: 14.0646\n",
            "Epoch 135/300\n",
            "9/9 [==============================] - 0s 4ms/step - loss: 8.3349 - mae: 2.0469 - mse: 8.3349 - val_loss: 13.9244 - val_mae: 2.6243 - val_mse: 13.9244\n",
            "Epoch 136/300\n",
            "9/9 [==============================] - 0s 6ms/step - loss: 8.2448 - mae: 2.0301 - mse: 8.2448 - val_loss: 13.9031 - val_mae: 2.6017 - val_mse: 13.9031\n",
            "Epoch 137/300\n",
            "9/9 [==============================] - 0s 6ms/step - loss: 8.2932 - mae: 2.0372 - mse: 8.2932 - val_loss: 13.8212 - val_mae: 2.5916 - val_mse: 13.8212\n",
            "Epoch 138/300\n",
            "9/9 [==============================] - 0s 4ms/step - loss: 8.1522 - mae: 2.0144 - mse: 8.1522 - val_loss: 14.0368 - val_mae: 2.6378 - val_mse: 14.0368\n",
            "Epoch 139/300\n",
            "9/9 [==============================] - 0s 5ms/step - loss: 8.1444 - mae: 2.0117 - mse: 8.1444 - val_loss: 14.1218 - val_mae: 2.6153 - val_mse: 14.1218\n",
            "Epoch 140/300\n",
            "9/9 [==============================] - 0s 4ms/step - loss: 8.0969 - mae: 2.0092 - mse: 8.0969 - val_loss: 13.8766 - val_mae: 2.6071 - val_mse: 13.8766\n",
            "Epoch 141/300\n",
            "9/9 [==============================] - 0s 5ms/step - loss: 8.0522 - mae: 2.0156 - mse: 8.0522 - val_loss: 13.9054 - val_mae: 2.6227 - val_mse: 13.9054\n",
            "Epoch 142/300\n",
            "9/9 [==============================] - 0s 5ms/step - loss: 8.0475 - mae: 2.0067 - mse: 8.0475 - val_loss: 13.9607 - val_mae: 2.6067 - val_mse: 13.9607\n",
            "Epoch 143/300\n",
            "9/9 [==============================] - 0s 5ms/step - loss: 8.0178 - mae: 2.0045 - mse: 8.0178 - val_loss: 13.6580 - val_mae: 2.5864 - val_mse: 13.6580\n",
            "Epoch 144/300\n",
            "9/9 [==============================] - 0s 4ms/step - loss: 7.9618 - mae: 2.0085 - mse: 7.9618 - val_loss: 13.6130 - val_mae: 2.5841 - val_mse: 13.6130\n",
            "Epoch 145/300\n",
            "9/9 [==============================] - 0s 5ms/step - loss: 7.9503 - mae: 1.9924 - mse: 7.9503 - val_loss: 14.1360 - val_mae: 2.6141 - val_mse: 14.1360\n",
            "Epoch 146/300\n",
            "9/9 [==============================] - 0s 4ms/step - loss: 7.8658 - mae: 1.9786 - mse: 7.8658 - val_loss: 13.5085 - val_mae: 2.5932 - val_mse: 13.5085\n",
            "Epoch 147/300\n",
            "9/9 [==============================] - 0s 6ms/step - loss: 7.9066 - mae: 2.0140 - mse: 7.9066 - val_loss: 13.3222 - val_mae: 2.5759 - val_mse: 13.3222\n",
            "Epoch 148/300\n",
            "9/9 [==============================] - 0s 7ms/step - loss: 7.8785 - mae: 1.9830 - mse: 7.8785 - val_loss: 13.6411 - val_mae: 2.5792 - val_mse: 13.6411\n",
            "Epoch 149/300\n",
            "9/9 [==============================] - 0s 5ms/step - loss: 7.7499 - mae: 1.9680 - mse: 7.7499 - val_loss: 13.5458 - val_mae: 2.5823 - val_mse: 13.5458\n",
            "Epoch 150/300\n",
            "9/9 [==============================] - 0s 4ms/step - loss: 7.6973 - mae: 1.9686 - mse: 7.6973 - val_loss: 13.1024 - val_mae: 2.5604 - val_mse: 13.1024\n",
            "Epoch 151/300\n",
            "9/9 [==============================] - 0s 4ms/step - loss: 7.7287 - mae: 1.9814 - mse: 7.7287 - val_loss: 13.4690 - val_mae: 2.5665 - val_mse: 13.4690\n",
            "Epoch 152/300\n",
            "9/9 [==============================] - 0s 7ms/step - loss: 7.6586 - mae: 1.9636 - mse: 7.6586 - val_loss: 13.5061 - val_mae: 2.5584 - val_mse: 13.5061\n",
            "Epoch 153/300\n",
            "9/9 [==============================] - 0s 5ms/step - loss: 7.6253 - mae: 1.9600 - mse: 7.6253 - val_loss: 13.2992 - val_mae: 2.5727 - val_mse: 13.2992\n",
            "Epoch 154/300\n",
            "9/9 [==============================] - 0s 4ms/step - loss: 7.5943 - mae: 1.9658 - mse: 7.5943 - val_loss: 13.4724 - val_mae: 2.5598 - val_mse: 13.4724\n",
            "Epoch 155/300\n",
            "9/9 [==============================] - 0s 5ms/step - loss: 7.5411 - mae: 1.9434 - mse: 7.5411 - val_loss: 13.4299 - val_mae: 2.5614 - val_mse: 13.4299\n",
            "Epoch 156/300\n",
            "9/9 [==============================] - 0s 7ms/step - loss: 7.5214 - mae: 1.9522 - mse: 7.5214 - val_loss: 13.0119 - val_mae: 2.5365 - val_mse: 13.0119\n",
            "Epoch 157/300\n",
            "9/9 [==============================] - 0s 5ms/step - loss: 7.4464 - mae: 1.9491 - mse: 7.4464 - val_loss: 13.4523 - val_mae: 2.5866 - val_mse: 13.4523\n",
            "Epoch 158/300\n",
            "9/9 [==============================] - 0s 5ms/step - loss: 7.4527 - mae: 1.9386 - mse: 7.4527 - val_loss: 13.4379 - val_mae: 2.5711 - val_mse: 13.4379\n",
            "Epoch 159/300\n",
            "9/9 [==============================] - 0s 6ms/step - loss: 7.4315 - mae: 1.9276 - mse: 7.4315 - val_loss: 13.3649 - val_mae: 2.5397 - val_mse: 13.3649\n",
            "Epoch 160/300\n",
            "9/9 [==============================] - 0s 4ms/step - loss: 7.3225 - mae: 1.9111 - mse: 7.3225 - val_loss: 12.9377 - val_mae: 2.5328 - val_mse: 12.9377\n",
            "Epoch 161/300\n",
            "9/9 [==============================] - 0s 5ms/step - loss: 7.3333 - mae: 1.9280 - mse: 7.3333 - val_loss: 13.1482 - val_mae: 2.5489 - val_mse: 13.1482\n",
            "Epoch 162/300\n",
            "9/9 [==============================] - 0s 4ms/step - loss: 7.3046 - mae: 1.9274 - mse: 7.3046 - val_loss: 13.0600 - val_mae: 2.5583 - val_mse: 13.0600\n",
            "Epoch 163/300\n",
            "9/9 [==============================] - 0s 7ms/step - loss: 7.2960 - mae: 1.9166 - mse: 7.2960 - val_loss: 12.9084 - val_mae: 2.5125 - val_mse: 12.9084\n",
            "Epoch 164/300\n",
            "9/9 [==============================] - 0s 6ms/step - loss: 7.2416 - mae: 1.9138 - mse: 7.2416 - val_loss: 12.9531 - val_mae: 2.5240 - val_mse: 12.9531\n",
            "Epoch 165/300\n",
            "9/9 [==============================] - 0s 5ms/step - loss: 7.2019 - mae: 1.9082 - mse: 7.2019 - val_loss: 13.0018 - val_mae: 2.5188 - val_mse: 13.0018\n",
            "Epoch 166/300\n",
            "9/9 [==============================] - 0s 5ms/step - loss: 7.1406 - mae: 1.9000 - mse: 7.1406 - val_loss: 13.1092 - val_mae: 2.5534 - val_mse: 13.1092\n",
            "Epoch 167/300\n",
            "9/9 [==============================] - 0s 5ms/step - loss: 7.0950 - mae: 1.8965 - mse: 7.0950 - val_loss: 12.9820 - val_mae: 2.5212 - val_mse: 12.9820\n",
            "Epoch 168/300\n",
            "9/9 [==============================] - 0s 4ms/step - loss: 7.0420 - mae: 1.8857 - mse: 7.0420 - val_loss: 12.7529 - val_mae: 2.5037 - val_mse: 12.7529\n",
            "Epoch 169/300\n",
            "9/9 [==============================] - 0s 4ms/step - loss: 7.0589 - mae: 1.8907 - mse: 7.0589 - val_loss: 12.9197 - val_mae: 2.5221 - val_mse: 12.9197\n",
            "Epoch 170/300\n",
            "9/9 [==============================] - 0s 4ms/step - loss: 6.9860 - mae: 1.8824 - mse: 6.9860 - val_loss: 12.7498 - val_mae: 2.5413 - val_mse: 12.7498\n",
            "Epoch 171/300\n",
            "9/9 [==============================] - 0s 4ms/step - loss: 6.9871 - mae: 1.8914 - mse: 6.9871 - val_loss: 12.6009 - val_mae: 2.5051 - val_mse: 12.6009\n",
            "Epoch 172/300\n",
            "9/9 [==============================] - 0s 5ms/step - loss: 6.9545 - mae: 1.8802 - mse: 6.9545 - val_loss: 12.6348 - val_mae: 2.4914 - val_mse: 12.6348\n",
            "Epoch 173/300\n",
            "9/9 [==============================] - 0s 5ms/step - loss: 6.8933 - mae: 1.8669 - mse: 6.8933 - val_loss: 12.9233 - val_mae: 2.5142 - val_mse: 12.9233\n",
            "Epoch 174/300\n",
            "9/9 [==============================] - 0s 5ms/step - loss: 6.8701 - mae: 1.8645 - mse: 6.8701 - val_loss: 12.5920 - val_mae: 2.4976 - val_mse: 12.5920\n",
            "Epoch 175/300\n",
            "9/9 [==============================] - 0s 5ms/step - loss: 6.7739 - mae: 1.8624 - mse: 6.7739 - val_loss: 12.4472 - val_mae: 2.4600 - val_mse: 12.4472\n",
            "Epoch 176/300\n",
            "9/9 [==============================] - 0s 6ms/step - loss: 6.8445 - mae: 1.8743 - mse: 6.8445 - val_loss: 12.8181 - val_mae: 2.5183 - val_mse: 12.8181\n",
            "Epoch 177/300\n",
            "9/9 [==============================] - 0s 6ms/step - loss: 6.7499 - mae: 1.8600 - mse: 6.7499 - val_loss: 12.4744 - val_mae: 2.4757 - val_mse: 12.4744\n",
            "Epoch 178/300\n",
            "9/9 [==============================] - 0s 7ms/step - loss: 6.8638 - mae: 1.8718 - mse: 6.8638 - val_loss: 12.5429 - val_mae: 2.4601 - val_mse: 12.5429\n",
            "Epoch 179/300\n",
            "9/9 [==============================] - 0s 5ms/step - loss: 6.9476 - mae: 1.9000 - mse: 6.9476 - val_loss: 12.4732 - val_mae: 2.5096 - val_mse: 12.4732\n",
            "Epoch 180/300\n",
            "9/9 [==============================] - 0s 4ms/step - loss: 6.8156 - mae: 1.8775 - mse: 6.8156 - val_loss: 12.9751 - val_mae: 2.5388 - val_mse: 12.9751\n",
            "Epoch 181/300\n",
            "9/9 [==============================] - 0s 6ms/step - loss: 6.6908 - mae: 1.8505 - mse: 6.6908 - val_loss: 12.4304 - val_mae: 2.4633 - val_mse: 12.4304\n",
            "Epoch 182/300\n",
            "9/9 [==============================] - 0s 5ms/step - loss: 6.6284 - mae: 1.8491 - mse: 6.6284 - val_loss: 12.3703 - val_mae: 2.4787 - val_mse: 12.3703\n",
            "Epoch 183/300\n",
            "9/9 [==============================] - 0s 5ms/step - loss: 6.5785 - mae: 1.8431 - mse: 6.5785 - val_loss: 12.3333 - val_mae: 2.4663 - val_mse: 12.3333\n",
            "Epoch 184/300\n",
            "9/9 [==============================] - 0s 7ms/step - loss: 6.4746 - mae: 1.8274 - mse: 6.4746 - val_loss: 12.3149 - val_mae: 2.4553 - val_mse: 12.3149\n",
            "Epoch 185/300\n",
            "9/9 [==============================] - 0s 4ms/step - loss: 6.4485 - mae: 1.8252 - mse: 6.4485 - val_loss: 12.3826 - val_mae: 2.4804 - val_mse: 12.3826\n",
            "Epoch 186/300\n",
            "9/9 [==============================] - 0s 4ms/step - loss: 6.4227 - mae: 1.8239 - mse: 6.4227 - val_loss: 12.4204 - val_mae: 2.4779 - val_mse: 12.4204\n",
            "Epoch 187/300\n",
            "9/9 [==============================] - 0s 7ms/step - loss: 6.4152 - mae: 1.8286 - mse: 6.4152 - val_loss: 12.3451 - val_mae: 2.4558 - val_mse: 12.3451\n",
            "Epoch 188/300\n",
            "9/9 [==============================] - 0s 5ms/step - loss: 6.3543 - mae: 1.8154 - mse: 6.3543 - val_loss: 12.2423 - val_mae: 2.4606 - val_mse: 12.2423\n",
            "Epoch 189/300\n",
            "9/9 [==============================] - 0s 5ms/step - loss: 6.3790 - mae: 1.8296 - mse: 6.3790 - val_loss: 12.0765 - val_mae: 2.4382 - val_mse: 12.0765\n",
            "Epoch 190/300\n",
            "9/9 [==============================] - 0s 7ms/step - loss: 6.3446 - mae: 1.8260 - mse: 6.3446 - val_loss: 12.6162 - val_mae: 2.4844 - val_mse: 12.6162\n",
            "Epoch 191/300\n",
            "9/9 [==============================] - 0s 5ms/step - loss: 6.3556 - mae: 1.8190 - mse: 6.3556 - val_loss: 12.1214 - val_mae: 2.4446 - val_mse: 12.1214\n",
            "Epoch 192/300\n",
            "9/9 [==============================] - 0s 4ms/step - loss: 6.3122 - mae: 1.8070 - mse: 6.3122 - val_loss: 12.4533 - val_mae: 2.4629 - val_mse: 12.4533\n",
            "Epoch 193/300\n",
            "9/9 [==============================] - 0s 6ms/step - loss: 6.2392 - mae: 1.8105 - mse: 6.2392 - val_loss: 12.4153 - val_mae: 2.4768 - val_mse: 12.4153\n",
            "Epoch 194/300\n",
            "9/9 [==============================] - 0s 5ms/step - loss: 6.2127 - mae: 1.7933 - mse: 6.2127 - val_loss: 12.2902 - val_mae: 2.4516 - val_mse: 12.2902\n",
            "Epoch 195/300\n",
            "9/9 [==============================] - 0s 5ms/step - loss: 6.1887 - mae: 1.7926 - mse: 6.1887 - val_loss: 11.9323 - val_mae: 2.4381 - val_mse: 11.9323\n",
            "Epoch 196/300\n",
            "9/9 [==============================] - 0s 6ms/step - loss: 6.1185 - mae: 1.7743 - mse: 6.1185 - val_loss: 12.3716 - val_mae: 2.4732 - val_mse: 12.3716\n",
            "Epoch 197/300\n",
            "9/9 [==============================] - 0s 6ms/step - loss: 6.0847 - mae: 1.7685 - mse: 6.0847 - val_loss: 12.1144 - val_mae: 2.4487 - val_mse: 12.1144\n",
            "Epoch 198/300\n",
            "9/9 [==============================] - 0s 4ms/step - loss: 6.1041 - mae: 1.7953 - mse: 6.1041 - val_loss: 11.8331 - val_mae: 2.4142 - val_mse: 11.8331\n",
            "Epoch 199/300\n",
            "9/9 [==============================] - 0s 4ms/step - loss: 6.1052 - mae: 1.7918 - mse: 6.1052 - val_loss: 12.3507 - val_mae: 2.4739 - val_mse: 12.3507\n",
            "Epoch 200/300\n",
            "9/9 [==============================] - 0s 5ms/step - loss: 6.0738 - mae: 1.7908 - mse: 6.0738 - val_loss: 11.7292 - val_mae: 2.4104 - val_mse: 11.7292\n",
            "Epoch 201/300\n",
            "9/9 [==============================] - 0s 4ms/step - loss: 6.0050 - mae: 1.7692 - mse: 6.0050 - val_loss: 11.9294 - val_mae: 2.4073 - val_mse: 11.9294\n",
            "Epoch 202/300\n",
            "9/9 [==============================] - 0s 5ms/step - loss: 5.9074 - mae: 1.7591 - mse: 5.9074 - val_loss: 11.9269 - val_mae: 2.4278 - val_mse: 11.9269\n",
            "Epoch 203/300\n",
            "9/9 [==============================] - 0s 6ms/step - loss: 5.9613 - mae: 1.7641 - mse: 5.9613 - val_loss: 11.8773 - val_mae: 2.4340 - val_mse: 11.8773\n",
            "Epoch 204/300\n",
            "9/9 [==============================] - 0s 5ms/step - loss: 5.9010 - mae: 1.7680 - mse: 5.9010 - val_loss: 11.6539 - val_mae: 2.4187 - val_mse: 11.6539\n",
            "Epoch 205/300\n",
            "9/9 [==============================] - 0s 7ms/step - loss: 5.8695 - mae: 1.7646 - mse: 5.8695 - val_loss: 12.0256 - val_mae: 2.4461 - val_mse: 12.0256\n",
            "Epoch 206/300\n",
            "9/9 [==============================] - 0s 4ms/step - loss: 5.9129 - mae: 1.7551 - mse: 5.9129 - val_loss: 11.7586 - val_mae: 2.4097 - val_mse: 11.7586\n",
            "Epoch 207/300\n",
            "9/9 [==============================] - 0s 5ms/step - loss: 5.8281 - mae: 1.7464 - mse: 5.8281 - val_loss: 11.4718 - val_mae: 2.4033 - val_mse: 11.4718\n",
            "Epoch 208/300\n",
            "9/9 [==============================] - 0s 5ms/step - loss: 5.7620 - mae: 1.7468 - mse: 5.7620 - val_loss: 11.6130 - val_mae: 2.3903 - val_mse: 11.6130\n",
            "Epoch 209/300\n",
            "9/9 [==============================] - 0s 5ms/step - loss: 5.7417 - mae: 1.7407 - mse: 5.7417 - val_loss: 11.7482 - val_mae: 2.4096 - val_mse: 11.7482\n",
            "Epoch 210/300\n",
            "9/9 [==============================] - 0s 5ms/step - loss: 5.7126 - mae: 1.7399 - mse: 5.7126 - val_loss: 11.5944 - val_mae: 2.4019 - val_mse: 11.5944\n",
            "Epoch 211/300\n",
            "9/9 [==============================] - 0s 5ms/step - loss: 5.6805 - mae: 1.7305 - mse: 5.6805 - val_loss: 11.4559 - val_mae: 2.3750 - val_mse: 11.4559\n",
            "Epoch 212/300\n",
            "9/9 [==============================] - 0s 5ms/step - loss: 5.6531 - mae: 1.7199 - mse: 5.6531 - val_loss: 11.7247 - val_mae: 2.4147 - val_mse: 11.7247\n",
            "Epoch 213/300\n",
            "9/9 [==============================] - 0s 5ms/step - loss: 5.6223 - mae: 1.7287 - mse: 5.6223 - val_loss: 11.5179 - val_mae: 2.3840 - val_mse: 11.5179\n",
            "Epoch 214/300\n",
            "9/9 [==============================] - 0s 6ms/step - loss: 5.6009 - mae: 1.7243 - mse: 5.6009 - val_loss: 11.7510 - val_mae: 2.3963 - val_mse: 11.7510\n",
            "Epoch 215/300\n",
            "9/9 [==============================] - 0s 5ms/step - loss: 5.6089 - mae: 1.7138 - mse: 5.6089 - val_loss: 11.7231 - val_mae: 2.4138 - val_mse: 11.7231\n",
            "Epoch 216/300\n",
            "9/9 [==============================] - 0s 5ms/step - loss: 5.6457 - mae: 1.7247 - mse: 5.6457 - val_loss: 11.6131 - val_mae: 2.3867 - val_mse: 11.6131\n",
            "Epoch 217/300\n",
            "9/9 [==============================] - 0s 6ms/step - loss: 5.4729 - mae: 1.6954 - mse: 5.4729 - val_loss: 11.7969 - val_mae: 2.4219 - val_mse: 11.7969\n",
            "Epoch 218/300\n",
            "9/9 [==============================] - 0s 4ms/step - loss: 5.5672 - mae: 1.7217 - mse: 5.5672 - val_loss: 11.5036 - val_mae: 2.4065 - val_mse: 11.5036\n",
            "Epoch 219/300\n",
            "9/9 [==============================] - 0s 5ms/step - loss: 5.4654 - mae: 1.7053 - mse: 5.4654 - val_loss: 11.5233 - val_mae: 2.3857 - val_mse: 11.5233\n",
            "Epoch 220/300\n",
            "9/9 [==============================] - 0s 4ms/step - loss: 5.4552 - mae: 1.6889 - mse: 5.4552 - val_loss: 11.6018 - val_mae: 2.3986 - val_mse: 11.6018\n",
            "Epoch 221/300\n",
            "9/9 [==============================] - 0s 5ms/step - loss: 5.4112 - mae: 1.6965 - mse: 5.4112 - val_loss: 11.4367 - val_mae: 2.3890 - val_mse: 11.4367\n",
            "Epoch 222/300\n",
            "9/9 [==============================] - 0s 6ms/step - loss: 5.4728 - mae: 1.6998 - mse: 5.4728 - val_loss: 11.4887 - val_mae: 2.3983 - val_mse: 11.4887\n",
            "Epoch 223/300\n",
            "9/9 [==============================] - 0s 7ms/step - loss: 5.3936 - mae: 1.6799 - mse: 5.3936 - val_loss: 11.4846 - val_mae: 2.3749 - val_mse: 11.4846\n",
            "Epoch 224/300\n",
            "9/9 [==============================] - 0s 4ms/step - loss: 5.4107 - mae: 1.6872 - mse: 5.4107 - val_loss: 11.6548 - val_mae: 2.4203 - val_mse: 11.6548\n",
            "Epoch 225/300\n",
            "9/9 [==============================] - 0s 5ms/step - loss: 5.3280 - mae: 1.6693 - mse: 5.3280 - val_loss: 11.5840 - val_mae: 2.3950 - val_mse: 11.5840\n",
            "Epoch 226/300\n",
            "9/9 [==============================] - 0s 7ms/step - loss: 5.2882 - mae: 1.6674 - mse: 5.2882 - val_loss: 11.6027 - val_mae: 2.3995 - val_mse: 11.6027\n",
            "Epoch 227/300\n",
            "9/9 [==============================] - 0s 6ms/step - loss: 5.3180 - mae: 1.6808 - mse: 5.3180 - val_loss: 11.6912 - val_mae: 2.4079 - val_mse: 11.6912\n",
            "Epoch 228/300\n",
            "9/9 [==============================] - 0s 4ms/step - loss: 5.2700 - mae: 1.6583 - mse: 5.2700 - val_loss: 11.3037 - val_mae: 2.3574 - val_mse: 11.3037\n",
            "Epoch 229/300\n",
            "9/9 [==============================] - 0s 6ms/step - loss: 5.2563 - mae: 1.6631 - mse: 5.2563 - val_loss: 11.3076 - val_mae: 2.3706 - val_mse: 11.3076\n",
            "Epoch 230/300\n",
            "9/9 [==============================] - 0s 6ms/step - loss: 5.2083 - mae: 1.6653 - mse: 5.2083 - val_loss: 11.1750 - val_mae: 2.3797 - val_mse: 11.1750\n",
            "Epoch 231/300\n",
            "9/9 [==============================] - 0s 4ms/step - loss: 5.2667 - mae: 1.6808 - mse: 5.2667 - val_loss: 11.4900 - val_mae: 2.3843 - val_mse: 11.4900\n",
            "Epoch 232/300\n",
            "9/9 [==============================] - 0s 5ms/step - loss: 5.2190 - mae: 1.6699 - mse: 5.2190 - val_loss: 11.5805 - val_mae: 2.4187 - val_mse: 11.5805\n",
            "Epoch 233/300\n",
            "9/9 [==============================] - 0s 6ms/step - loss: 5.1105 - mae: 1.6538 - mse: 5.1105 - val_loss: 11.2106 - val_mae: 2.3713 - val_mse: 11.2106\n",
            "Epoch 234/300\n",
            "9/9 [==============================] - 0s 5ms/step - loss: 5.1850 - mae: 1.6533 - mse: 5.1850 - val_loss: 11.3332 - val_mae: 2.3542 - val_mse: 11.3332\n",
            "Epoch 235/300\n",
            "9/9 [==============================] - 0s 6ms/step - loss: 5.3972 - mae: 1.6782 - mse: 5.3972 - val_loss: 11.3469 - val_mae: 2.4084 - val_mse: 11.3469\n",
            "Epoch 236/300\n",
            "9/9 [==============================] - 0s 5ms/step - loss: 5.2839 - mae: 1.6567 - mse: 5.2839 - val_loss: 11.3658 - val_mae: 2.3450 - val_mse: 11.3658\n",
            "Epoch 237/300\n",
            "9/9 [==============================] - 0s 5ms/step - loss: 5.1319 - mae: 1.6417 - mse: 5.1319 - val_loss: 10.9745 - val_mae: 2.3505 - val_mse: 10.9745\n",
            "Epoch 238/300\n",
            "9/9 [==============================] - 0s 5ms/step - loss: 5.1015 - mae: 1.6501 - mse: 5.1015 - val_loss: 10.9429 - val_mae: 2.3324 - val_mse: 10.9429\n",
            "Epoch 239/300\n",
            "9/9 [==============================] - 0s 4ms/step - loss: 5.0252 - mae: 1.6273 - mse: 5.0252 - val_loss: 11.2374 - val_mae: 2.3569 - val_mse: 11.2374\n",
            "Epoch 240/300\n",
            "9/9 [==============================] - 0s 7ms/step - loss: 5.0036 - mae: 1.6215 - mse: 5.0036 - val_loss: 11.3760 - val_mae: 2.3549 - val_mse: 11.3760\n",
            "Epoch 241/300\n",
            "9/9 [==============================] - 0s 7ms/step - loss: 4.9704 - mae: 1.6100 - mse: 4.9704 - val_loss: 11.1551 - val_mae: 2.3406 - val_mse: 11.1551\n",
            "Epoch 242/300\n",
            "9/9 [==============================] - 0s 4ms/step - loss: 4.9577 - mae: 1.6303 - mse: 4.9577 - val_loss: 10.9784 - val_mae: 2.3494 - val_mse: 10.9784\n",
            "Epoch 243/300\n",
            "9/9 [==============================] - 0s 5ms/step - loss: 4.9035 - mae: 1.6111 - mse: 4.9035 - val_loss: 11.3088 - val_mae: 2.3724 - val_mse: 11.3088\n",
            "Epoch 244/300\n",
            "9/9 [==============================] - 0s 5ms/step - loss: 4.8947 - mae: 1.6118 - mse: 4.8947 - val_loss: 11.0499 - val_mae: 2.3317 - val_mse: 11.0499\n",
            "Epoch 245/300\n",
            "9/9 [==============================] - 0s 4ms/step - loss: 4.9699 - mae: 1.6009 - mse: 4.9699 - val_loss: 11.1840 - val_mae: 2.3294 - val_mse: 11.1840\n",
            "Epoch 246/300\n",
            "9/9 [==============================] - 0s 5ms/step - loss: 4.8835 - mae: 1.6117 - mse: 4.8835 - val_loss: 11.1283 - val_mae: 2.3602 - val_mse: 11.1283\n",
            "Epoch 247/300\n",
            "9/9 [==============================] - 0s 4ms/step - loss: 4.9467 - mae: 1.6180 - mse: 4.9467 - val_loss: 11.1149 - val_mae: 2.3437 - val_mse: 11.1149\n",
            "Epoch 248/300\n",
            "9/9 [==============================] - 0s 5ms/step - loss: 4.8117 - mae: 1.5916 - mse: 4.8117 - val_loss: 10.9057 - val_mae: 2.3194 - val_mse: 10.9057\n",
            "Epoch 249/300\n",
            "9/9 [==============================] - 0s 5ms/step - loss: 4.8536 - mae: 1.5956 - mse: 4.8536 - val_loss: 11.1746 - val_mae: 2.3401 - val_mse: 11.1746\n",
            "Epoch 250/300\n",
            "9/9 [==============================] - 0s 5ms/step - loss: 4.7308 - mae: 1.5791 - mse: 4.7308 - val_loss: 11.1098 - val_mae: 2.3528 - val_mse: 11.1098\n",
            "Epoch 251/300\n",
            "9/9 [==============================] - 0s 5ms/step - loss: 4.8244 - mae: 1.6049 - mse: 4.8244 - val_loss: 10.8331 - val_mae: 2.3271 - val_mse: 10.8331\n",
            "Epoch 252/300\n",
            "9/9 [==============================] - 0s 5ms/step - loss: 4.7698 - mae: 1.5843 - mse: 4.7698 - val_loss: 11.0320 - val_mae: 2.3297 - val_mse: 11.0320\n",
            "Epoch 253/300\n",
            "9/9 [==============================] - 0s 4ms/step - loss: 4.7364 - mae: 1.5673 - mse: 4.7364 - val_loss: 10.9808 - val_mae: 2.3149 - val_mse: 10.9808\n",
            "Epoch 254/300\n",
            "9/9 [==============================] - 0s 5ms/step - loss: 4.7008 - mae: 1.5715 - mse: 4.7008 - val_loss: 10.8279 - val_mae: 2.3175 - val_mse: 10.8279\n",
            "Epoch 255/300\n",
            "9/9 [==============================] - 0s 6ms/step - loss: 4.7304 - mae: 1.5862 - mse: 4.7304 - val_loss: 10.9396 - val_mae: 2.3310 - val_mse: 10.9396\n",
            "Epoch 256/300\n",
            "9/9 [==============================] - 0s 7ms/step - loss: 4.6618 - mae: 1.5735 - mse: 4.6618 - val_loss: 10.8279 - val_mae: 2.2977 - val_mse: 10.8279\n",
            "Epoch 257/300\n",
            "9/9 [==============================] - 0s 7ms/step - loss: 4.6577 - mae: 1.5558 - mse: 4.6577 - val_loss: 10.8960 - val_mae: 2.3075 - val_mse: 10.8960\n",
            "Epoch 258/300\n",
            "9/9 [==============================] - 0s 7ms/step - loss: 4.6274 - mae: 1.5527 - mse: 4.6274 - val_loss: 10.8858 - val_mae: 2.3133 - val_mse: 10.8858\n",
            "Epoch 259/300\n",
            "9/9 [==============================] - 0s 6ms/step - loss: 4.6253 - mae: 1.5569 - mse: 4.6253 - val_loss: 10.8088 - val_mae: 2.3002 - val_mse: 10.8088\n",
            "Epoch 260/300\n",
            "9/9 [==============================] - 0s 5ms/step - loss: 4.6791 - mae: 1.5683 - mse: 4.6791 - val_loss: 10.9267 - val_mae: 2.3253 - val_mse: 10.9267\n",
            "Epoch 261/300\n",
            "9/9 [==============================] - 0s 4ms/step - loss: 4.7025 - mae: 1.5623 - mse: 4.7025 - val_loss: 10.8952 - val_mae: 2.2983 - val_mse: 10.8952\n",
            "Epoch 262/300\n",
            "9/9 [==============================] - 0s 4ms/step - loss: 4.5826 - mae: 1.5515 - mse: 4.5826 - val_loss: 10.7375 - val_mae: 2.2992 - val_mse: 10.7375\n",
            "Epoch 263/300\n",
            "9/9 [==============================] - 0s 6ms/step - loss: 4.5942 - mae: 1.5457 - mse: 4.5942 - val_loss: 10.9481 - val_mae: 2.3074 - val_mse: 10.9481\n",
            "Epoch 264/300\n",
            "9/9 [==============================] - 0s 7ms/step - loss: 4.5103 - mae: 1.5171 - mse: 4.5103 - val_loss: 10.5378 - val_mae: 2.2783 - val_mse: 10.5378\n",
            "Epoch 265/300\n",
            "9/9 [==============================] - 0s 6ms/step - loss: 4.6220 - mae: 1.5661 - mse: 4.6220 - val_loss: 10.6355 - val_mae: 2.2938 - val_mse: 10.6355\n",
            "Epoch 266/300\n",
            "9/9 [==============================] - 0s 5ms/step - loss: 4.5028 - mae: 1.5298 - mse: 4.5028 - val_loss: 11.0059 - val_mae: 2.2962 - val_mse: 11.0059\n",
            "Epoch 267/300\n",
            "9/9 [==============================] - 0s 7ms/step - loss: 4.5197 - mae: 1.5205 - mse: 4.5197 - val_loss: 10.7219 - val_mae: 2.2797 - val_mse: 10.7219\n",
            "Epoch 268/300\n",
            "9/9 [==============================] - 0s 7ms/step - loss: 4.6226 - mae: 1.5734 - mse: 4.6226 - val_loss: 10.4966 - val_mae: 2.2824 - val_mse: 10.4966\n",
            "Epoch 269/300\n",
            "9/9 [==============================] - 0s 5ms/step - loss: 4.4850 - mae: 1.5301 - mse: 4.4850 - val_loss: 10.8194 - val_mae: 2.2675 - val_mse: 10.8194\n",
            "Epoch 270/300\n",
            "9/9 [==============================] - 0s 5ms/step - loss: 4.4796 - mae: 1.5263 - mse: 4.4796 - val_loss: 10.7885 - val_mae: 2.3136 - val_mse: 10.7885\n",
            "Epoch 271/300\n",
            "9/9 [==============================] - 0s 7ms/step - loss: 4.4457 - mae: 1.5292 - mse: 4.4457 - val_loss: 10.7860 - val_mae: 2.2836 - val_mse: 10.7860\n",
            "Epoch 272/300\n",
            "9/9 [==============================] - 0s 5ms/step - loss: 4.4553 - mae: 1.5269 - mse: 4.4553 - val_loss: 10.6642 - val_mae: 2.2786 - val_mse: 10.6642\n",
            "Epoch 273/300\n",
            "9/9 [==============================] - 0s 7ms/step - loss: 4.3967 - mae: 1.5112 - mse: 4.3967 - val_loss: 10.8294 - val_mae: 2.2802 - val_mse: 10.8294\n",
            "Epoch 274/300\n",
            "9/9 [==============================] - 0s 8ms/step - loss: 4.3922 - mae: 1.5047 - mse: 4.3922 - val_loss: 10.5748 - val_mae: 2.2659 - val_mse: 10.5748\n",
            "Epoch 275/300\n",
            "9/9 [==============================] - 0s 6ms/step - loss: 4.4253 - mae: 1.5087 - mse: 4.4253 - val_loss: 10.6954 - val_mae: 2.2742 - val_mse: 10.6954\n",
            "Epoch 276/300\n",
            "9/9 [==============================] - 0s 5ms/step - loss: 4.4189 - mae: 1.5251 - mse: 4.4189 - val_loss: 10.5511 - val_mae: 2.2737 - val_mse: 10.5511\n",
            "Epoch 277/300\n",
            "9/9 [==============================] - 0s 7ms/step - loss: 4.4055 - mae: 1.4997 - mse: 4.4055 - val_loss: 10.9883 - val_mae: 2.2780 - val_mse: 10.9883\n",
            "Epoch 278/300\n",
            "9/9 [==============================] - 0s 5ms/step - loss: 4.3905 - mae: 1.4945 - mse: 4.3905 - val_loss: 11.0454 - val_mae: 2.3346 - val_mse: 11.0454\n",
            "Epoch 279/300\n",
            "9/9 [==============================] - 0s 5ms/step - loss: 4.4392 - mae: 1.5366 - mse: 4.4392 - val_loss: 10.5773 - val_mae: 2.3024 - val_mse: 10.5773\n",
            "Epoch 280/300\n",
            "9/9 [==============================] - 0s 6ms/step - loss: 4.5067 - mae: 1.5268 - mse: 4.5067 - val_loss: 11.0308 - val_mae: 2.2909 - val_mse: 11.0308\n",
            "Epoch 281/300\n",
            "9/9 [==============================] - 0s 7ms/step - loss: 4.2980 - mae: 1.4937 - mse: 4.2980 - val_loss: 10.6223 - val_mae: 2.2908 - val_mse: 10.6223\n",
            "Epoch 282/300\n",
            "9/9 [==============================] - 0s 5ms/step - loss: 4.2887 - mae: 1.4990 - mse: 4.2887 - val_loss: 10.7754 - val_mae: 2.2791 - val_mse: 10.7754\n",
            "Epoch 283/300\n",
            "9/9 [==============================] - 0s 4ms/step - loss: 4.2843 - mae: 1.4957 - mse: 4.2843 - val_loss: 10.6280 - val_mae: 2.2801 - val_mse: 10.6280\n",
            "Epoch 284/300\n",
            "9/9 [==============================] - 0s 4ms/step - loss: 4.2733 - mae: 1.4982 - mse: 4.2733 - val_loss: 10.9993 - val_mae: 2.2961 - val_mse: 10.9993\n",
            "Epoch 285/300\n",
            "9/9 [==============================] - 0s 6ms/step - loss: 4.3667 - mae: 1.5082 - mse: 4.3667 - val_loss: 10.2276 - val_mae: 2.2330 - val_mse: 10.2276\n",
            "Epoch 286/300\n",
            "9/9 [==============================] - 0s 6ms/step - loss: 4.1658 - mae: 1.4759 - mse: 4.1658 - val_loss: 10.9126 - val_mae: 2.3013 - val_mse: 10.9126\n",
            "Epoch 287/300\n",
            "9/9 [==============================] - 0s 5ms/step - loss: 4.2558 - mae: 1.4875 - mse: 4.2558 - val_loss: 10.7221 - val_mae: 2.2808 - val_mse: 10.7221\n",
            "Epoch 288/300\n",
            "9/9 [==============================] - 0s 4ms/step - loss: 4.1799 - mae: 1.4810 - mse: 4.1799 - val_loss: 10.4278 - val_mae: 2.2527 - val_mse: 10.4278\n",
            "Epoch 289/300\n",
            "9/9 [==============================] - 0s 5ms/step - loss: 4.1400 - mae: 1.4628 - mse: 4.1400 - val_loss: 10.7374 - val_mae: 2.2824 - val_mse: 10.7374\n",
            "Epoch 290/300\n",
            "9/9 [==============================] - 0s 6ms/step - loss: 4.1945 - mae: 1.4704 - mse: 4.1945 - val_loss: 10.8730 - val_mae: 2.2989 - val_mse: 10.8730\n",
            "Epoch 291/300\n",
            "9/9 [==============================] - 0s 5ms/step - loss: 4.1968 - mae: 1.4716 - mse: 4.1968 - val_loss: 10.4740 - val_mae: 2.2539 - val_mse: 10.4740\n",
            "Epoch 292/300\n",
            "9/9 [==============================] - 0s 5ms/step - loss: 4.1268 - mae: 1.4762 - mse: 4.1268 - val_loss: 10.6335 - val_mae: 2.2734 - val_mse: 10.6335\n",
            "Epoch 293/300\n",
            "9/9 [==============================] - 0s 5ms/step - loss: 4.1212 - mae: 1.4470 - mse: 4.1212 - val_loss: 10.4805 - val_mae: 2.2453 - val_mse: 10.4805\n",
            "Epoch 294/300\n",
            "9/9 [==============================] - 0s 5ms/step - loss: 4.0792 - mae: 1.4505 - mse: 4.0792 - val_loss: 10.3127 - val_mae: 2.2641 - val_mse: 10.3127\n",
            "Epoch 295/300\n",
            "9/9 [==============================] - 0s 5ms/step - loss: 4.0965 - mae: 1.4678 - mse: 4.0965 - val_loss: 10.5980 - val_mae: 2.2724 - val_mse: 10.5980\n",
            "Epoch 296/300\n",
            "9/9 [==============================] - 0s 6ms/step - loss: 4.1006 - mae: 1.4475 - mse: 4.1006 - val_loss: 10.5060 - val_mae: 2.2535 - val_mse: 10.5060\n",
            "Epoch 297/300\n",
            "9/9 [==============================] - 0s 5ms/step - loss: 4.0469 - mae: 1.4464 - mse: 4.0469 - val_loss: 10.1543 - val_mae: 2.2276 - val_mse: 10.1543\n",
            "Epoch 298/300\n",
            "9/9 [==============================] - 0s 6ms/step - loss: 4.0782 - mae: 1.4539 - mse: 4.0782 - val_loss: 10.4432 - val_mae: 2.2476 - val_mse: 10.4432\n",
            "Epoch 299/300\n",
            "9/9 [==============================] - 0s 6ms/step - loss: 4.0384 - mae: 1.4411 - mse: 4.0384 - val_loss: 10.3238 - val_mae: 2.2290 - val_mse: 10.3238\n",
            "Epoch 300/300\n",
            "9/9 [==============================] - 0s 4ms/step - loss: 3.9951 - mae: 1.4472 - mse: 3.9951 - val_loss: 10.4210 - val_mae: 2.2505 - val_mse: 10.4210\n"
          ],
          "name": "stdout"
        }
      ]
    },
    {
      "cell_type": "code",
      "metadata": {
        "colab": {
          "base_uri": "https://localhost:8080/",
          "height": 350
        },
        "id": "WPJcavRSnfQQ",
        "outputId": "c1c4a781-b015-4dc6-9785-7539e67a8ba2"
      },
      "source": [
        "import matplotlib.pyplot as plt\n",
        "\n",
        "his_dict = history.history\n",
        "mse = his_dict['mse']\n",
        "val_mse = his_dict['val_mse'] # 검증 데이터가 있는 경우 ‘val_’ 수식어가 붙습니다.\n",
        "\n",
        "epochs = range(1, len(mse) + 1)\n",
        "fig = plt.figure(figsize = (10, 5))\n",
        "\n",
        "# 훈련 및 검증 손실 그리기\n",
        "ax1 = fig.add_subplot(1, 2, 1)\n",
        "ax1.plot(epochs, mse, color = 'blue', label = 'train_mse')\n",
        "ax1.plot(epochs, val_mse, color = 'orange', label = 'val_mse')\n",
        "ax1.set_title('train and val mse')\n",
        "ax1.set_xlabel('epochs')\n",
        "ax1.set_ylabel('mse')\n",
        "ax1.legend()\n",
        "\n",
        "mae = his_dict['mae']\n",
        "val_mae = his_dict['val_mae']\n",
        "\n",
        "# 훈련 및 검증 정확도 그리기\n",
        "ax2 = fig.add_subplot(1, 2, 2)\n",
        "ax2.plot(epochs, mae, color = 'blue', label = 'train_mae')\n",
        "ax2.plot(epochs, val_mae, color = 'orange', label = 'val_mae')\n",
        "ax2.set_title('train and val mae')\n",
        "ax2.set_xlabel('epochs')\n",
        "ax2.set_ylabel('mae')\n",
        "ax2.legend()\n",
        "\n",
        "plt.show()\n"
      ],
      "execution_count": 10,
      "outputs": [
        {
          "output_type": "display_data",
          "data": {
            "image/png": "[encoded data removed]",
            "text/plain": [
              "<Figure size 720x360 with 2 Axes>"
            ]
          },
          "metadata": {
            "tags": [],
            "needs_background": "light"
          }
        }
      ]
    },
    {
      "cell_type": "markdown",
      "metadata": {
        "id": "g-q45HVfoKXw"
      },
      "source": [
        "모델 평가하기"
      ]
    },
    {
      "cell_type": "code",
      "metadata": {
        "colab": {
          "base_uri": "https://localhost:8080/"
        },
        "id": "YfuPPUGJoLIl",
        "outputId": "00af7e31-a2f7-4194-9cd7-c64355fcdb70"
      },
      "source": [
        "model.evaluate(x_test, y_test) # mae 2.0 -> 실제 집값과 2000 달러정도 차이"
      ],
      "execution_count": 12,
      "outputs": [
        {
          "output_type": "stream",
          "text": [
            "4/4 [==============================] - 0s 3ms/step - loss: 7.8889 - mae: 1.9912 - mse: 7.8889\n"
          ],
          "name": "stdout"
        },
        {
          "output_type": "execute_result",
          "data": {
            "text/plain": [
              "[7.888901233673096, 1.991208791732788, 7.888901233673096]"
            ]
          },
          "metadata": {
            "tags": []
          },
          "execution_count": 12
        }
      ]
    },
    {
      "cell_type": "markdown",
      "metadata": {
        "id": "dhRa_NlyohYA"
      },
      "source": [
        "모델 예측하기"
      ]
    },
    {
      "cell_type": "code",
      "metadata": {
        "colab": {
          "base_uri": "https://localhost:8080/",
          "height": 279
        },
        "id": "CmodycgSoXKo",
        "outputId": "01d7a01f-2a14-4534-972f-3000b6b9b138"
      },
      "source": [
        "test_predictions = model.predict(x_test).flatten()\n",
        "\n",
        "plt.scatter(y_test, test_predictions)\n",
        "plt.xlabel('True Values [Price]')\n",
        "plt.ylabel('Predictions [Price]')\n",
        "plt.axis('equal')\n",
        "plt.axis('square')\n",
        "plt.xlim([0,plt.xlim()[1]])\n",
        "plt.ylim([0,plt.ylim()[1]])\n",
        "_ = plt.plot([-100, 100], [-100, 100])\n"
      ],
      "execution_count": 11,
      "outputs": [
        {
          "output_type": "display_data",
          "data": {
            "image/png": "[encoded data removed]",
            "text/plain": [
              "<Figure size 432x288 with 1 Axes>"
            ]
          },
          "metadata": {
            "tags": [],
            "needs_background": "light"
          }
        }
      ]
    },
    {
      "cell_type": "code",
      "metadata": {
        "id": "qqFLSK30oXfz"
      },
      "source": [
        ""
      ],
      "execution_count": null,
      "outputs": []
    }
  ]
}