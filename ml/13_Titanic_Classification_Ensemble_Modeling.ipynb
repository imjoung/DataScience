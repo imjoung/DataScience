{
  "nbformat": 4,
  "nbformat_minor": 0,
  "metadata": {
    "colab": {
      "name": "13-Titanic Classification - Ensemble Modeling.ipynb",
      "provenance": [],
      "collapsed_sections": [
        "gcz061EqrI1S",
        "GchTG6u0tOV6",
        "8d45TNwFvKa-",
        "Lff-rJPW2dFn",
        "MeZW0JZY8fV8",
        "8UUm93b9BBAY"
      ],
      "authorship_tag": "ABX9TyPgte8y2pWzy5/6ltRFegfY",
      "include_colab_link": true
    },
    "kernelspec": {
      "name": "python3",
      "display_name": "Python 3"
    },
    "language_info": {
      "name": "python"
    }
  },
  "cells": [
    {
      "cell_type": "markdown",
      "metadata": {
        "id": "view-in-github",
        "colab_type": "text"
      },
      "source": [
        "<a href=\"https://colab.research.google.com/github/imjoung/DataScience/blob/main/ml/13_Titanic_Classification_Ensemble_Modeling.ipynb\" target=\"_parent\"><img src=\"https://colab.research.google.com/assets/colab-badge.svg\" alt=\"Open In Colab\"/></a>"
      ]
    },
    {
      "cell_type": "markdown",
      "metadata": {
        "id": "EZqXNLjkqSQV"
      },
      "source": [
        "문제 정의 : 타이타닉 생존자 예측 데이터 셋 사용하여 유무를 예측하는 이진 분류 문제로 정의<br>\n",
        "사망 : 0, 생존 : 1"
      ]
    },
    {
      "cell_type": "code",
      "metadata": {
        "id": "GpcqJfzkpvwg"
      },
      "source": [
        "# Libraries for reading and handling the data\n",
        "import numpy as np\n",
        "import pandas as pd\n",
        "import re\n",
        "\n",
        "# Libraries for data cisualization\n",
        "import matplotlib.pyplot as plt\n",
        "import seaborn as sns\n",
        "\n",
        "# Libraries for data preprocessing\n",
        "from sklearn.model_selection import train_test_split\n",
        "from sklearn.preprocessing import StandardScaler, OrdinalEncoder, OneHotEncoder\n",
        "from sklearn.compose import ColumnTransformer\n",
        "from sklearn.base import BaseEstimator, TransformerMixin\n",
        "\n",
        "# Libraries for creating ML model\n",
        "from sklearn.linear_model import LogisticRegression\n",
        "from sklearn.tree import DecisionTreeClassifier\n",
        "from sklearn.ensemble import RandomForestClassifier\n",
        "from sklearn.ensemble import GradientBoostingClassifier\n",
        "\n",
        "# Library for Analysing the ML model\n",
        "from sklearn import metrics"
      ],
      "execution_count": 1,
      "outputs": []
    },
    {
      "cell_type": "markdown",
      "metadata": {
        "id": "gcz061EqrI1S"
      },
      "source": [
        "### step1) 데이터 준비하기"
      ]
    },
    {
      "cell_type": "code",
      "metadata": {
        "colab": {
          "base_uri": "https://localhost:8080/"
        },
        "id": "kKp5sgEZr7Ob",
        "outputId": "6d5042ef-ec17-47cf-ff74-578f50970f34"
      },
      "source": [
        "train_path = 'train.csv'\n",
        "target = 'Survived'\n",
        "index = 'PassengerId'\n",
        "\n",
        "dtypes = ({\n",
        "    'Survived': bool, \n",
        "    'Pclass':   'category', \n",
        "    'Name':     'category',\n",
        "    'Sex':      'category',\n",
        "    'Age':      float,\n",
        "    'SibSp':    int,\n",
        "    'Parch':    int,\n",
        "    'Ticket':  'category',\n",
        "    'Fare':     float,\n",
        "    'Cabin':   'category',\n",
        "    'Embarked':'category'\n",
        "})\n",
        "\n",
        "titanic = pd.read_csv(train_path, index_col=index, dtype=dtypes)\n",
        "\n",
        "# 데이터 살펴보기\n",
        "titanic.info()"
      ],
      "execution_count": 2,
      "outputs": [
        {
          "output_type": "stream",
          "text": [
            "<class 'pandas.core.frame.DataFrame'>\n",
            "Int64Index: 891 entries, 1 to 891\n",
            "Data columns (total 11 columns):\n",
            " #   Column    Non-Null Count  Dtype   \n",
            "---  ------    --------------  -----   \n",
            " 0   Survived  891 non-null    bool    \n",
            " 1   Pclass    891 non-null    category\n",
            " 2   Name      891 non-null    category\n",
            " 3   Sex       891 non-null    category\n",
            " 4   Age       714 non-null    float64 \n",
            " 5   SibSp     891 non-null    int64   \n",
            " 6   Parch     891 non-null    int64   \n",
            " 7   Ticket    891 non-null    category\n",
            " 8   Fare      891 non-null    float64 \n",
            " 9   Cabin     204 non-null    category\n",
            " 10  Embarked  889 non-null    category\n",
            "dtypes: bool(1), category(6), float64(2), int64(2)\n",
            "memory usage: 122.2 KB\n"
          ],
          "name": "stdout"
        }
      ]
    },
    {
      "cell_type": "markdown",
      "metadata": {
        "id": "GchTG6u0tOV6"
      },
      "source": [
        "### step 2) 데이터 시각화"
      ]
    },
    {
      "cell_type": "code",
      "metadata": {
        "colab": {
          "base_uri": "https://localhost:8080/"
        },
        "id": "6XafrKMIs_UJ",
        "outputId": "d4a9e180-b396-4971-8ecf-e905f065d084"
      },
      "source": [
        "titanic['Survived'].value_counts()"
      ],
      "execution_count": 3,
      "outputs": [
        {
          "output_type": "execute_result",
          "data": {
            "text/plain": [
              "False    549\n",
              "True     342\n",
              "Name: Survived, dtype: int64"
            ]
          },
          "metadata": {
            "tags": []
          },
          "execution_count": 3
        }
      ]
    },
    {
      "cell_type": "code",
      "metadata": {
        "colab": {
          "base_uri": "https://localhost:8080/",
          "height": 0
        },
        "id": "PpcqP5dKtTQh",
        "outputId": "b0db0123-07b5-48e2-a6bb-6b59b746be6e"
      },
      "source": [
        "attributes = ['Survived','Sex','Pclass','Embarked','SibSp','Parch']\n",
        "\n",
        "plt.figure(figsize=(10,10),dpi=150)\n",
        "\n",
        "for i, feature in enumerate(attributes) :\n",
        "  plt.subplot(3,3,i+1)\n",
        "  sns.countplot(data=titanic, x=feature, hue='Survived')\n",
        "\n",
        "plt.tight_layout()\n",
        "sns.despine()"
      ],
      "execution_count": 4,
      "outputs": [
        {
          "output_type": "display_data",
          "data": {
            "image/png": "[encoded data removed]",
            "text/plain": [
              "<Figure size 1500x1500 with 6 Axes>"
            ]
          },
          "metadata": {
            "tags": [],
            "needs_background": "light"
          }
        }
      ]
    },
    {
      "cell_type": "markdown",
      "metadata": {
        "id": "8d45TNwFvKa-"
      },
      "source": [
        "### step 3) 데이터 전처리"
      ]
    },
    {
      "cell_type": "code",
      "metadata": {
        "colab": {
          "base_uri": "https://localhost:8080/"
        },
        "id": "Ww9bBtLWuGH6",
        "outputId": "17c20cfe-3343-40dd-c122-26f1e827ab52"
      },
      "source": [
        "titanic['Name'].iloc[-5:]"
      ],
      "execution_count": 5,
      "outputs": [
        {
          "output_type": "execute_result",
          "data": {
            "text/plain": [
              "PassengerId\n",
              "887                       Montvila, Rev. Juozas\n",
              "888                Graham, Miss. Margaret Edith\n",
              "889    Johnston, Miss. Catherine Helen \"Carrie\"\n",
              "890                       Behr, Mr. Karl Howell\n",
              "891                         Dooley, Mr. Patrick\n",
              "Name: Name, dtype: category\n",
              "Categories (891, object): ['Abbing, Mr. Anthony', 'Abbott, Mr. Rossmore Edward',\n",
              "                           'Abbott, Mrs. Stanton (Rosa Hunt)', 'Abelson, Mr. Samuel', ..., 'de Pelsmaeker, Mr. Alfons',\n",
              "                           'del Carlo, Mr. Sebastiano', 'van Billiard, Mr. Austin Blyler',\n",
              "                           'van Melkebeke, Mr. Philemon']"
            ]
          },
          "metadata": {
            "tags": []
          },
          "execution_count": 5
        }
      ]
    },
    {
      "cell_type": "code",
      "metadata": {
        "id": "JzLA4k_pvc_Z"
      },
      "source": [
        "def get_title(name) :\n",
        "  return re.split(',|\\.',name)[1].strip()"
      ],
      "execution_count": 6,
      "outputs": []
    },
    {
      "cell_type": "code",
      "metadata": {
        "id": "LuMVeAGtv_h6"
      },
      "source": [
        "# 이름에서 호칭 추출(Mr/ Miss / Mrs / ...)\n",
        "titanic['title'] = titanic['Name'].apply(get_title)"
      ],
      "execution_count": 7,
      "outputs": []
    },
    {
      "cell_type": "code",
      "metadata": {
        "id": "NT5rhGGHwH8x"
      },
      "source": [
        "# 호칭이 생존에 과연 영향을 끼치는지 확인을 위해서 집계 함수 \n",
        "# -> count(카운트), mean(평균)\n",
        "titles = titanic.groupby('title').agg({'Survived' : ['count','mean']})"
      ],
      "execution_count": 8,
      "outputs": []
    },
    {
      "cell_type": "code",
      "metadata": {
        "id": "oSRmNDcixRSa"
      },
      "source": [
        "# Survived 컬럼 레이어 정리 (멀티 레이어 삭제)\n",
        "titles.columns = titles.columns.droplevel()"
      ],
      "execution_count": 9,
      "outputs": []
    },
    {
      "cell_type": "code",
      "metadata": {
        "colab": {
          "base_uri": "https://localhost:8080/",
          "height": 0
        },
        "id": "uLVUqX3TyHlg",
        "outputId": "2ecb1298-ae15-4c19-b15e-19a540db8b9d"
      },
      "source": [
        "# 생존 평균이 높은 순으로 정렬\n",
        "titles.sort_values('mean',ascending=False)"
      ],
      "execution_count": 10,
      "outputs": [
        {
          "output_type": "execute_result",
          "data": {
            "text/html": [
              "<div>\n",
              "<style scoped>\n",
              "    .dataframe tbody tr th:only-of-type {\n",
              "        vertical-align: middle;\n",
              "    }\n",
              "\n",
              "    .dataframe tbody tr th {\n",
              "        vertical-align: top;\n",
              "    }\n",
              "\n",
              "    .dataframe thead th {\n",
              "        text-align: right;\n",
              "    }\n",
              "</style>\n",
              "<table border=\"1\" class=\"dataframe\">\n",
              "  <thead>\n",
              "    <tr style=\"text-align: right;\">\n",
              "      <th></th>\n",
              "      <th>count</th>\n",
              "      <th>mean</th>\n",
              "    </tr>\n",
              "    <tr>\n",
              "      <th>title</th>\n",
              "      <th></th>\n",
              "      <th></th>\n",
              "    </tr>\n",
              "  </thead>\n",
              "  <tbody>\n",
              "    <tr>\n",
              "      <th>the Countess</th>\n",
              "      <td>1</td>\n",
              "      <td>1.000000</td>\n",
              "    </tr>\n",
              "    <tr>\n",
              "      <th>Mlle</th>\n",
              "      <td>2</td>\n",
              "      <td>1.000000</td>\n",
              "    </tr>\n",
              "    <tr>\n",
              "      <th>Sir</th>\n",
              "      <td>1</td>\n",
              "      <td>1.000000</td>\n",
              "    </tr>\n",
              "    <tr>\n",
              "      <th>Ms</th>\n",
              "      <td>1</td>\n",
              "      <td>1.000000</td>\n",
              "    </tr>\n",
              "    <tr>\n",
              "      <th>Lady</th>\n",
              "      <td>1</td>\n",
              "      <td>1.000000</td>\n",
              "    </tr>\n",
              "    <tr>\n",
              "      <th>Mme</th>\n",
              "      <td>1</td>\n",
              "      <td>1.000000</td>\n",
              "    </tr>\n",
              "    <tr>\n",
              "      <th>Mrs</th>\n",
              "      <td>125</td>\n",
              "      <td>0.792000</td>\n",
              "    </tr>\n",
              "    <tr>\n",
              "      <th>Miss</th>\n",
              "      <td>182</td>\n",
              "      <td>0.697802</td>\n",
              "    </tr>\n",
              "    <tr>\n",
              "      <th>Master</th>\n",
              "      <td>40</td>\n",
              "      <td>0.575000</td>\n",
              "    </tr>\n",
              "    <tr>\n",
              "      <th>Col</th>\n",
              "      <td>2</td>\n",
              "      <td>0.500000</td>\n",
              "    </tr>\n",
              "    <tr>\n",
              "      <th>Major</th>\n",
              "      <td>2</td>\n",
              "      <td>0.500000</td>\n",
              "    </tr>\n",
              "    <tr>\n",
              "      <th>Dr</th>\n",
              "      <td>7</td>\n",
              "      <td>0.428571</td>\n",
              "    </tr>\n",
              "    <tr>\n",
              "      <th>Mr</th>\n",
              "      <td>517</td>\n",
              "      <td>0.156673</td>\n",
              "    </tr>\n",
              "    <tr>\n",
              "      <th>Jonkheer</th>\n",
              "      <td>1</td>\n",
              "      <td>0.000000</td>\n",
              "    </tr>\n",
              "    <tr>\n",
              "      <th>Rev</th>\n",
              "      <td>6</td>\n",
              "      <td>0.000000</td>\n",
              "    </tr>\n",
              "    <tr>\n",
              "      <th>Don</th>\n",
              "      <td>1</td>\n",
              "      <td>0.000000</td>\n",
              "    </tr>\n",
              "    <tr>\n",
              "      <th>Capt</th>\n",
              "      <td>1</td>\n",
              "      <td>0.000000</td>\n",
              "    </tr>\n",
              "  </tbody>\n",
              "</table>\n",
              "</div>"
            ],
            "text/plain": [
              "              count      mean\n",
              "title                        \n",
              "the Countess      1  1.000000\n",
              "Mlle              2  1.000000\n",
              "Sir               1  1.000000\n",
              "Ms                1  1.000000\n",
              "Lady              1  1.000000\n",
              "Mme               1  1.000000\n",
              "Mrs             125  0.792000\n",
              "Miss            182  0.697802\n",
              "Master           40  0.575000\n",
              "Col               2  0.500000\n",
              "Major             2  0.500000\n",
              "Dr                7  0.428571\n",
              "Mr              517  0.156673\n",
              "Jonkheer          1  0.000000\n",
              "Rev               6  0.000000\n",
              "Don               1  0.000000\n",
              "Capt              1  0.000000"
            ]
          },
          "metadata": {
            "tags": []
          },
          "execution_count": 10
        }
      ]
    },
    {
      "cell_type": "code",
      "metadata": {
        "id": "0yc2NQyZyJd4"
      },
      "source": [
        "# 호칭 추출이 되지 않은 title값을 other로 처리\n",
        "uncommon_titles = (['Don', 'Rev', 'Dr', 'Mme', 'Ms', 'Major', \n",
        "                    'Lady', 'Sir', 'Mlle', 'Col', 'Capt', \n",
        "                    'the Countess', 'Jonkheer'])\n",
        "titanic['title'] = titanic['title'].replace(uncommon_titles, 'other')"
      ],
      "execution_count": 11,
      "outputs": []
    },
    {
      "cell_type": "code",
      "metadata": {
        "colab": {
          "base_uri": "https://localhost:8080/",
          "height": 0
        },
        "id": "TAiTabqdzK6n",
        "outputId": "6c53c207-34f6-4241-fafb-cbef55d00e3e"
      },
      "source": [
        "# 시각화\n",
        "sns.catplot(x='title', kind='count', hue='Survived', \n",
        "            data=titanic, height=7)\n",
        "plt.tick_params(labelsize=12)\n",
        "plt.ylabel('Count',fontsize=14)\n",
        "plt.xlabel('Title',fontsize=14)\n",
        "plt.title('Survival by Title')\n",
        "plt.show()"
      ],
      "execution_count": 12,
      "outputs": [
        {
          "output_type": "display_data",
          "data": {
            "image/png": "[encoded data removed]",
            "text/plain": [
              "<Figure size 565.25x504 with 1 Axes>"
            ]
          },
          "metadata": {
            "tags": [],
            "needs_background": "light"
          }
        }
      ]
    },
    {
      "cell_type": "code",
      "metadata": {
        "id": "bYSf658N0rof"
      },
      "source": [
        "# 가족 사이즈: fam_size()  ==>\n",
        "# 동승한 자매 or 배우자 : SibSp() + 동승한 부모 or 자식 수 : Parch()\n",
        "titanic['fam_size'] = titanic['SibSp'] + titanic['Parch']"
      ],
      "execution_count": 13,
      "outputs": []
    },
    {
      "cell_type": "code",
      "metadata": {
        "colab": {
          "base_uri": "https://localhost:8080/",
          "height": 0
        },
        "id": "-oSS6fO5z8h5",
        "outputId": "33e87fa4-33a0-4f2c-de8a-5a4f3c957a92"
      },
      "source": [
        "# 시각화\n",
        "sns.catplot(x='fam_size', kind='count', hue='Survived', \n",
        "            data=titanic, height=7)\n",
        "plt.tick_params(labelsize=12)\n",
        "plt.ylabel('Count',fontsize=14)\n",
        "plt.xlabel('Family size',fontsize=14)\n",
        "plt.title('Survival by Title')\n",
        "plt.show()"
      ],
      "execution_count": 14,
      "outputs": [
        {
          "output_type": "display_data",
          "data": {
            "image/png": "[encoded data removed]",
            "text/plain": [
              "<Figure size 565.25x504 with 1 Axes>"
            ]
          },
          "metadata": {
            "tags": [],
            "needs_background": "light"
          }
        }
      ]
    },
    {
      "cell_type": "markdown",
      "metadata": {
        "id": "Lff-rJPW2dFn"
      },
      "source": [
        "### step 4) ML을 위한 전처리"
      ]
    },
    {
      "cell_type": "code",
      "metadata": {
        "id": "XQqYqcE61kJH"
      },
      "source": [
        "# 텍스트 데이터 삭제\n",
        "titanic = titanic.drop(['Name','Ticket','Cabin', 'Embarked','title'], axis=1)"
      ],
      "execution_count": 15,
      "outputs": []
    },
    {
      "cell_type": "code",
      "metadata": {
        "colab": {
          "base_uri": "https://localhost:8080/",
          "height": 0
        },
        "id": "izRH5H6b2pMP",
        "outputId": "f141e32f-dea6-479a-a168-781a9d0cd70a"
      },
      "source": [
        "titanic.head()"
      ],
      "execution_count": 16,
      "outputs": [
        {
          "output_type": "execute_result",
          "data": {
            "text/html": [
              "<div>\n",
              "<style scoped>\n",
              "    .dataframe tbody tr th:only-of-type {\n",
              "        vertical-align: middle;\n",
              "    }\n",
              "\n",
              "    .dataframe tbody tr th {\n",
              "        vertical-align: top;\n",
              "    }\n",
              "\n",
              "    .dataframe thead th {\n",
              "        text-align: right;\n",
              "    }\n",
              "</style>\n",
              "<table border=\"1\" class=\"dataframe\">\n",
              "  <thead>\n",
              "    <tr style=\"text-align: right;\">\n",
              "      <th></th>\n",
              "      <th>Survived</th>\n",
              "      <th>Pclass</th>\n",
              "      <th>Sex</th>\n",
              "      <th>Age</th>\n",
              "      <th>SibSp</th>\n",
              "      <th>Parch</th>\n",
              "      <th>Fare</th>\n",
              "      <th>fam_size</th>\n",
              "    </tr>\n",
              "    <tr>\n",
              "      <th>PassengerId</th>\n",
              "      <th></th>\n",
              "      <th></th>\n",
              "      <th></th>\n",
              "      <th></th>\n",
              "      <th></th>\n",
              "      <th></th>\n",
              "      <th></th>\n",
              "      <th></th>\n",
              "    </tr>\n",
              "  </thead>\n",
              "  <tbody>\n",
              "    <tr>\n",
              "      <th>1</th>\n",
              "      <td>False</td>\n",
              "      <td>3</td>\n",
              "      <td>male</td>\n",
              "      <td>22.0</td>\n",
              "      <td>1</td>\n",
              "      <td>0</td>\n",
              "      <td>7.2500</td>\n",
              "      <td>1</td>\n",
              "    </tr>\n",
              "    <tr>\n",
              "      <th>2</th>\n",
              "      <td>True</td>\n",
              "      <td>1</td>\n",
              "      <td>female</td>\n",
              "      <td>38.0</td>\n",
              "      <td>1</td>\n",
              "      <td>0</td>\n",
              "      <td>71.2833</td>\n",
              "      <td>1</td>\n",
              "    </tr>\n",
              "    <tr>\n",
              "      <th>3</th>\n",
              "      <td>True</td>\n",
              "      <td>3</td>\n",
              "      <td>female</td>\n",
              "      <td>26.0</td>\n",
              "      <td>0</td>\n",
              "      <td>0</td>\n",
              "      <td>7.9250</td>\n",
              "      <td>0</td>\n",
              "    </tr>\n",
              "    <tr>\n",
              "      <th>4</th>\n",
              "      <td>True</td>\n",
              "      <td>1</td>\n",
              "      <td>female</td>\n",
              "      <td>35.0</td>\n",
              "      <td>1</td>\n",
              "      <td>0</td>\n",
              "      <td>53.1000</td>\n",
              "      <td>1</td>\n",
              "    </tr>\n",
              "    <tr>\n",
              "      <th>5</th>\n",
              "      <td>False</td>\n",
              "      <td>3</td>\n",
              "      <td>male</td>\n",
              "      <td>35.0</td>\n",
              "      <td>0</td>\n",
              "      <td>0</td>\n",
              "      <td>8.0500</td>\n",
              "      <td>0</td>\n",
              "    </tr>\n",
              "  </tbody>\n",
              "</table>\n",
              "</div>"
            ],
            "text/plain": [
              "             Survived Pclass     Sex   Age  SibSp  Parch     Fare  fam_size\n",
              "PassengerId                                                                \n",
              "1               False      3    male  22.0      1      0   7.2500         1\n",
              "2                True      1  female  38.0      1      0  71.2833         1\n",
              "3                True      3  female  26.0      0      0   7.9250         0\n",
              "4                True      1  female  35.0      1      0  53.1000         1\n",
              "5               False      3    male  35.0      0      0   8.0500         0"
            ]
          },
          "metadata": {
            "tags": []
          },
          "execution_count": 16
        }
      ]
    },
    {
      "cell_type": "code",
      "metadata": {
        "id": "_UYRENwD26-W"
      },
      "source": [
        "# 여성을 1, 남성을 0으로 처리\n",
        "tmp = []\n",
        "for each in titanic['Sex']:\n",
        "  if each == 'female': \n",
        "    tmp.append(1)\n",
        "  elif each == 'male': \n",
        "    tmp.append(0)\n",
        "  else : \n",
        "    temp.append(np.nan)\n",
        "\n",
        "titanic['Sex'] = tmp"
      ],
      "execution_count": 17,
      "outputs": []
    },
    {
      "cell_type": "markdown",
      "metadata": {
        "id": "5VkOYlcQ74oG"
      },
      "source": [
        " 데이터 형변환 및 결손 데이터 처리"
      ]
    },
    {
      "cell_type": "code",
      "metadata": {
        "id": "Cf9dvGP331lR"
      },
      "source": [
        "# 데이터 형 변환(소수점)\n",
        "titanic['Pclass'] = titanic['Pclass'].astype('float')\n",
        "titanic['Sex'] = titanic['Sex'].astype('float')\n",
        "titanic['SibSp'] = titanic['SibSp'].astype('float')\n",
        "titanic['Parch'] = titanic['Parch'].astype('float')\n",
        "titanic['Fare'] = titanic['Fare'].astype('float')\n",
        "\n",
        "#null(결손) 값인 경우 삭제\n",
        "titanic = titanic[titanic['Survived'].notnull()]\n",
        "titanic = titanic[titanic['Age'].notnull()]\n",
        "titanic = titanic[titanic['SibSp'].notnull()]\n",
        "titanic = titanic[titanic['Parch'].notnull()]\n",
        "titanic = titanic[titanic['Fare'].notnull()]\n"
      ],
      "execution_count": 18,
      "outputs": []
    },
    {
      "cell_type": "code",
      "metadata": {
        "colab": {
          "base_uri": "https://localhost:8080/"
        },
        "id": "PBdZoErWBkNF",
        "outputId": "a7ea033b-2265-4bb0-fab8-bd29add621bf"
      },
      "source": [
        "titanic.info()"
      ],
      "execution_count": 19,
      "outputs": [
        {
          "output_type": "stream",
          "text": [
            "<class 'pandas.core.frame.DataFrame'>\n",
            "Int64Index: 714 entries, 1 to 891\n",
            "Data columns (total 8 columns):\n",
            " #   Column    Non-Null Count  Dtype  \n",
            "---  ------    --------------  -----  \n",
            " 0   Survived  714 non-null    bool   \n",
            " 1   Pclass    714 non-null    float64\n",
            " 2   Sex       714 non-null    float64\n",
            " 3   Age       714 non-null    float64\n",
            " 4   SibSp     714 non-null    float64\n",
            " 5   Parch     714 non-null    float64\n",
            " 6   Fare      714 non-null    float64\n",
            " 7   fam_size  714 non-null    int64  \n",
            "dtypes: bool(1), float64(6), int64(1)\n",
            "memory usage: 45.3 KB\n"
          ],
          "name": "stdout"
        }
      ]
    },
    {
      "cell_type": "markdown",
      "metadata": {
        "id": "oy6PdRIj7eKj"
      },
      "source": [
        "### step 6) 데이터 분리하기 X,y"
      ]
    },
    {
      "cell_type": "code",
      "metadata": {
        "id": "ldju4KSy71ne"
      },
      "source": [
        "titanic_labels = titanic['Survived'].copy()\n",
        "titanic = titanic.drop('Survived', axis=1)"
      ],
      "execution_count": 20,
      "outputs": []
    },
    {
      "cell_type": "code",
      "metadata": {
        "id": "CCYdbJYI8Kqm"
      },
      "source": [
        "# 훈련 데이터, 테스트 데이터셋 분리하기\n",
        "X_train,X_test,y_train,y_test = train_test_split(titanic,\n",
        "                                                 titanic_labels,\n",
        "                                                 train_size=0.8)"
      ],
      "execution_count": 21,
      "outputs": []
    },
    {
      "cell_type": "markdown",
      "metadata": {
        "id": "MeZW0JZY8fV8"
      },
      "source": [
        "### step 7) ML모델 구축 \n",
        "- Logistic Regression"
      ]
    },
    {
      "cell_type": "code",
      "metadata": {
        "colab": {
          "base_uri": "https://localhost:8080/"
        },
        "id": "ep-TMQZD8VSO",
        "outputId": "ea1ac824-e15c-46f6-94e7-d8a8954d4523"
      },
      "source": [
        "# Logistic \n",
        "log_reg = LogisticRegression().fit(X_train,y_train)\n",
        "\n",
        "# 정확도 확인\n",
        "print('Train data Score : {:.3f}'.format(log_reg.score(X_train,y_train)))\n",
        "print('Test data Score : {:.3f}'.format(log_reg.score(X_test,y_test))) "
      ],
      "execution_count": 22,
      "outputs": [
        {
          "output_type": "stream",
          "text": [
            "Train data Score : 0.814\n",
            "Test data Score : 0.790\n"
          ],
          "name": "stdout"
        }
      ]
    },
    {
      "cell_type": "markdown",
      "metadata": {
        "id": "3vi7vSGo8xVn"
      },
      "source": [
        "- Decision Tree"
      ]
    },
    {
      "cell_type": "code",
      "metadata": {
        "colab": {
          "base_uri": "https://localhost:8080/"
        },
        "id": "tBjuENVt8tzA",
        "outputId": "069d4d2a-982b-4e70-e713-74c2a0d6c6cc"
      },
      "source": [
        "# Decision tree\n",
        "tree = DecisionTreeClassifier(max_depth=5,\n",
        "                              min_samples_leaf=20,\n",
        "                              min_samples_split=40).fit(X_train,y_train)\n",
        "\n",
        "# 정확도 확인\n",
        "print('Train data Score : {:.3f}'.format(tree.score(X_train,y_train)))\n",
        "print('Test data Score : {:.3f}'.format(tree.score(X_test,y_test)))"
      ],
      "execution_count": 23,
      "outputs": [
        {
          "output_type": "stream",
          "text": [
            "Train data Score : 0.825\n",
            "Test data Score : 0.797\n"
          ],
          "name": "stdout"
        }
      ]
    },
    {
      "cell_type": "markdown",
      "metadata": {
        "id": "0FfohjR29CTG"
      },
      "source": [
        "- Random Forest"
      ]
    },
    {
      "cell_type": "code",
      "metadata": {
        "colab": {
          "base_uri": "https://localhost:8080/"
        },
        "id": "IVUSo3H19Efg",
        "outputId": "63f7d23b-0c9e-4580-82f3-b5abf043b75d"
      },
      "source": [
        "# Random Forest (앙상블)\n",
        "random = RandomForestClassifier(n_estimators=300,\n",
        "                                random_state=0).fit(X_train,y_train)\n",
        "\n",
        "# 정확도 확인\n",
        "print('Train data Score : {:.3f}'.format(random.score(X_train,y_train)))\n",
        "print('Test data Score : {:.3f}'.format(random.score(X_test,y_test)))"
      ],
      "execution_count": 24,
      "outputs": [
        {
          "output_type": "stream",
          "text": [
            "Train data Score : 0.989\n",
            "Test data Score : 0.762\n"
          ],
          "name": "stdout"
        }
      ]
    },
    {
      "cell_type": "markdown",
      "metadata": {
        "id": "6J7GFtoy84QR"
      },
      "source": [
        "- Grandient boosting"
      ]
    },
    {
      "cell_type": "code",
      "metadata": {
        "colab": {
          "base_uri": "https://localhost:8080/"
        },
        "id": "eJiw3iYm83dv",
        "outputId": "9c3bf5d6-8c0a-4cd9-fa5c-df308163ddd8"
      },
      "source": [
        "# Grandient boosting (앙상블)\n",
        "boost = GradientBoostingClassifier(max_depth=5,\n",
        "                                   learning_rate=0.05).fit(X_train,y_train)\n",
        "\n",
        "# 정확도 확인\n",
        "print('Train data Score : {:.3f}'.format(boost.score(X_train,y_train)))\n",
        "print('Test data Score : {:.3f}'.format(boost.score(X_test,y_test)))"
      ],
      "execution_count": 25,
      "outputs": [
        {
          "output_type": "stream",
          "text": [
            "Train data Score : 0.946\n",
            "Test data Score : 0.804\n"
          ],
          "name": "stdout"
        }
      ]
    },
    {
      "cell_type": "markdown",
      "metadata": {
        "id": "8UUm93b9BBAY"
      },
      "source": [
        "### step 8) 성능평가 - ROC 커브"
      ]
    },
    {
      "cell_type": "code",
      "metadata": {
        "id": "jHRhyIgr9BGK"
      },
      "source": [
        "# 분류모델은 ROC커브 그려보기\n",
        "def plot_auc_roc(model):\n",
        "    probs = model.predict_proba(X_test)\n",
        "    preds = probs[:,1]\n",
        "    fpr, tpr, threshold = metrics.roc_curve(y_test, preds)\n",
        "    roc_auc = metrics.auc(fpr, tpr)\n",
        "\n",
        "    # method I: plt\n",
        "    import matplotlib.pyplot as plt\n",
        "    plt.title('Receiver Operating Characteristic')\n",
        "    plt.plot(fpr, tpr, 'b', label = 'AUC = %0.2f' % roc_auc)\n",
        "    plt.legend(loc = 'lower right')\n",
        "    plt.plot([0, 1], [0, 1],'r--')\n",
        "    plt.xlim([0, 1])\n",
        "    plt.ylim([0, 1])\n",
        "    plt.ylabel('True Positive Rate')\n",
        "    plt.xlabel('False Positive Rate')\n",
        "    plt.show()"
      ],
      "execution_count": 26,
      "outputs": []
    },
    {
      "cell_type": "code",
      "metadata": {
        "colab": {
          "base_uri": "https://localhost:8080/",
          "height": 0
        },
        "id": "lENPtSL7BKC_",
        "outputId": "5b81e905-4182-4608-f5c4-aa0bf18b23cb"
      },
      "source": [
        "# Logistic - ROC\n",
        "plot_auc_roc(log_reg)"
      ],
      "execution_count": 27,
      "outputs": [
        {
          "output_type": "display_data",
          "data": {
            "image/png": "[encoded data removed]",
            "text/plain": [
              "<Figure size 432x288 with 1 Axes>"
            ]
          },
          "metadata": {
            "tags": [],
            "needs_background": "light"
          }
        }
      ]
    },
    {
      "cell_type": "code",
      "metadata": {
        "colab": {
          "base_uri": "https://localhost:8080/",
          "height": 0
        },
        "id": "X6TQGdf7BNhv",
        "outputId": "6f35db8d-e933-4348-a4da-d60b8d880692"
      },
      "source": [
        "# Decision tree - ROC\n",
        "plot_auc_roc(tree)"
      ],
      "execution_count": 28,
      "outputs": [
        {
          "output_type": "display_data",
          "data": {
            "image/png": "[encoded data removed]",
            "text/plain": [
              "<Figure size 432x288 with 1 Axes>"
            ]
          },
          "metadata": {
            "tags": [],
            "needs_background": "light"
          }
        }
      ]
    },
    {
      "cell_type": "code",
      "metadata": {
        "colab": {
          "base_uri": "https://localhost:8080/",
          "height": 0
        },
        "id": "rES3VsKPBSnr",
        "outputId": "ef942556-e23a-4c5d-9de6-4e96617e73bf"
      },
      "source": [
        "# Random Forest - roc\n",
        "plot_auc_roc(random)"
      ],
      "execution_count": 29,
      "outputs": [
        {
          "output_type": "display_data",
          "data": {
            "image/png": "[encoded data removed]",
            "text/plain": [
              "<Figure size 432x288 with 1 Axes>"
            ]
          },
          "metadata": {
            "tags": [],
            "needs_background": "light"
          }
        }
      ]
    },
    {
      "cell_type": "code",
      "metadata": {
        "colab": {
          "base_uri": "https://localhost:8080/",
          "height": 0
        },
        "id": "_9QDFPeIBPnq",
        "outputId": "92f36344-fb45-4e9b-d49d-f8693a10b2cc"
      },
      "source": [
        "# Gradient boosting - roc\n",
        "plot_auc_roc(boost)"
      ],
      "execution_count": 30,
      "outputs": [
        {
          "output_type": "display_data",
          "data": {
            "image/png": "[encoded data removed]",
            "text/plain": [
              "<Figure size 432x288 with 1 Axes>"
            ]
          },
          "metadata": {
            "tags": [],
            "needs_background": "light"
          }
        }
      ]
    },
    {
      "cell_type": "markdown",
      "metadata": {
        "id": "OzC_ifosBevB"
      },
      "source": [
        "### step 8) 모델 성능 평가"
      ]
    },
    {
      "cell_type": "code",
      "metadata": {
        "colab": {
          "base_uri": "https://localhost:8080/"
        },
        "id": "dwo8KsCZBWBm",
        "outputId": "97d87130-2f9f-4a70-8b87-6cc02c37349c"
      },
      "source": [
        "# Logistic Regression 평가 지표\n",
        "lg_y_hat = log_reg.predict(X_test)\n",
        "lg_report = metrics.classification_report(y_test,lg_y_hat)\n",
        "print(\"Logistic Regression 평가 지표\",'\\n')\n",
        "print(lg_report)\n",
        "\n",
        "print('accuracy', metrics.accuracy_score(y_test,lg_y_hat) )\n",
        "print('precision', metrics.precision_score(y_test,lg_y_hat) )\n",
        "print('recall', metrics.recall_score(y_test,lg_y_hat) )\n",
        "print('f1', metrics.f1_score(y_test,lg_y_hat) )"
      ],
      "execution_count": 31,
      "outputs": [
        {
          "output_type": "stream",
          "text": [
            "Logistic Regression 평가 지표 \n",
            "\n",
            "              precision    recall  f1-score   support\n",
            "\n",
            "       False       0.83      0.83      0.83        89\n",
            "        True       0.72      0.72      0.72        54\n",
            "\n",
            "    accuracy                           0.79       143\n",
            "   macro avg       0.78      0.78      0.78       143\n",
            "weighted avg       0.79      0.79      0.79       143\n",
            "\n",
            "accuracy 0.7902097902097902\n",
            "precision 0.7222222222222222\n",
            "recall 0.7222222222222222\n",
            "f1 0.7222222222222222\n"
          ],
          "name": "stdout"
        }
      ]
    },
    {
      "cell_type": "code",
      "metadata": {
        "colab": {
          "base_uri": "https://localhost:8080/"
        },
        "id": "P-gdnm9kB85r",
        "outputId": "2788cbcb-8bd2-4305-ec8e-317267ca9ead"
      },
      "source": [
        "# Decision tree 평가 지표\n",
        "tree_y_hat = tree.predict(X_test)\n",
        "tree_report = metrics.classification_report(y_test,tree_y_hat)\n",
        "print(\"Decision tree 평가 지표\",'\\n')\n",
        "print(tree_report)\n",
        "\n",
        "print('accuracy', metrics.accuracy_score(y_test,tree_y_hat) )\n",
        "print('precision', metrics.precision_score(y_test,tree_y_hat) )\n",
        "print('recall', metrics.recall_score(y_test,tree_y_hat) )\n",
        "print('f1', metrics.f1_score(y_test,tree_y_hat) )\n"
      ],
      "execution_count": 32,
      "outputs": [
        {
          "output_type": "stream",
          "text": [
            "Decision tree 평가 지표 \n",
            "\n",
            "              precision    recall  f1-score   support\n",
            "\n",
            "       False       0.84      0.83      0.84        89\n",
            "        True       0.73      0.74      0.73        54\n",
            "\n",
            "    accuracy                           0.80       143\n",
            "   macro avg       0.78      0.79      0.79       143\n",
            "weighted avg       0.80      0.80      0.80       143\n",
            "\n",
            "accuracy 0.7972027972027972\n",
            "precision 0.7272727272727273\n",
            "recall 0.7407407407407407\n",
            "f1 0.7339449541284404\n"
          ],
          "name": "stdout"
        }
      ]
    },
    {
      "cell_type": "code",
      "metadata": {
        "colab": {
          "base_uri": "https://localhost:8080/"
        },
        "id": "1fNNFzRdCA9P",
        "outputId": "105cf1e8-b116-4324-dbff-2000eec94bd8"
      },
      "source": [
        "# Random Forest 평가 지표\n",
        "random_y_hat = random.predict(X_test)\n",
        "random_report = metrics.classification_report(y_test,random_y_hat)\n",
        "print(\" Random Forest 평가 지표\",'\\n')\n",
        "print(random_report)\n",
        "\n",
        "print('accuracy', metrics.accuracy_score(y_test,random_y_hat) )\n",
        "print('precision', metrics.precision_score(y_test,random_y_hat) )\n",
        "print('recall', metrics.recall_score(y_test,random_y_hat) )\n",
        "print('f1', metrics.f1_score(y_test,random_y_hat) )\n"
      ],
      "execution_count": 33,
      "outputs": [
        {
          "output_type": "stream",
          "text": [
            " Random Forest 평가 지표 \n",
            "\n",
            "              precision    recall  f1-score   support\n",
            "\n",
            "       False       0.84      0.76      0.80        89\n",
            "        True       0.66      0.76      0.71        54\n",
            "\n",
            "    accuracy                           0.76       143\n",
            "   macro avg       0.75      0.76      0.75       143\n",
            "weighted avg       0.77      0.76      0.76       143\n",
            "\n",
            "accuracy 0.7622377622377622\n",
            "precision 0.6612903225806451\n",
            "recall 0.7592592592592593\n",
            "f1 0.7068965517241378\n"
          ],
          "name": "stdout"
        }
      ]
    },
    {
      "cell_type": "code",
      "metadata": {
        "colab": {
          "base_uri": "https://localhost:8080/"
        },
        "id": "pHAlXGD1B_Ed",
        "outputId": "8433ce2e-45d8-4510-ca6e-d7b76d56fafa"
      },
      "source": [
        "# Grandient boosting 평가 지표\n",
        "boost_y_hat = boost.predict(X_test)\n",
        "boost_report = metrics.classification_report(y_test,boost_y_hat)\n",
        "print(\"Grandient  boosting 평가 지표\",'\\n')\n",
        "print(boost_report)\n",
        "\n",
        "print('accuracy', metrics.accuracy_score(y_test,boost_y_hat) )\n",
        "print('precision', metrics.precision_score(y_test,boost_y_hat) )\n",
        "print('recall', metrics.recall_score(y_test,boost_y_hat) )\n",
        "print('f1', metrics.f1_score(y_test,boost_y_hat) )\n"
      ],
      "execution_count": 34,
      "outputs": [
        {
          "output_type": "stream",
          "text": [
            "Grandient  boosting 평가 지표 \n",
            "\n",
            "              precision    recall  f1-score   support\n",
            "\n",
            "       False       0.84      0.85      0.84        89\n",
            "        True       0.75      0.72      0.74        54\n",
            "\n",
            "    accuracy                           0.80       143\n",
            "   macro avg       0.79      0.79      0.79       143\n",
            "weighted avg       0.80      0.80      0.80       143\n",
            "\n",
            "accuracy 0.8041958041958042\n",
            "precision 0.75\n",
            "recall 0.7222222222222222\n",
            "f1 0.7358490566037735\n"
          ],
          "name": "stdout"
        }
      ]
    },
    {
      "cell_type": "code",
      "metadata": {
        "id": "MrI0TUTgCND7"
      },
      "source": [
        "precision_list = []\n",
        "recall_list=[]\n",
        "\n",
        "# Logistic\n",
        "precision_list.append(metrics.precision_score(y_test,lg_y_hat))\n",
        "recall_list.append(metrics.recall_score(y_test,lg_y_hat))\n",
        "\n",
        "# decision\n",
        "precision_list.append(metrics.precision_score(y_test,tree_y_hat))\n",
        "recall_list.append(metrics.recall_score(y_test,tree_y_hat))\n",
        "\n",
        "# RF\n",
        "precision_list.append(metrics.precision_score(y_test,random_y_hat))\n",
        "recall_list.append(metrics.recall_score(y_test,random_y_hat))\n",
        "\n",
        "# boost\n",
        "precision_list.append(metrics.precision_score(y_test,boost_y_hat))\n",
        "recall_list.append(metrics.recall_score(y_test,boost_y_hat))"
      ],
      "execution_count": 35,
      "outputs": []
    },
    {
      "cell_type": "code",
      "metadata": {
        "colab": {
          "base_uri": "https://localhost:8080/",
          "height": 265
        },
        "id": "VrXQPPJSCPh3",
        "outputId": "2017eed2-d74a-4b1f-ab9d-9b8f2678b7b5"
      },
      "source": [
        "plt.plot(['lg','tree','random','boost'],precision_list, label='precision')\n",
        "plt.plot(['lg','tree','random','boost'],recall_list, label='recall')\n",
        "plt.legend()\n",
        "plt.show()"
      ],
      "execution_count": 36,
      "outputs": [
        {
          "output_type": "display_data",
          "data": {
            "image/png": "[encoded data removed]",
            "text/plain": [
              "<Figure size 432x288 with 1 Axes>"
            ]
          },
          "metadata": {
            "tags": [],
            "needs_background": "light"
          }
        }
      ]
    },
    {
      "cell_type": "code",
      "metadata": {
        "id": "Tj0gjIX2Ccwf"
      },
      "source": [
        ""
      ],
      "execution_count": 36,
      "outputs": []
    }
  ]
}