{
  "nbformat": 4,
  "nbformat_minor": 0,
  "metadata": {
    "colab": {
      "name": "16-MNIST 손글씨 0-9까지 예측.ipynb",
      "provenance": [],
      "collapsed_sections": [],
      "authorship_tag": "ABX9TyM6ABzgPAd2S2i1AdVjVonX",
      "include_colab_link": true
    },
    "kernelspec": {
      "name": "python3",
      "display_name": "Python 3"
    },
    "language_info": {
      "name": "python"
    }
  },
  "cells": [
    {
      "cell_type": "markdown",
      "metadata": {
        "id": "view-in-github",
        "colab_type": "text"
      },
      "source": [
        "<a href=\"https://colab.research.google.com/github/imjoung/DataScience/blob/main/ml/16_MNIST_%EC%86%90%EA%B8%80%EC%94%A8_0_9%EA%B9%8C%EC%A7%80_%EC%98%88%EC%B8%A1.ipynb\" target=\"_parent\"><img src=\"https://colab.research.google.com/assets/colab-badge.svg\" alt=\"Open In Colab\"/></a>"
      ]
    },
    {
      "cell_type": "code",
      "metadata": {
        "id": "DqnYIZp8AI7j"
      },
      "source": [
        "from tensorflow.keras.datasets.mnist import load_data\n",
        "\n",
        "# 텐서플로우 저장소에서 데이터를 다운받습니다.\n",
        "(x_train, y_train), (x_test, y_test) = load_data(path='mnist.npz')"
      ],
      "execution_count": 1,
      "outputs": []
    },
    {
      "cell_type": "markdown",
      "metadata": {
        "id": "GxDQQOGuANmG"
      },
      "source": [
        "데이터 형태 확인"
      ]
    },
    {
      "cell_type": "code",
      "metadata": {
        "colab": {
          "base_uri": "https://localhost:8080/"
        },
        "id": "ClUxDyjtAOXz",
        "outputId": "7f9a31cb-a9d2-49fb-b719-ed9462cf52c5"
      },
      "source": [
        "# 훈련 데이터 \n",
        "print(x_train.shape, y_train.shape)\n",
        "print(y_train)\n",
        "\n",
        "# 테스트 데이터\n",
        "print(x_train.shape, y_test.shape)\n",
        "print(y_test)"
      ],
      "execution_count": 2,
      "outputs": [
        {
          "output_type": "stream",
          "text": [
            "(60000, 28, 28) (60000,)\n",
            "[5 0 4 ... 5 6 8]\n",
            "(60000, 28, 28) (10000,)\n",
            "[7 2 1 ... 4 5 6]\n"
          ],
          "name": "stdout"
        }
      ]
    },
    {
      "cell_type": "code",
      "metadata": {
        "colab": {
          "base_uri": "https://localhost:8080/"
        },
        "id": "5bsTyqMaAgBB",
        "outputId": "64ff45d4-912c-4c68-a165-cc91cf375b75"
      },
      "source": [
        "print(x_train[1])"
      ],
      "execution_count": 3,
      "outputs": [
        {
          "output_type": "stream",
          "text": [
            "[[  0   0   0   0   0   0   0   0   0   0   0   0   0   0   0   0   0   0\n",
            "    0   0   0   0   0   0   0   0   0   0]\n",
            " [  0   0   0   0   0   0   0   0   0   0   0   0   0   0   0   0   0   0\n",
            "    0   0   0   0   0   0   0   0   0   0]\n",
            " [  0   0   0   0   0   0   0   0   0   0   0   0   0   0   0   0   0   0\n",
            "    0   0   0   0   0   0   0   0   0   0]\n",
            " [  0   0   0   0   0   0   0   0   0   0   0   0   0   0   0   0   0   0\n",
            "    0   0   0   0   0   0   0   0   0   0]\n",
            " [  0   0   0   0   0   0   0   0   0   0   0   0   0   0   0  51 159 253\n",
            "  159  50   0   0   0   0   0   0   0   0]\n",
            " [  0   0   0   0   0   0   0   0   0   0   0   0   0   0  48 238 252 252\n",
            "  252 237   0   0   0   0   0   0   0   0]\n",
            " [  0   0   0   0   0   0   0   0   0   0   0   0   0  54 227 253 252 239\n",
            "  233 252  57   6   0   0   0   0   0   0]\n",
            " [  0   0   0   0   0   0   0   0   0   0   0  10  60 224 252 253 252 202\n",
            "   84 252 253 122   0   0   0   0   0   0]\n",
            " [  0   0   0   0   0   0   0   0   0   0   0 163 252 252 252 253 252 252\n",
            "   96 189 253 167   0   0   0   0   0   0]\n",
            " [  0   0   0   0   0   0   0   0   0   0  51 238 253 253 190 114 253 228\n",
            "   47  79 255 168   0   0   0   0   0   0]\n",
            " [  0   0   0   0   0   0   0   0   0  48 238 252 252 179  12  75 121  21\n",
            "    0   0 253 243  50   0   0   0   0   0]\n",
            " [  0   0   0   0   0   0   0   0  38 165 253 233 208  84   0   0   0   0\n",
            "    0   0 253 252 165   0   0   0   0   0]\n",
            " [  0   0   0   0   0   0   0   7 178 252 240  71  19  28   0   0   0   0\n",
            "    0   0 253 252 195   0   0   0   0   0]\n",
            " [  0   0   0   0   0   0   0  57 252 252  63   0   0   0   0   0   0   0\n",
            "    0   0 253 252 195   0   0   0   0   0]\n",
            " [  0   0   0   0   0   0   0 198 253 190   0   0   0   0   0   0   0   0\n",
            "    0   0 255 253 196   0   0   0   0   0]\n",
            " [  0   0   0   0   0   0  76 246 252 112   0   0   0   0   0   0   0   0\n",
            "    0   0 253 252 148   0   0   0   0   0]\n",
            " [  0   0   0   0   0   0  85 252 230  25   0   0   0   0   0   0   0   0\n",
            "    7 135 253 186  12   0   0   0   0   0]\n",
            " [  0   0   0   0   0   0  85 252 223   0   0   0   0   0   0   0   0   7\n",
            "  131 252 225  71   0   0   0   0   0   0]\n",
            " [  0   0   0   0   0   0  85 252 145   0   0   0   0   0   0   0  48 165\n",
            "  252 173   0   0   0   0   0   0   0   0]\n",
            " [  0   0   0   0   0   0  86 253 225   0   0   0   0   0   0 114 238 253\n",
            "  162   0   0   0   0   0   0   0   0   0]\n",
            " [  0   0   0   0   0   0  85 252 249 146  48  29  85 178 225 253 223 167\n",
            "   56   0   0   0   0   0   0   0   0   0]\n",
            " [  0   0   0   0   0   0  85 252 252 252 229 215 252 252 252 196 130   0\n",
            "    0   0   0   0   0   0   0   0   0   0]\n",
            " [  0   0   0   0   0   0  28 199 252 252 253 252 252 233 145   0   0   0\n",
            "    0   0   0   0   0   0   0   0   0   0]\n",
            " [  0   0   0   0   0   0   0  25 128 252 253 252 141  37   0   0   0   0\n",
            "    0   0   0   0   0   0   0   0   0   0]\n",
            " [  0   0   0   0   0   0   0   0   0   0   0   0   0   0   0   0   0   0\n",
            "    0   0   0   0   0   0   0   0   0   0]\n",
            " [  0   0   0   0   0   0   0   0   0   0   0   0   0   0   0   0   0   0\n",
            "    0   0   0   0   0   0   0   0   0   0]\n",
            " [  0   0   0   0   0   0   0   0   0   0   0   0   0   0   0   0   0   0\n",
            "    0   0   0   0   0   0   0   0   0   0]\n",
            " [  0   0   0   0   0   0   0   0   0   0   0   0   0   0   0   0   0   0\n",
            "    0   0   0   0   0   0   0   0   0   0]]\n"
          ],
          "name": "stdout"
        }
      ]
    },
    {
      "cell_type": "code",
      "metadata": {
        "colab": {
          "base_uri": "https://localhost:8080/",
          "height": 299
        },
        "id": "x-awHZaGFCyF",
        "outputId": "742d3792-086f-4b94-8b77-ae21884b0680"
      },
      "source": [
        "import matplotlib.pyplot as plt\n",
        "import numpy as np\n",
        "\n",
        "idx = 2\n",
        "img = x_train[idx, :]\n",
        "label = y_train[idx]\n",
        "plt.figure()\n",
        "plt.imshow(img)\n",
        "plt.title('%d-th data, label is %d' % (idx,label))"
      ],
      "execution_count": 4,
      "outputs": [
        {
          "output_type": "execute_result",
          "data": {
            "text/plain": [
              "Text(0.5, 1.0, '2-th data, label is 4')"
            ]
          },
          "metadata": {
            "tags": []
          },
          "execution_count": 4
        },
        {
          "output_type": "display_data",
          "data": {
            "image/png": "[encoded data removed]",
            "text/plain": [
              "<Figure size 432x288 with 1 Axes>"
            ]
          },
          "metadata": {
            "tags": [],
            "needs_background": "light"
          }
        }
      ]
    },
    {
      "cell_type": "markdown",
      "metadata": {
        "id": "vCxFYlUhBfcJ"
      },
      "source": [
        "검증 데이터 만들기"
      ]
    },
    {
      "cell_type": "code",
      "metadata": {
        "colab": {
          "base_uri": "https://localhost:8080/"
        },
        "id": "qJhUHJq0Ai6A",
        "outputId": "90e65f6c-6439-4fea-d883-72dad6f45f76"
      },
      "source": [
        "from sklearn.model_selection import train_test_split\n",
        "\n",
        "# 훈련/검증 데이터를 7:3 비율로 분리\n",
        "x_train,x_val,y_train,y_val = train_test_split(x_train,y_train,\n",
        "                                               test_size=0.3,\n",
        "                                               random_state=777)\n",
        "print(f'훈련 데이터 {x_train.shape} 레이블 {y_train.shape}')\n",
        "print(f'훈련 데이터 {x_val.shape} 레이블 {y_val.shape}')"
      ],
      "execution_count": 5,
      "outputs": [
        {
          "output_type": "stream",
          "text": [
            "훈련 데이터 (42000, 28, 28) 레이블 (42000,)\n",
            "훈련 데이터 (18000, 28, 28) 레이블 (18000,)\n"
          ],
          "name": "stdout"
        }
      ]
    },
    {
      "cell_type": "markdown",
      "metadata": {
        "id": "lvTCxiyRCND_"
      },
      "source": [
        ""
      ]
    },
    {
      "cell_type": "markdown",
      "metadata": {
        "id": "C6IWrjuVCcw8"
      },
      "source": [
        "1) 2차원 배열 -> 1차원 배열로 변경 ( 28*28 = 784)"
      ]
    },
    {
      "cell_type": "code",
      "metadata": {
        "id": "HhRTsb2-DFUJ"
      },
      "source": [
        "# 모델의 입력으로 사용하기 위한 전처리 과정\n",
        "\n",
        "num_x_train = x_train.shape[0]\n",
        "num_x_val = x_val.shape[0]\n",
        "num_x_test = x_test.shape[0]"
      ],
      "execution_count": 6,
      "outputs": []
    },
    {
      "cell_type": "code",
      "metadata": {
        "colab": {
          "base_uri": "https://localhost:8080/"
        },
        "id": "fFxMof2qDfqB",
        "outputId": "c4ab9043-e21c-4486-b274-fb3d259d580b"
      },
      "source": [
        "# 2차원 배열 -> 1차원 배열로 변경 (28*28 = 784)\n",
        "x_train = (x_train.reshape((num_x_train, 28*28)))\n",
        "x_val = (x_val.reshape((num_x_val, 28*28)))\n",
        "x_test = (x_test.reshape((num_x_test, 28*28)))\n",
        "\n",
        "print(x_train.shape)\n",
        "print(x_val.shape)\n",
        "print(x_test.shape)"
      ],
      "execution_count": 7,
      "outputs": [
        {
          "output_type": "stream",
          "text": [
            "(42000, 784)\n",
            "(18000, 784)\n",
            "(10000, 784)\n"
          ],
          "name": "stdout"
        }
      ]
    },
    {
      "cell_type": "code",
      "metadata": {
        "colab": {
          "base_uri": "https://localhost:8080/"
        },
        "id": "3Fk89UOQGqPQ",
        "outputId": "e711258c-bbe8-4d63-f567-f4fe64b7ddbd"
      },
      "source": [
        "# 데이터 스케일링 0~255 -> 0~1 MinMax 알고리즘 사용\n",
        "x_train = x_train/255\n",
        "x_val = x_val/255\n",
        "x_test = x_test/255\n",
        "\n",
        "print(x_train[0])"
      ],
      "execution_count": 8,
      "outputs": [
        {
          "output_type": "stream",
          "text": [
            "[0.         0.         0.         0.         0.         0.\n",
            " 0.         0.         0.         0.         0.         0.\n",
            " 0.         0.         0.         0.         0.         0.\n",
            " 0.         0.         0.         0.         0.         0.\n",
            " 0.         0.         0.         0.         0.         0.\n",
            " 0.         0.         0.         0.         0.         0.\n",
            " 0.         0.         0.         0.         0.         0.\n",
            " 0.         0.         0.         0.         0.         0.\n",
            " 0.         0.         0.         0.         0.         0.\n",
            " 0.         0.         0.         0.         0.         0.\n",
            " 0.         0.         0.         0.         0.         0.\n",
            " 0.         0.         0.         0.         0.         0.\n",
            " 0.         0.         0.         0.         0.         0.\n",
            " 0.         0.         0.         0.         0.         0.\n",
            " 0.         0.         0.         0.         0.         0.\n",
            " 0.         0.         0.         0.         0.         0.\n",
            " 0.         0.09803922 0.49411765 0.81568627 0.99607843 0.88627451\n",
            " 0.04705882 0.         0.         0.         0.         0.\n",
            " 0.         0.         0.         0.         0.         0.\n",
            " 0.         0.         0.         0.         0.         0.\n",
            " 0.         0.         0.         0.         0.05882353 0.82745098\n",
            " 0.99607843 0.99215686 0.99215686 0.99215686 0.4        0.\n",
            " 0.         0.         0.         0.         0.         0.\n",
            " 0.         0.         0.         0.         0.         0.\n",
            " 0.         0.         0.         0.         0.         0.\n",
            " 0.         0.         0.54901961 0.99215686 0.99607843 0.99215686\n",
            " 0.99215686 0.99215686 0.7254902  0.         0.         0.\n",
            " 0.         0.         0.         0.         0.         0.\n",
            " 0.         0.         0.         0.         0.         0.\n",
            " 0.         0.         0.         0.         0.         0.\n",
            " 0.7372549  0.99215686 0.99607843 0.99215686 0.99215686 0.99215686\n",
            " 0.80784314 0.         0.         0.         0.         0.\n",
            " 0.         0.         0.         0.         0.         0.\n",
            " 0.         0.         0.         0.         0.         0.\n",
            " 0.         0.         0.         0.         0.25490196 0.94509804\n",
            " 0.99607843 0.85490196 0.99215686 0.99215686 0.67058824 0.\n",
            " 0.         0.         0.         0.         0.         0.\n",
            " 0.         0.         0.         0.         0.         0.\n",
            " 0.         0.         0.         0.         0.         0.\n",
            " 0.         0.         0.         0.1372549  0.18431373 0.33333333\n",
            " 0.99215686 0.99215686 0.64313725 0.         0.         0.\n",
            " 0.         0.         0.         0.         0.         0.\n",
            " 0.         0.         0.         0.         0.         0.\n",
            " 0.         0.         0.         0.         0.         0.\n",
            " 0.         0.         0.         0.51372549 0.99215686 0.99215686\n",
            " 0.18039216 0.         0.         0.         0.         0.\n",
            " 0.         0.         0.         0.         0.         0.\n",
            " 0.         0.         0.         0.         0.         0.\n",
            " 0.         0.         0.         0.         0.         0.\n",
            " 0.23921569 0.93333333 0.99215686 0.70588235 0.00392157 0.\n",
            " 0.         0.         0.         0.         0.         0.\n",
            " 0.         0.         0.         0.         0.         0.\n",
            " 0.         0.         0.         0.         0.         0.\n",
            " 0.         0.         0.         0.         0.66666667 0.99215686\n",
            " 0.99215686 0.51764706 0.         0.         0.         0.\n",
            " 0.         0.         0.         0.         0.         0.\n",
            " 0.         0.         0.         0.         0.         0.\n",
            " 0.         0.         0.         0.         0.         0.\n",
            " 0.         0.41176471 0.99607843 0.99215686 0.69019608 0.08627451\n",
            " 0.         0.         0.         0.         0.         0.\n",
            " 0.         0.         0.         0.         0.         0.\n",
            " 0.         0.         0.         0.         0.         0.\n",
            " 0.         0.         0.         0.         0.44313725 0.99607843\n",
            " 1.         0.66666667 0.08235294 0.         0.         0.\n",
            " 0.         0.         0.         0.         0.         0.\n",
            " 0.         0.         0.         0.         0.         0.\n",
            " 0.         0.         0.         0.         0.         0.\n",
            " 0.         0.44705882 0.97647059 0.99215686 0.80392157 0.09411765\n",
            " 0.         0.         0.         0.         0.         0.\n",
            " 0.         0.         0.         0.         0.         0.\n",
            " 0.         0.         0.         0.         0.         0.00784314\n",
            " 0.34117647 0.77254902 0.77254902 0.74509804 0.6627451  0.98431373\n",
            " 0.99215686 0.82745098 0.08235294 0.         0.         0.\n",
            " 0.         0.         0.         0.01176471 0.31372549 0.01176471\n",
            " 0.         0.         0.         0.         0.         0.\n",
            " 0.         0.         0.         0.50196078 0.99215686 0.99215686\n",
            " 0.99215686 0.99215686 0.99215686 0.99215686 0.80784314 0.08627451\n",
            " 0.         0.         0.         0.         0.         0.\n",
            " 0.         0.57647059 0.91764706 0.08627451 0.         0.\n",
            " 0.         0.         0.         0.         0.         0.\n",
            " 0.21568627 0.94509804 0.99215686 0.99215686 0.99215686 0.99215686\n",
            " 0.99215686 0.99215686 0.7372549  0.05098039 0.         0.\n",
            " 0.         0.         0.         0.01568627 0.56470588 0.98823529\n",
            " 0.81176471 0.         0.         0.         0.         0.\n",
            " 0.         0.         0.         0.         0.59607843 0.99215686\n",
            " 0.99215686 0.99215686 0.99215686 0.98431373 0.78039216 0.98823529\n",
            " 0.99215686 0.71764706 0.02745098 0.         0.         0.\n",
            " 0.         0.26666667 0.99215686 0.99215686 0.21176471 0.\n",
            " 0.         0.         0.         0.         0.         0.\n",
            " 0.         0.         0.07843137 0.52941176 0.99215686 0.99215686\n",
            " 0.61176471 0.27058824 0.         0.83529412 0.99215686 0.99215686\n",
            " 0.81176471 0.3254902  0.         0.         0.38039216 0.9372549\n",
            " 0.99215686 0.91764706 0.09803922 0.         0.         0.\n",
            " 0.         0.         0.         0.         0.         0.\n",
            " 0.         0.00784314 0.03529412 0.03529412 0.00392157 0.\n",
            " 0.         0.10588235 0.82352941 0.99215686 0.99607843 0.98431373\n",
            " 0.95686275 0.95686275 0.98823529 0.99215686 0.99215686 0.05882353\n",
            " 0.         0.         0.         0.         0.         0.\n",
            " 0.         0.         0.         0.         0.         0.\n",
            " 0.         0.         0.         0.         0.         0.\n",
            " 0.07058824 0.69019608 0.99607843 0.99215686 0.99215686 0.99215686\n",
            " 0.99215686 0.95686275 0.39215686 0.00784314 0.         0.\n",
            " 0.         0.         0.         0.         0.         0.\n",
            " 0.         0.         0.         0.         0.         0.\n",
            " 0.         0.         0.         0.         0.         0.\n",
            " 0.49019608 0.62352941 0.62352941 0.75686275 0.55294118 0.23921569\n",
            " 0.         0.         0.         0.         0.         0.\n",
            " 0.         0.         0.         0.         0.         0.\n",
            " 0.         0.         0.         0.         0.         0.\n",
            " 0.         0.         0.         0.         0.         0.\n",
            " 0.         0.         0.         0.         0.         0.\n",
            " 0.         0.         0.         0.         0.         0.\n",
            " 0.         0.         0.         0.         0.         0.\n",
            " 0.         0.         0.         0.         0.         0.\n",
            " 0.         0.         0.         0.         0.         0.\n",
            " 0.         0.         0.         0.         0.         0.\n",
            " 0.         0.         0.         0.         0.         0.\n",
            " 0.         0.         0.         0.         0.         0.\n",
            " 0.         0.         0.         0.         0.         0.\n",
            " 0.         0.         0.         0.         0.         0.\n",
            " 0.         0.         0.         0.         0.         0.\n",
            " 0.         0.         0.         0.         0.         0.\n",
            " 0.         0.         0.         0.         0.         0.\n",
            " 0.         0.         0.         0.         0.         0.\n",
            " 0.         0.         0.         0.         0.         0.\n",
            " 0.         0.         0.         0.         0.         0.\n",
            " 0.         0.         0.         0.         0.         0.\n",
            " 0.         0.         0.         0.         0.         0.\n",
            " 0.         0.         0.         0.         0.         0.\n",
            " 0.         0.         0.         0.         0.         0.\n",
            " 0.         0.         0.         0.        ]\n"
          ],
          "name": "stdout"
        }
      ]
    },
    {
      "cell_type": "markdown",
      "metadata": {
        "id": "yZxw97eEGnYc"
      },
      "source": [
        "모델 입력을 위한 레이블(정답) 전처리"
      ]
    },
    {
      "cell_type": "code",
      "metadata": {
        "colab": {
          "base_uri": "https://localhost:8080/"
        },
        "id": "q14AkmzWFM9v",
        "outputId": "305a6310-9654-4334-df5e-c58568b9e5d2"
      },
      "source": [
        "print(y_train)"
      ],
      "execution_count": 9,
      "outputs": [
        {
          "output_type": "stream",
          "text": [
            "[2 7 6 ... 3 4 5]\n"
          ],
          "name": "stdout"
        }
      ]
    },
    {
      "cell_type": "code",
      "metadata": {
        "id": "cv02k5YtHKhS"
      },
      "source": [
        "from tensorflow.keras.utils import to_categorical\n",
        "\n",
        "# 각 데이터의 레이블 0~9 숫자 값을 범주형 형태로 변경\n",
        "\n",
        "y_train = to_categorical(y_train)\n",
        "y_val = to_categorical(y_val)\n",
        "y_test = to_categorical(y_test)"
      ],
      "execution_count": 10,
      "outputs": []
    },
    {
      "cell_type": "code",
      "metadata": {
        "colab": {
          "base_uri": "https://localhost:8080/"
        },
        "id": "5LmKlES8HYNy",
        "outputId": "4eba9a77-1e4b-42f5-9c5b-f8616dfcf7e4"
      },
      "source": [
        "print(y_train)"
      ],
      "execution_count": 11,
      "outputs": [
        {
          "output_type": "stream",
          "text": [
            "[[0. 0. 1. ... 0. 0. 0.]\n",
            " [0. 0. 0. ... 1. 0. 0.]\n",
            " [0. 0. 0. ... 0. 0. 0.]\n",
            " ...\n",
            " [0. 0. 0. ... 0. 0. 0.]\n",
            " [0. 0. 0. ... 0. 0. 0.]\n",
            " [0. 0. 0. ... 0. 0. 0.]]\n"
          ],
          "name": "stdout"
        }
      ]
    },
    {
      "cell_type": "markdown",
      "metadata": {
        "id": "XUmpzG4bIAQ2"
      },
      "source": [
        "모델 구성하기"
      ]
    },
    {
      "cell_type": "code",
      "metadata": {
        "id": "rr1NDX5jHnUH"
      },
      "source": [
        "from keras.models import Sequential\n",
        "from keras.layers import Dense\n",
        "\n",
        "model = Sequential()\n",
        "model.add(Dense(64, activation = 'relu', input_shape=(784,)))\n",
        "model.add(Dense(32, activation = 'relu'))\n",
        "model.add(Dense(10, activation = 'softmax'))"
      ],
      "execution_count": 12,
      "outputs": []
    },
    {
      "cell_type": "markdown",
      "metadata": {
        "id": "KXmbeELGJo_B"
      },
      "source": [
        "모델 설정하기"
      ]
    },
    {
      "cell_type": "code",
      "metadata": {
        "id": "qX8MvxPcJQDr"
      },
      "source": [
        "model.compile(loss='binary_crossentropy',\n",
        "              optimizer='adam',\n",
        "              metrics=['accuracy'])"
      ],
      "execution_count": 13,
      "outputs": []
    },
    {
      "cell_type": "markdown",
      "metadata": {
        "id": "YqK300qFKLEM"
      },
      "source": [
        "모델 학습시키기"
      ]
    },
    {
      "cell_type": "code",
      "metadata": {
        "colab": {
          "base_uri": "https://localhost:8080/"
        },
        "id": "EPBcN23RKL6w",
        "outputId": "fa343f04-54e0-42ee-ab9e-d1e4090a8559"
      },
      "source": [
        "history = model.fit(x_train,y_train,\n",
        "                    epochs=30,\n",
        "                    batch_size=128,\n",
        "                    validation_data = (x_val,y_val))"
      ],
      "execution_count": 14,
      "outputs": [
        {
          "output_type": "stream",
          "text": [
            "Epoch 1/30\n",
            "329/329 [==============================] - 14s 4ms/step - loss: 0.2612 - accuracy: 0.5626 - val_loss: 0.0700 - val_accuracy: 0.9071\n",
            "Epoch 2/30\n",
            "329/329 [==============================] - 1s 3ms/step - loss: 0.0615 - accuracy: 0.9149 - val_loss: 0.0483 - val_accuracy: 0.9330\n",
            "Epoch 3/30\n",
            "329/329 [==============================] - 1s 3ms/step - loss: 0.0444 - accuracy: 0.9371 - val_loss: 0.0390 - val_accuracy: 0.9441\n",
            "Epoch 4/30\n",
            "329/329 [==============================] - 1s 3ms/step - loss: 0.0358 - accuracy: 0.9507 - val_loss: 0.0337 - val_accuracy: 0.9534\n",
            "Epoch 5/30\n",
            "329/329 [==============================] - 1s 3ms/step - loss: 0.0292 - accuracy: 0.9610 - val_loss: 0.0307 - val_accuracy: 0.9569\n",
            "Epoch 6/30\n",
            "329/329 [==============================] - 1s 3ms/step - loss: 0.0261 - accuracy: 0.9645 - val_loss: 0.0287 - val_accuracy: 0.9595\n",
            "Epoch 7/30\n",
            "329/329 [==============================] - 1s 2ms/step - loss: 0.0230 - accuracy: 0.9690 - val_loss: 0.0275 - val_accuracy: 0.9605\n",
            "Epoch 8/30\n",
            "329/329 [==============================] - 1s 2ms/step - loss: 0.0200 - accuracy: 0.9728 - val_loss: 0.0249 - val_accuracy: 0.9661\n",
            "Epoch 9/30\n",
            "329/329 [==============================] - 1s 3ms/step - loss: 0.0186 - accuracy: 0.9758 - val_loss: 0.0240 - val_accuracy: 0.9667\n",
            "Epoch 10/30\n",
            "329/329 [==============================] - 1s 3ms/step - loss: 0.0168 - accuracy: 0.9783 - val_loss: 0.0235 - val_accuracy: 0.9674\n",
            "Epoch 11/30\n",
            "329/329 [==============================] - 1s 3ms/step - loss: 0.0152 - accuracy: 0.9811 - val_loss: 0.0227 - val_accuracy: 0.9682\n",
            "Epoch 12/30\n",
            "329/329 [==============================] - 1s 2ms/step - loss: 0.0137 - accuracy: 0.9829 - val_loss: 0.0216 - val_accuracy: 0.9698\n",
            "Epoch 13/30\n",
            "329/329 [==============================] - 1s 3ms/step - loss: 0.0124 - accuracy: 0.9845 - val_loss: 0.0212 - val_accuracy: 0.9703\n",
            "Epoch 14/30\n",
            "329/329 [==============================] - 1s 3ms/step - loss: 0.0120 - accuracy: 0.9850 - val_loss: 0.0211 - val_accuracy: 0.9704\n",
            "Epoch 15/30\n",
            "329/329 [==============================] - 1s 2ms/step - loss: 0.0104 - accuracy: 0.9877 - val_loss: 0.0210 - val_accuracy: 0.9706\n",
            "Epoch 16/30\n",
            "329/329 [==============================] - 1s 2ms/step - loss: 0.0098 - accuracy: 0.9885 - val_loss: 0.0215 - val_accuracy: 0.9708\n",
            "Epoch 17/30\n",
            "329/329 [==============================] - 1s 3ms/step - loss: 0.0088 - accuracy: 0.9891 - val_loss: 0.0210 - val_accuracy: 0.9721\n",
            "Epoch 18/30\n",
            "329/329 [==============================] - 1s 3ms/step - loss: 0.0079 - accuracy: 0.9903 - val_loss: 0.0222 - val_accuracy: 0.9712\n",
            "Epoch 19/30\n",
            "329/329 [==============================] - 1s 2ms/step - loss: 0.0072 - accuracy: 0.9921 - val_loss: 0.0207 - val_accuracy: 0.9726\n",
            "Epoch 20/30\n",
            "329/329 [==============================] - 1s 3ms/step - loss: 0.0063 - accuracy: 0.9931 - val_loss: 0.0215 - val_accuracy: 0.9729\n",
            "Epoch 21/30\n",
            "329/329 [==============================] - 1s 3ms/step - loss: 0.0057 - accuracy: 0.9946 - val_loss: 0.0213 - val_accuracy: 0.9718\n",
            "Epoch 22/30\n",
            "329/329 [==============================] - 1s 3ms/step - loss: 0.0051 - accuracy: 0.9950 - val_loss: 0.0209 - val_accuracy: 0.9736\n",
            "Epoch 23/30\n",
            "329/329 [==============================] - 1s 3ms/step - loss: 0.0050 - accuracy: 0.9951 - val_loss: 0.0213 - val_accuracy: 0.9736\n",
            "Epoch 24/30\n",
            "329/329 [==============================] - 1s 3ms/step - loss: 0.0045 - accuracy: 0.9958 - val_loss: 0.0221 - val_accuracy: 0.9732\n",
            "Epoch 25/30\n",
            "329/329 [==============================] - 1s 3ms/step - loss: 0.0039 - accuracy: 0.9968 - val_loss: 0.0217 - val_accuracy: 0.9737\n",
            "Epoch 26/30\n",
            "329/329 [==============================] - 1s 3ms/step - loss: 0.0041 - accuracy: 0.9963 - val_loss: 0.0230 - val_accuracy: 0.9722\n",
            "Epoch 27/30\n",
            "329/329 [==============================] - 1s 3ms/step - loss: 0.0037 - accuracy: 0.9967 - val_loss: 0.0236 - val_accuracy: 0.9719\n",
            "Epoch 28/30\n",
            "329/329 [==============================] - 1s 3ms/step - loss: 0.0028 - accuracy: 0.9982 - val_loss: 0.0232 - val_accuracy: 0.9728\n",
            "Epoch 29/30\n",
            "329/329 [==============================] - 1s 2ms/step - loss: 0.0027 - accuracy: 0.9982 - val_loss: 0.0241 - val_accuracy: 0.9721\n",
            "Epoch 30/30\n",
            "329/329 [==============================] - 1s 2ms/step - loss: 0.0024 - accuracy: 0.9985 - val_loss: 0.0241 - val_accuracy: 0.9727\n"
          ],
          "name": "stdout"
        }
      ]
    },
    {
      "cell_type": "code",
      "metadata": {
        "colab": {
          "base_uri": "https://localhost:8080/",
          "height": 350
        },
        "id": "sjNgi8SWKp7y",
        "outputId": "07511a32-d371-4bf7-9cf1-cfce2094914c"
      },
      "source": [
        "import matplotlib.pyplot as plt\n",
        "\n",
        "his_dict = history.history\n",
        "loss = his_dict['loss']\n",
        "val_loss = his_dict['val_loss'] # 검증 데이터가 있는 경우 ‘val_’ 수식어가 붙습니다.\n",
        "\n",
        "epochs = range(1, len(loss) + 1)\n",
        "fig = plt.figure(figsize = (10, 5))\n",
        "\n",
        "# 훈련 및 검증 손실 그리기\n",
        "ax1 = fig.add_subplot(1, 2, 1)\n",
        "ax1.plot(epochs, loss, color = 'blue', label = 'train_loss')\n",
        "ax1.plot(epochs, val_loss, color = 'orange', label = 'val_loss')\n",
        "ax1.set_title('train and val loss')\n",
        "ax1.set_xlabel('epochs')\n",
        "ax1.set_ylabel('loss')\n",
        "ax1.legend()\n",
        "\n",
        "acc = his_dict['accuracy']\n",
        "val_acc = his_dict['val_accuracy']\n",
        "\n",
        "# 훈련 및 검증 정확도 그리기\n",
        "ax2 = fig.add_subplot(1, 2, 2)\n",
        "ax2.plot(epochs, acc, color = 'blue', label = 'train_acc')\n",
        "ax2.plot(epochs, val_acc, color = 'orange', label = 'val_acc')\n",
        "ax2.set_title('train and val acc')\n",
        "ax2.set_xlabel('epochs')\n",
        "ax2.set_ylabel('loss')\n",
        "ax2.legend()\n",
        "\n",
        "plt.show()\n"
      ],
      "execution_count": 15,
      "outputs": [
        {
          "output_type": "display_data",
          "data": {
            "image/png": "[encoded data removed]",
            "text/plain": [
              "<Figure size 720x360 with 2 Axes>"
            ]
          },
          "metadata": {
            "tags": [],
            "needs_background": "light"
          }
        }
      ]
    },
    {
      "cell_type": "markdown",
      "metadata": {
        "id": "lDJb8_vKLXzG"
      },
      "source": [
        "예측 값 그려서 확인해보기"
      ]
    },
    {
      "cell_type": "code",
      "metadata": {
        "colab": {
          "base_uri": "https://localhost:8080/"
        },
        "id": "YF4-BzhDK4Ur",
        "outputId": "5b27d818-770d-4f84-caa9-846ed95b9360"
      },
      "source": [
        "import numpy as np\n",
        "np.set_printoptions(suppress=True)\n",
        "\n",
        "results = model.predict(x_test)\n",
        "print(results.shape)\n",
        "np.set_printoptions(precision=7) # numpy 소수점 제한\n",
        "print(f'각 클래스에 속할 확률 : \\n{results[0]}')"
      ],
      "execution_count": 16,
      "outputs": [
        {
          "output_type": "stream",
          "text": [
            "(10000, 10)\n",
            "각 클래스에 속할 확률 : \n",
            "[0. 0. 0. 0. 0. 0. 0. 1. 0. 0.]\n"
          ],
          "name": "stdout"
        }
      ]
    },
    {
      "cell_type": "code",
      "metadata": {
        "colab": {
          "base_uri": "https://localhost:8080/",
          "height": 281
        },
        "id": "0iVBDayPLbvE",
        "outputId": "23621b64-d1f1-4b3c-deea-1b7cae333bb3"
      },
      "source": [
        "import matplotlib.pyplot as plt\n",
        "\n",
        "arg_results = np.argmax(results, axis = -1) # 가장 큰 값의 인덱스를 가져옵니다.\n",
        "plt.imshow(x_test[0].reshape(28, 28))\n",
        "plt.title('Predicted value of the first image : ' + str(arg_results[0]))\n",
        "plt.show()\n"
      ],
      "execution_count": 17,
      "outputs": [
        {
          "output_type": "display_data",
          "data": {
            "image/png": "[encoded data removed]",
            "text/plain": [
              "<Figure size 432x288 with 1 Axes>"
            ]
          },
          "metadata": {
            "tags": [],
            "needs_background": "light"
          }
        }
      ]
    },
    {
      "cell_type": "markdown",
      "metadata": {
        "id": "6L0Hgn74LvmI"
      },
      "source": [
        "모델 평가 방법 1 - 혼동 행렬"
      ]
    },
    {
      "cell_type": "code",
      "metadata": {
        "colab": {
          "base_uri": "https://localhost:8080/",
          "height": 442
        },
        "id": "6bzG9bg0Ld1Q",
        "outputId": "c738ccef-780d-4435-9a43-a692d0279ec4"
      },
      "source": [
        "# sklearn.metrics 모듈은 여러가지 평가 지표에 관한 기능을 제공합니다.\n",
        "from sklearn.metrics import classification_report, confusion_matrix\n",
        "import matplotlib.pyplot as plt\n",
        "import seaborn as sns\n",
        "\n",
        "# 혼동 행렬을 만듭니다.\n",
        "plt.figure(figsize = (7, 7))\n",
        "cm = confusion_matrix(np.argmax(y_test, axis = -1), np.argmax(results, axis = -1))\n",
        "sns.heatmap(cm, annot = True, fmt = 'd',cmap = 'Blues')\n",
        "plt.xlabel('predicted label')\n",
        "plt.ylabel('true label')\n",
        "plt.show()\n"
      ],
      "execution_count": 18,
      "outputs": [
        {
          "output_type": "display_data",
          "data": {
            "image/png": "[encoded data removed]",
            "text/plain": [
              "<Figure size 504x504 with 2 Axes>"
            ]
          },
          "metadata": {
            "tags": [],
            "needs_background": "light"
          }
        }
      ]
    },
    {
      "cell_type": "markdown",
      "metadata": {
        "id": "0daUZp5QMkLA"
      },
      "source": [
        "모델 평가 방법 2 - 분류 보고서"
      ]
    },
    {
      "cell_type": "code",
      "metadata": {
        "colab": {
          "base_uri": "https://localhost:8080/"
        },
        "id": "WHkEJaNXL1ev",
        "outputId": "40d2fc4a-15d6-4841-fcc2-2d98ec8a3b7a"
      },
      "source": [
        "print('\\n', classification_report(np.argmax(y_test, axis = -1), np.argmax(results, axis = -1)))\n"
      ],
      "execution_count": 19,
      "outputs": [
        {
          "output_type": "stream",
          "text": [
            "\n",
            "               precision    recall  f1-score   support\n",
            "\n",
            "           0       0.97      0.99      0.98       980\n",
            "           1       0.99      0.99      0.99      1135\n",
            "           2       0.98      0.97      0.97      1032\n",
            "           3       0.96      0.99      0.97      1010\n",
            "           4       0.97      0.98      0.97       982\n",
            "           5       0.97      0.98      0.97       892\n",
            "           6       0.99      0.97      0.98       958\n",
            "           7       0.97      0.97      0.97      1028\n",
            "           8       0.96      0.96      0.96       974\n",
            "           9       0.98      0.96      0.97      1009\n",
            "\n",
            "    accuracy                           0.97     10000\n",
            "   macro avg       0.97      0.97      0.97     10000\n",
            "weighted avg       0.97      0.97      0.97     10000\n",
            "\n"
          ],
          "name": "stdout"
        }
      ]
    },
    {
      "cell_type": "code",
      "metadata": {
        "id": "T18MlPt9MnD0"
      },
      "source": [
        ""
      ],
      "execution_count": null,
      "outputs": []
    }
  ]
}